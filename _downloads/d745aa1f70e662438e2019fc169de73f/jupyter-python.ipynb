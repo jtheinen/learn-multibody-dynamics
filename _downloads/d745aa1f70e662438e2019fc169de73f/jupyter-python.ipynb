{
 "cells": [
  {
   "cell_type": "code",
   "execution_count": 1,
   "id": "b848224f",
   "metadata": {
    "execution": {
     "iopub.execute_input": "2022-05-10T14:39:28.349597Z",
     "iopub.status.busy": "2022-05-10T14:39:28.349281Z",
     "iopub.status.idle": "2022-05-10T14:39:28.362615Z",
     "shell.execute_reply": "2022-05-10T14:39:28.362061Z"
    }
   },
   "outputs": [
    {
     "data": {
      "application/json": {
       "cell": {
        "!": "OSMagics",
        "HTML": "Other",
        "SVG": "Other",
        "bash": "Other",
        "capture": "ExecutionMagics",
        "debug": "ExecutionMagics",
        "file": "Other",
        "html": "DisplayMagics",
        "javascript": "DisplayMagics",
        "js": "DisplayMagics",
        "latex": "DisplayMagics",
        "markdown": "DisplayMagics",
        "perl": "Other",
        "prun": "ExecutionMagics",
        "pypy": "Other",
        "python": "Other",
        "python2": "Other",
        "python3": "Other",
        "ruby": "Other",
        "script": "ScriptMagics",
        "sh": "Other",
        "svg": "DisplayMagics",
        "sx": "OSMagics",
        "system": "OSMagics",
        "time": "ExecutionMagics",
        "timeit": "ExecutionMagics",
        "writefile": "OSMagics"
       },
       "line": {
        "alias": "OSMagics",
        "alias_magic": "BasicMagics",
        "autoawait": "AsyncMagics",
        "autocall": "AutoMagics",
        "automagic": "AutoMagics",
        "autosave": "KernelMagics",
        "bookmark": "OSMagics",
        "cat": "Other",
        "cd": "OSMagics",
        "clear": "KernelMagics",
        "colors": "BasicMagics",
        "conda": "PackagingMagics",
        "config": "ConfigMagics",
        "connect_info": "KernelMagics",
        "cp": "Other",
        "debug": "ExecutionMagics",
        "dhist": "OSMagics",
        "dirs": "OSMagics",
        "doctest_mode": "BasicMagics",
        "ed": "Other",
        "edit": "KernelMagics",
        "env": "OSMagics",
        "gui": "BasicMagics",
        "hist": "Other",
        "history": "HistoryMagics",
        "killbgscripts": "ScriptMagics",
        "ldir": "Other",
        "less": "KernelMagics",
        "lf": "Other",
        "lk": "Other",
        "ll": "Other",
        "load": "CodeMagics",
        "load_ext": "ExtensionMagics",
        "loadpy": "CodeMagics",
        "logoff": "LoggingMagics",
        "logon": "LoggingMagics",
        "logstart": "LoggingMagics",
        "logstate": "LoggingMagics",
        "logstop": "LoggingMagics",
        "ls": "Other",
        "lsmagic": "BasicMagics",
        "lx": "Other",
        "macro": "ExecutionMagics",
        "magic": "BasicMagics",
        "man": "KernelMagics",
        "matplotlib": "PylabMagics",
        "mkdir": "Other",
        "more": "KernelMagics",
        "mv": "Other",
        "notebook": "BasicMagics",
        "page": "BasicMagics",
        "pastebin": "CodeMagics",
        "pdb": "ExecutionMagics",
        "pdef": "NamespaceMagics",
        "pdoc": "NamespaceMagics",
        "pfile": "NamespaceMagics",
        "pinfo": "NamespaceMagics",
        "pinfo2": "NamespaceMagics",
        "pip": "PackagingMagics",
        "popd": "OSMagics",
        "pprint": "BasicMagics",
        "precision": "BasicMagics",
        "prun": "ExecutionMagics",
        "psearch": "NamespaceMagics",
        "psource": "NamespaceMagics",
        "pushd": "OSMagics",
        "pwd": "OSMagics",
        "pycat": "OSMagics",
        "pylab": "PylabMagics",
        "qtconsole": "KernelMagics",
        "quickref": "BasicMagics",
        "recall": "HistoryMagics",
        "rehashx": "OSMagics",
        "reload_ext": "ExtensionMagics",
        "rep": "Other",
        "rerun": "HistoryMagics",
        "reset": "NamespaceMagics",
        "reset_selective": "NamespaceMagics",
        "rm": "Other",
        "rmdir": "Other",
        "run": "ExecutionMagics",
        "save": "CodeMagics",
        "sc": "OSMagics",
        "set_env": "OSMagics",
        "store": "StoreMagics",
        "sx": "OSMagics",
        "system": "OSMagics",
        "tb": "ExecutionMagics",
        "time": "ExecutionMagics",
        "timeit": "ExecutionMagics",
        "unalias": "OSMagics",
        "unload_ext": "ExtensionMagics",
        "who": "NamespaceMagics",
        "who_ls": "NamespaceMagics",
        "whos": "NamespaceMagics",
        "xdel": "NamespaceMagics",
        "xmode": "BasicMagics"
       }
      },
      "text/plain": [
       "Available line magics:\n",
       "%alias  %alias_magic  %autoawait  %autocall  %automagic  %autosave  %bookmark  %cat  %cd  %clear  %colors  %conda  %config  %connect_info  %cp  %debug  %dhist  %dirs  %doctest_mode  %ed  %edit  %env  %gui  %hist  %history  %killbgscripts  %ldir  %less  %lf  %lk  %ll  %load  %load_ext  %loadpy  %logoff  %logon  %logstart  %logstate  %logstop  %ls  %lsmagic  %lx  %macro  %magic  %man  %matplotlib  %mkdir  %more  %mv  %notebook  %page  %pastebin  %pdb  %pdef  %pdoc  %pfile  %pinfo  %pinfo2  %pip  %popd  %pprint  %precision  %prun  %psearch  %psource  %pushd  %pwd  %pycat  %pylab  %qtconsole  %quickref  %recall  %rehashx  %reload_ext  %rep  %rerun  %reset  %reset_selective  %rm  %rmdir  %run  %save  %sc  %set_env  %store  %sx  %system  %tb  %time  %timeit  %unalias  %unload_ext  %who  %who_ls  %whos  %xdel  %xmode\n",
       "\n",
       "Available cell magics:\n",
       "%%!  %%HTML  %%SVG  %%bash  %%capture  %%debug  %%file  %%html  %%javascript  %%js  %%latex  %%markdown  %%perl  %%prun  %%pypy  %%python  %%python2  %%python3  %%ruby  %%script  %%sh  %%svg  %%sx  %%system  %%time  %%timeit  %%writefile\n",
       "\n",
       "Automagic is ON, % prefix IS NOT needed for line magics."
      ]
     },
     "execution_count": 1,
     "metadata": {},
     "output_type": "execute_result"
    }
   ],
   "source": [
    "%lsmagic"
   ]
  },
  {
   "cell_type": "code",
   "execution_count": 2,
   "id": "20929634",
   "metadata": {
    "execution": {
     "iopub.execute_input": "2022-05-10T14:39:28.365591Z",
     "iopub.status.busy": "2022-05-10T14:39:28.365236Z",
     "iopub.status.idle": "2022-05-10T14:39:28.368933Z",
     "shell.execute_reply": "2022-05-10T14:39:28.368362Z"
    }
   },
   "outputs": [
    {
     "name": "stdout",
     "output_type": "stream",
     "text": [
      "Variable   Type    Data/Info\n",
      "----------------------------\n",
      "a          int     5\n"
     ]
    }
   ],
   "source": [
    "a = 5\n",
    "\n",
    "%whos"
   ]
  },
  {
   "cell_type": "code",
   "execution_count": 3,
   "id": "7554d1a1",
   "metadata": {
    "execution": {
     "iopub.execute_input": "2022-05-10T14:39:28.372369Z",
     "iopub.status.busy": "2022-05-10T14:39:28.372156Z",
     "iopub.status.idle": "2022-05-10T14:39:28.375025Z",
     "shell.execute_reply": "2022-05-10T14:39:28.374337Z"
    }
   },
   "outputs": [],
   "source": [
    "?"
   ]
  },
  {
   "cell_type": "code",
   "execution_count": 4,
   "id": "48636ad0",
   "metadata": {
    "execution": {
     "iopub.execute_input": "2022-05-10T14:39:28.377753Z",
     "iopub.status.busy": "2022-05-10T14:39:28.377279Z",
     "iopub.status.idle": "2022-05-10T14:39:28.381672Z",
     "shell.execute_reply": "2022-05-10T14:39:28.380957Z"
    }
   },
   "outputs": [],
   "source": [
    "%quickref"
   ]
  },
  {
   "cell_type": "code",
   "execution_count": 5,
   "id": "70252e73",
   "metadata": {
    "execution": {
     "iopub.execute_input": "2022-05-10T14:39:28.384314Z",
     "iopub.status.busy": "2022-05-10T14:39:28.383857Z",
     "iopub.status.idle": "2022-05-10T14:39:28.431023Z",
     "shell.execute_reply": "2022-05-10T14:39:28.429924Z"
    }
   },
   "outputs": [],
   "source": [
    "round?"
   ]
  },
  {
   "cell_type": "code",
   "execution_count": 6,
   "id": "5490202c",
   "metadata": {
    "execution": {
     "iopub.execute_input": "2022-05-10T14:39:28.433544Z",
     "iopub.status.busy": "2022-05-10T14:39:28.433313Z",
     "iopub.status.idle": "2022-05-10T14:39:28.438145Z",
     "shell.execute_reply": "2022-05-10T14:39:28.437563Z"
    }
   },
   "outputs": [
    {
     "data": {
      "text/plain": [
       "(int, float, float, str, str)"
      ]
     },
     "execution_count": 6,
     "metadata": {},
     "output_type": "execute_result"
    }
   ],
   "source": [
    "a = 5\n",
    "b = 5.0\n",
    "c = float(5)\n",
    "d = 'dee'\n",
    "e = 'e'\n",
    "\n",
    "type(a), type(b), type(c), type(d), type(e)"
   ]
  },
  {
   "cell_type": "code",
   "execution_count": 7,
   "id": "c1e11e9e",
   "metadata": {
    "execution": {
     "iopub.execute_input": "2022-05-10T14:39:28.441349Z",
     "iopub.status.busy": "2022-05-10T14:39:28.441028Z",
     "iopub.status.idle": "2022-05-10T14:39:28.445092Z",
     "shell.execute_reply": "2022-05-10T14:39:28.444534Z"
    }
   },
   "outputs": [],
   "source": [
    "empty_list = []\n",
    "\n",
    "string_list = ['lions', 'tigers', 'bears', 'sharks', 'hamsters']\n",
    "\n",
    "int_list = [0, 1, 2, 3, 4]\n",
    "\n",
    "int_list2 = list(range(5,10))\n",
    "\n",
    "list_from_variables = [a,b,c,d,e]\n",
    "\n",
    "list_of_lists = [empty_list,\n",
    "                 string_list,\n",
    "                 list_from_variables,\n",
    "                 int_list,\n",
    "                 int_list2]"
   ]
  },
  {
   "cell_type": "code",
   "execution_count": 8,
   "id": "af59a02f",
   "metadata": {
    "execution": {
     "iopub.execute_input": "2022-05-10T14:39:28.447618Z",
     "iopub.status.busy": "2022-05-10T14:39:28.447161Z",
     "iopub.status.idle": "2022-05-10T14:39:28.450896Z",
     "shell.execute_reply": "2022-05-10T14:39:28.450348Z"
    }
   },
   "outputs": [
    {
     "data": {
      "text/plain": [
       "[]"
      ]
     },
     "execution_count": 8,
     "metadata": {},
     "output_type": "execute_result"
    }
   ],
   "source": [
    "empty_list"
   ]
  },
  {
   "cell_type": "code",
   "execution_count": 9,
   "id": "bed63645",
   "metadata": {
    "execution": {
     "iopub.execute_input": "2022-05-10T14:39:28.453685Z",
     "iopub.status.busy": "2022-05-10T14:39:28.453273Z",
     "iopub.status.idle": "2022-05-10T14:39:28.457003Z",
     "shell.execute_reply": "2022-05-10T14:39:28.456459Z"
    }
   },
   "outputs": [
    {
     "data": {
      "text/plain": [
       "['lions', 'tigers', 'bears', 'sharks', 'hamsters']"
      ]
     },
     "execution_count": 9,
     "metadata": {},
     "output_type": "execute_result"
    }
   ],
   "source": [
    "string_list"
   ]
  },
  {
   "cell_type": "code",
   "execution_count": 10,
   "id": "b9f942c0",
   "metadata": {
    "execution": {
     "iopub.execute_input": "2022-05-10T14:39:28.459862Z",
     "iopub.status.busy": "2022-05-10T14:39:28.459408Z",
     "iopub.status.idle": "2022-05-10T14:39:28.463195Z",
     "shell.execute_reply": "2022-05-10T14:39:28.462644Z"
    }
   },
   "outputs": [
    {
     "data": {
      "text/plain": [
       "[0, 1, 2, 3, 4]"
      ]
     },
     "execution_count": 10,
     "metadata": {},
     "output_type": "execute_result"
    }
   ],
   "source": [
    "int_list"
   ]
  },
  {
   "cell_type": "code",
   "execution_count": 11,
   "id": "e176e9da",
   "metadata": {
    "execution": {
     "iopub.execute_input": "2022-05-10T14:39:28.466189Z",
     "iopub.status.busy": "2022-05-10T14:39:28.465733Z",
     "iopub.status.idle": "2022-05-10T14:39:28.469486Z",
     "shell.execute_reply": "2022-05-10T14:39:28.468924Z"
    }
   },
   "outputs": [
    {
     "data": {
      "text/plain": [
       "[5, 6, 7, 8, 9]"
      ]
     },
     "execution_count": 11,
     "metadata": {},
     "output_type": "execute_result"
    }
   ],
   "source": [
    "int_list2"
   ]
  },
  {
   "cell_type": "code",
   "execution_count": 12,
   "id": "5ad43ba4",
   "metadata": {
    "execution": {
     "iopub.execute_input": "2022-05-10T14:39:28.472782Z",
     "iopub.status.busy": "2022-05-10T14:39:28.472390Z",
     "iopub.status.idle": "2022-05-10T14:39:28.476160Z",
     "shell.execute_reply": "2022-05-10T14:39:28.475608Z"
    }
   },
   "outputs": [
    {
     "data": {
      "text/plain": [
       "[5, 5.0, 5.0, 'dee', 'e']"
      ]
     },
     "execution_count": 12,
     "metadata": {},
     "output_type": "execute_result"
    }
   ],
   "source": [
    "list_from_variables"
   ]
  },
  {
   "cell_type": "code",
   "execution_count": 13,
   "id": "434a20bc",
   "metadata": {
    "execution": {
     "iopub.execute_input": "2022-05-10T14:39:28.478964Z",
     "iopub.status.busy": "2022-05-10T14:39:28.478648Z",
     "iopub.status.idle": "2022-05-10T14:39:28.482780Z",
     "shell.execute_reply": "2022-05-10T14:39:28.482230Z"
    }
   },
   "outputs": [
    {
     "data": {
      "text/plain": [
       "[[],\n",
       " ['lions', 'tigers', 'bears', 'sharks', 'hamsters'],\n",
       " [5, 5.0, 5.0, 'dee', 'e'],\n",
       " [0, 1, 2, 3, 4],\n",
       " [5, 6, 7, 8, 9]]"
      ]
     },
     "execution_count": 13,
     "metadata": {},
     "output_type": "execute_result"
    }
   ],
   "source": [
    "list_of_lists"
   ]
  },
  {
   "cell_type": "code",
   "execution_count": 14,
   "id": "d7a7bcfd",
   "metadata": {
    "execution": {
     "iopub.execute_input": "2022-05-10T14:39:28.485605Z",
     "iopub.status.busy": "2022-05-10T14:39:28.485135Z",
     "iopub.status.idle": "2022-05-10T14:39:28.488901Z",
     "shell.execute_reply": "2022-05-10T14:39:28.488333Z"
    }
   },
   "outputs": [
    {
     "data": {
      "text/plain": [
       "'lions'"
      ]
     },
     "execution_count": 14,
     "metadata": {},
     "output_type": "execute_result"
    }
   ],
   "source": [
    "string_list[0]"
   ]
  },
  {
   "cell_type": "code",
   "execution_count": 15,
   "id": "76e4c9d4",
   "metadata": {
    "execution": {
     "iopub.execute_input": "2022-05-10T14:39:28.491763Z",
     "iopub.status.busy": "2022-05-10T14:39:28.491310Z",
     "iopub.status.idle": "2022-05-10T14:39:28.495134Z",
     "shell.execute_reply": "2022-05-10T14:39:28.494585Z"
    }
   },
   "outputs": [
    {
     "data": {
      "text/plain": [
       "['tigers', 'bears', 'sharks']"
      ]
     },
     "execution_count": 15,
     "metadata": {},
     "output_type": "execute_result"
    }
   ],
   "source": [
    "string_list[1:4]"
   ]
  },
  {
   "cell_type": "code",
   "execution_count": 16,
   "id": "94bb193d",
   "metadata": {
    "execution": {
     "iopub.execute_input": "2022-05-10T14:39:28.497738Z",
     "iopub.status.busy": "2022-05-10T14:39:28.497525Z",
     "iopub.status.idle": "2022-05-10T14:39:28.501289Z",
     "shell.execute_reply": "2022-05-10T14:39:28.500729Z"
    }
   },
   "outputs": [
    {
     "data": {
      "text/plain": [
       "[0, 2, 4]"
      ]
     },
     "execution_count": 16,
     "metadata": {},
     "output_type": "execute_result"
    }
   ],
   "source": [
    "int_list[::2]"
   ]
  },
  {
   "cell_type": "code",
   "execution_count": 17,
   "id": "764019dd",
   "metadata": {
    "execution": {
     "iopub.execute_input": "2022-05-10T14:39:28.504153Z",
     "iopub.status.busy": "2022-05-10T14:39:28.503684Z",
     "iopub.status.idle": "2022-05-10T14:39:28.507450Z",
     "shell.execute_reply": "2022-05-10T14:39:28.506907Z"
    }
   },
   "outputs": [
    {
     "data": {
      "text/plain": [
       "'hamsters'"
      ]
     },
     "execution_count": 17,
     "metadata": {},
     "output_type": "execute_result"
    }
   ],
   "source": [
    "list_of_lists[1][4]"
   ]
  },
  {
   "cell_type": "code",
   "execution_count": 18,
   "id": "233b5bc0",
   "metadata": {
    "execution": {
     "iopub.execute_input": "2022-05-10T14:39:28.510286Z",
     "iopub.status.busy": "2022-05-10T14:39:28.509832Z",
     "iopub.status.idle": "2022-05-10T14:39:28.513003Z",
     "shell.execute_reply": "2022-05-10T14:39:28.512446Z"
    }
   },
   "outputs": [],
   "source": [
    "int_list[2] = 222\n",
    "\n",
    "int_list.append(5)\n",
    "\n",
    "string_list.remove('lions')\n",
    "\n",
    "list_from_variables.extend(int_list)"
   ]
  },
  {
   "cell_type": "code",
   "execution_count": 19,
   "id": "3eabeee2",
   "metadata": {
    "execution": {
     "iopub.execute_input": "2022-05-10T14:39:28.515478Z",
     "iopub.status.busy": "2022-05-10T14:39:28.514964Z",
     "iopub.status.idle": "2022-05-10T14:39:28.518793Z",
     "shell.execute_reply": "2022-05-10T14:39:28.518230Z"
    }
   },
   "outputs": [
    {
     "data": {
      "text/plain": [
       "[0, 1, 222, 3, 4, 5]"
      ]
     },
     "execution_count": 19,
     "metadata": {},
     "output_type": "execute_result"
    }
   ],
   "source": [
    "int_list"
   ]
  },
  {
   "cell_type": "code",
   "execution_count": 20,
   "id": "3eb92edd",
   "metadata": {
    "execution": {
     "iopub.execute_input": "2022-05-10T14:39:28.521195Z",
     "iopub.status.busy": "2022-05-10T14:39:28.520740Z",
     "iopub.status.idle": "2022-05-10T14:39:28.524442Z",
     "shell.execute_reply": "2022-05-10T14:39:28.523915Z"
    }
   },
   "outputs": [
    {
     "data": {
      "text/plain": [
       "['tigers', 'bears', 'sharks', 'hamsters']"
      ]
     },
     "execution_count": 20,
     "metadata": {},
     "output_type": "execute_result"
    }
   ],
   "source": [
    "string_list"
   ]
  },
  {
   "cell_type": "code",
   "execution_count": 21,
   "id": "a9839d75",
   "metadata": {
    "execution": {
     "iopub.execute_input": "2022-05-10T14:39:28.526878Z",
     "iopub.status.busy": "2022-05-10T14:39:28.526425Z",
     "iopub.status.idle": "2022-05-10T14:39:28.530312Z",
     "shell.execute_reply": "2022-05-10T14:39:28.529766Z"
    }
   },
   "outputs": [
    {
     "data": {
      "text/plain": [
       "[5, 5.0, 5.0, 'dee', 'e', 0, 1, 222, 3, 4, 5]"
      ]
     },
     "execution_count": 21,
     "metadata": {},
     "output_type": "execute_result"
    }
   ],
   "source": [
    "list_from_variables"
   ]
  },
  {
   "cell_type": "code",
   "execution_count": 22,
   "id": "14b08b89",
   "metadata": {
    "execution": {
     "iopub.execute_input": "2022-05-10T14:39:28.533147Z",
     "iopub.status.busy": "2022-05-10T14:39:28.532691Z",
     "iopub.status.idle": "2022-05-10T14:39:28.536598Z",
     "shell.execute_reply": "2022-05-10T14:39:28.536058Z"
    }
   },
   "outputs": [
    {
     "data": {
      "text/plain": [
       "(32, 'tall', 'likes hats')"
      ]
     },
     "execution_count": 22,
     "metadata": {},
     "output_type": "execute_result"
    }
   ],
   "source": [
    "joe_blow = (32, 'tall', 'likes hats')\n",
    "joe_blow"
   ]
  },
  {
   "cell_type": "code",
   "execution_count": 23,
   "id": "029a2e56",
   "metadata": {
    "execution": {
     "iopub.execute_input": "2022-05-10T14:39:28.539459Z",
     "iopub.status.busy": "2022-05-10T14:39:28.539006Z",
     "iopub.status.idle": "2022-05-10T14:39:28.542727Z",
     "shell.execute_reply": "2022-05-10T14:39:28.542177Z"
    }
   },
   "outputs": [
    {
     "data": {
      "text/plain": [
       "'tall'"
      ]
     },
     "execution_count": 23,
     "metadata": {},
     "output_type": "execute_result"
    }
   ],
   "source": [
    "joe_blow[1]"
   ]
  },
  {
   "cell_type": "code",
   "execution_count": 24,
   "id": "8fe5fd51",
   "metadata": {
    "execution": {
     "iopub.execute_input": "2022-05-10T14:39:28.545548Z",
     "iopub.status.busy": "2022-05-10T14:39:28.545084Z",
     "iopub.status.idle": "2022-05-10T14:39:28.988395Z",
     "shell.execute_reply": "2022-05-10T14:39:28.987743Z"
    }
   },
   "outputs": [
    {
     "ename": "AttributeError",
     "evalue": "'tuple' object has no attribute 'append'",
     "output_type": "error",
     "traceback": [
      "\u001b[0;31m---------------------------------------------------------------------------\u001b[0m",
      "\u001b[0;31mAttributeError\u001b[0m                            Traceback (most recent call last)",
      "Input \u001b[0;32mIn [24]\u001b[0m, in \u001b[0;36m<cell line: 1>\u001b[0;34m()\u001b[0m\n\u001b[0;32m----> 1\u001b[0m \u001b[43mjoe_blow\u001b[49m\u001b[38;5;241;43m.\u001b[39;49m\u001b[43mappend\u001b[49m(\u001b[38;5;124m'\u001b[39m\u001b[38;5;124mmarried\u001b[39m\u001b[38;5;124m'\u001b[39m)\n",
      "\u001b[0;31mAttributeError\u001b[0m: 'tuple' object has no attribute 'append'"
     ]
    }
   ],
   "source": [
    "joe_blow.append('married')"
   ]
  },
  {
   "cell_type": "code",
   "execution_count": 25,
   "id": "92fc3396",
   "metadata": {
    "execution": {
     "iopub.execute_input": "2022-05-10T14:39:28.991517Z",
     "iopub.status.busy": "2022-05-10T14:39:28.991016Z",
     "iopub.status.idle": "2022-05-10T14:39:29.004452Z",
     "shell.execute_reply": "2022-05-10T14:39:29.003906Z"
    }
   },
   "outputs": [
    {
     "ename": "TypeError",
     "evalue": "'tuple' object does not support item assignment",
     "output_type": "error",
     "traceback": [
      "\u001b[0;31m---------------------------------------------------------------------------\u001b[0m",
      "\u001b[0;31mTypeError\u001b[0m                                 Traceback (most recent call last)",
      "Input \u001b[0;32mIn [25]\u001b[0m, in \u001b[0;36m<cell line: 1>\u001b[0;34m()\u001b[0m\n\u001b[0;32m----> 1\u001b[0m joe_blow[\u001b[38;5;241m2\u001b[39m] \u001b[38;5;241m=\u001b[39m \u001b[38;5;124m'\u001b[39m\u001b[38;5;124mnot really a fan of hats\u001b[39m\u001b[38;5;124m'\u001b[39m\n",
      "\u001b[0;31mTypeError\u001b[0m: 'tuple' object does not support item assignment"
     ]
    }
   ],
   "source": [
    "joe_blow[2] = 'not really a fan of hats'"
   ]
  },
  {
   "cell_type": "code",
   "execution_count": 26,
   "id": "5334cb5e",
   "metadata": {
    "execution": {
     "iopub.execute_input": "2022-05-10T14:39:29.007344Z",
     "iopub.status.busy": "2022-05-10T14:39:29.006866Z",
     "iopub.status.idle": "2022-05-10T14:39:29.011119Z",
     "shell.execute_reply": "2022-05-10T14:39:29.010566Z"
    }
   },
   "outputs": [
    {
     "data": {
      "text/plain": [
       "'elephant'"
      ]
     },
     "execution_count": 26,
     "metadata": {},
     "output_type": "execute_result"
    }
   ],
   "source": [
    "pets = ('elephant', 'cow', 'rock')\n",
    "\n",
    "pet1, pet2, pet3 = pets\n",
    "\n",
    "pet1"
   ]
  },
  {
   "cell_type": "code",
   "execution_count": 27,
   "id": "2599b720",
   "metadata": {
    "execution": {
     "iopub.execute_input": "2022-05-10T14:39:29.014002Z",
     "iopub.status.busy": "2022-05-10T14:39:29.013543Z",
     "iopub.status.idle": "2022-05-10T14:39:29.017348Z",
     "shell.execute_reply": "2022-05-10T14:39:29.016804Z"
    }
   },
   "outputs": [
    {
     "data": {
      "text/plain": [
       "('elephant',)"
      ]
     },
     "execution_count": 27,
     "metadata": {},
     "output_type": "execute_result"
    }
   ],
   "source": [
    "tuple_with_one_item = pet1,\n",
    "\n",
    "tuple_with_one_item"
   ]
  },
  {
   "cell_type": "code",
   "execution_count": 28,
   "id": "877904c8",
   "metadata": {
    "execution": {
     "iopub.execute_input": "2022-05-10T14:39:29.020206Z",
     "iopub.status.busy": "2022-05-10T14:39:29.019750Z",
     "iopub.status.idle": "2022-05-10T14:39:29.023920Z",
     "shell.execute_reply": "2022-05-10T14:39:29.023378Z"
    }
   },
   "outputs": [
    {
     "data": {
      "text/plain": [
       "{'key1': 'value1', 'key2': 'value2', 'key3': 'value3'}"
      ]
     },
     "execution_count": 28,
     "metadata": {},
     "output_type": "execute_result"
    }
   ],
   "source": [
    "dictionary0 = {'key1': 'value1', 'key2': 'value2', 'key3': 'value3'}\n",
    "dictionary0"
   ]
  },
  {
   "cell_type": "code",
   "execution_count": 29,
   "id": "6b99bf37",
   "metadata": {
    "execution": {
     "iopub.execute_input": "2022-05-10T14:39:29.026544Z",
     "iopub.status.busy": "2022-05-10T14:39:29.026334Z",
     "iopub.status.idle": "2022-05-10T14:39:29.030389Z",
     "shell.execute_reply": "2022-05-10T14:39:29.029835Z"
    }
   },
   "outputs": [
    {
     "data": {
      "text/plain": [
       "{1: 'value1', 2: 'value2', 3: 'value3'}"
      ]
     },
     "execution_count": 29,
     "metadata": {},
     "output_type": "execute_result"
    }
   ],
   "source": [
    "dictionary1 = {1: 'value1', 2: 'value2', 3: 'value3'}\n",
    "dictionary1"
   ]
  },
  {
   "cell_type": "code",
   "execution_count": 30,
   "id": "a572f238",
   "metadata": {
    "execution": {
     "iopub.execute_input": "2022-05-10T14:39:29.033210Z",
     "iopub.status.busy": "2022-05-10T14:39:29.032756Z",
     "iopub.status.idle": "2022-05-10T14:39:29.036726Z",
     "shell.execute_reply": "2022-05-10T14:39:29.036202Z"
    }
   },
   "outputs": [
    {
     "data": {
      "text/plain": [
       "[1, 2, 3]"
      ]
     },
     "execution_count": 30,
     "metadata": {},
     "output_type": "execute_result"
    }
   ],
   "source": [
    "list(dictionary1.keys())"
   ]
  },
  {
   "cell_type": "code",
   "execution_count": 31,
   "id": "34184949",
   "metadata": {
    "execution": {
     "iopub.execute_input": "2022-05-10T14:39:29.039568Z",
     "iopub.status.busy": "2022-05-10T14:39:29.039112Z",
     "iopub.status.idle": "2022-05-10T14:39:29.043077Z",
     "shell.execute_reply": "2022-05-10T14:39:29.042544Z"
    }
   },
   "outputs": [
    {
     "data": {
      "text/plain": [
       "['value1', 'value2', 'value3']"
      ]
     },
     "execution_count": 31,
     "metadata": {},
     "output_type": "execute_result"
    }
   ],
   "source": [
    "list(dictionary1.values())"
   ]
  },
  {
   "cell_type": "code",
   "execution_count": 32,
   "id": "e3b3a487",
   "metadata": {
    "execution": {
     "iopub.execute_input": "2022-05-10T14:39:29.045853Z",
     "iopub.status.busy": "2022-05-10T14:39:29.045459Z",
     "iopub.status.idle": "2022-05-10T14:39:29.049573Z",
     "shell.execute_reply": "2022-05-10T14:39:29.049019Z"
    }
   },
   "outputs": [
    {
     "data": {
      "text/plain": [
       "50"
      ]
     },
     "execution_count": 32,
     "metadata": {},
     "output_type": "execute_result"
    }
   ],
   "source": [
    "cylinder = {'mass': 50, 'base': 10, 'height': 100}\n",
    "cylinder['mass']"
   ]
  },
  {
   "cell_type": "code",
   "execution_count": 33,
   "id": "df8181b3",
   "metadata": {
    "execution": {
     "iopub.execute_input": "2022-05-10T14:39:29.052382Z",
     "iopub.status.busy": "2022-05-10T14:39:29.051924Z",
     "iopub.status.idle": "2022-05-10T14:39:29.056417Z",
     "shell.execute_reply": "2022-05-10T14:39:29.055867Z"
    }
   },
   "outputs": [
    {
     "data": {
      "text/plain": [
       "{'mass01': 10, 'inertia01': 1, 'mass02': 50, 'inertia02': 5}"
      ]
     },
     "execution_count": 33,
     "metadata": {},
     "output_type": "execute_result"
    }
   ],
   "source": [
    "keys = ['mass01', 'inertia01', 'mass02', 'inertia02']\n",
    "values = [10, 1, 50, 5]\n",
    "dict(zip(keys, values))"
   ]
  },
  {
   "cell_type": "code",
   "execution_count": 34,
   "id": "108f0623",
   "metadata": {
    "execution": {
     "iopub.execute_input": "2022-05-10T14:39:29.059656Z",
     "iopub.status.busy": "2022-05-10T14:39:29.059258Z",
     "iopub.status.idle": "2022-05-10T14:39:29.063527Z",
     "shell.execute_reply": "2022-05-10T14:39:29.062981Z"
    }
   },
   "outputs": [
    {
     "data": {
      "text/plain": [
       "100"
      ]
     },
     "execution_count": 34,
     "metadata": {},
     "output_type": "execute_result"
    }
   ],
   "source": [
    "def abs_value(A):\n",
    "    if A < 0:\n",
    "        A = -A\n",
    "    return A\n",
    "\n",
    "abs_value(-100)"
   ]
  },
  {
   "cell_type": "code",
   "execution_count": 35,
   "id": "bbdb24d5",
   "metadata": {
    "execution": {
     "iopub.execute_input": "2022-05-10T14:39:29.066375Z",
     "iopub.status.busy": "2022-05-10T14:39:29.065913Z",
     "iopub.status.idle": "2022-05-10T14:39:29.069719Z",
     "shell.execute_reply": "2022-05-10T14:39:29.069160Z"
    }
   },
   "outputs": [
    {
     "data": {
      "text/plain": [
       "123"
      ]
     },
     "execution_count": 35,
     "metadata": {},
     "output_type": "execute_result"
    }
   ],
   "source": [
    "abs_value(123)"
   ]
  },
  {
   "cell_type": "code",
   "execution_count": 36,
   "id": "e48865d7",
   "metadata": {
    "execution": {
     "iopub.execute_input": "2022-05-10T14:39:29.072612Z",
     "iopub.status.busy": "2022-05-10T14:39:29.072154Z",
     "iopub.status.idle": "2022-05-10T14:39:29.075287Z",
     "shell.execute_reply": "2022-05-10T14:39:29.074734Z"
    }
   },
   "outputs": [],
   "source": [
    "def long_div(dividend, divisor):\n",
    "    quotient = dividend // divisor  # // : floor division\n",
    "    remainder = dividend % divisor  # % : modulo\n",
    "    return quotient, remainder"
   ]
  },
  {
   "cell_type": "code",
   "execution_count": 37,
   "id": "255e37c8",
   "metadata": {
    "execution": {
     "iopub.execute_input": "2022-05-10T14:39:29.077687Z",
     "iopub.status.busy": "2022-05-10T14:39:29.077187Z",
     "iopub.status.idle": "2022-05-10T14:39:29.083294Z",
     "shell.execute_reply": "2022-05-10T14:39:29.082426Z"
    }
   },
   "outputs": [
    {
     "data": {
      "text/plain": [
       "(17, 5)"
      ]
     },
     "execution_count": 37,
     "metadata": {},
     "output_type": "execute_result"
    }
   ],
   "source": [
    "a = 430\n",
    "b = 25\n",
    "\n",
    "quo, rem = long_div(a, b)\n",
    "\n",
    "quo, rem"
   ]
  },
  {
   "cell_type": "code",
   "execution_count": 38,
   "id": "ff908e28",
   "metadata": {
    "execution": {
     "iopub.execute_input": "2022-05-10T14:39:29.085781Z",
     "iopub.status.busy": "2022-05-10T14:39:29.085469Z",
     "iopub.status.idle": "2022-05-10T14:39:29.088626Z",
     "shell.execute_reply": "2022-05-10T14:39:29.088190Z"
    }
   },
   "outputs": [
    {
     "name": "stdout",
     "output_type": "stream",
     "text": [
      "430 divided 25 is 17 remainder 5\n"
     ]
    }
   ],
   "source": [
    "msg = '{} divided {} is {} remainder {}'.format(a, b, quo, rem)\n",
    "print(msg)"
   ]
  },
  {
   "cell_type": "code",
   "execution_count": 39,
   "id": "089c04ba",
   "metadata": {
    "execution": {
     "iopub.execute_input": "2022-05-10T14:39:29.090845Z",
     "iopub.status.busy": "2022-05-10T14:39:29.090451Z",
     "iopub.status.idle": "2022-05-10T14:39:29.093610Z",
     "shell.execute_reply": "2022-05-10T14:39:29.093019Z"
    }
   },
   "outputs": [
    {
     "name": "stdout",
     "output_type": "stream",
     "text": [
      "3.9.12 (main, Mar 24 2022, 17:53:18) \n",
      "[GCC 9.4.0]\n"
     ]
    }
   ],
   "source": [
    "import sys\n",
    "\n",
    "print(sys.version)"
   ]
  },
  {
   "cell_type": "code",
   "execution_count": 40,
   "id": "6324fffb",
   "metadata": {
    "execution": {
     "iopub.execute_input": "2022-05-10T14:39:29.096656Z",
     "iopub.status.busy": "2022-05-10T14:39:29.096198Z",
     "iopub.status.idle": "2022-05-10T14:39:29.099366Z",
     "shell.execute_reply": "2022-05-10T14:39:29.098803Z"
    }
   },
   "outputs": [
    {
     "name": "stdout",
     "output_type": "stream",
     "text": [
      "3.9.12 (main, Mar 24 2022, 17:53:18) \n",
      "[GCC 9.4.0]\n"
     ]
    }
   ],
   "source": [
    "from sys import version\n",
    "\n",
    "print(version)"
   ]
  },
  {
   "cell_type": "code",
   "execution_count": 41,
   "id": "c0881d39",
   "metadata": {
    "execution": {
     "iopub.execute_input": "2022-05-10T14:39:29.102344Z",
     "iopub.status.busy": "2022-05-10T14:39:29.101887Z",
     "iopub.status.idle": "2022-05-10T14:39:30.105340Z",
     "shell.execute_reply": "2022-05-10T14:39:30.104705Z"
    }
   },
   "outputs": [],
   "source": [
    "import sympy as sm\n",
    "import numpy as np\n",
    "import scipy as sp\n",
    "import matplotlib.pyplot as plt"
   ]
  },
  {
   "cell_type": "code",
   "execution_count": 42,
   "id": "1515c02f",
   "metadata": {
    "execution": {
     "iopub.execute_input": "2022-05-10T14:39:30.108314Z",
     "iopub.status.busy": "2022-05-10T14:39:30.107790Z",
     "iopub.status.idle": "2022-05-10T14:39:30.115250Z",
     "shell.execute_reply": "2022-05-10T14:39:30.114724Z"
    }
   },
   "outputs": [
    {
     "data": {
      "text/latex": [
       "$\\displaystyle 0.843853958732492$"
      ],
      "text/plain": [
       "0.843853958732492"
      ]
     },
     "execution_count": 42,
     "metadata": {},
     "output_type": "execute_result"
    }
   ],
   "source": [
    "sm.cos(12.0)"
   ]
  },
  {
   "cell_type": "code",
   "execution_count": 43,
   "id": "de99a6b3",
   "metadata": {
    "execution": {
     "iopub.execute_input": "2022-05-10T14:39:30.117701Z",
     "iopub.status.busy": "2022-05-10T14:39:30.117182Z",
     "iopub.status.idle": "2022-05-10T14:39:30.122985Z",
     "shell.execute_reply": "2022-05-10T14:39:30.122402Z"
    }
   },
   "outputs": [
    {
     "data": {
      "text/plain": [
       "0.8438539587324921"
      ]
     },
     "execution_count": 43,
     "metadata": {},
     "output_type": "execute_result"
    }
   ],
   "source": [
    "np.cos(12.0)"
   ]
  },
  {
   "cell_type": "code",
   "execution_count": 44,
   "id": "3f353b09",
   "metadata": {
    "execution": {
     "iopub.execute_input": "2022-05-10T14:39:30.125469Z",
     "iopub.status.busy": "2022-05-10T14:39:30.125142Z",
     "iopub.status.idle": "2022-05-10T14:39:30.132025Z",
     "shell.execute_reply": "2022-05-10T14:39:30.131211Z"
    }
   },
   "outputs": [
    {
     "name": "stderr",
     "output_type": "stream",
     "text": [
      "/tmp/ipykernel_2556/3139199006.py:1: DeprecationWarning: scipy.cos is deprecated and will be removed in SciPy 2.0.0, use numpy.cos instead\n",
      "  sp.cos(12.0)\n"
     ]
    },
    {
     "data": {
      "text/plain": [
       "0.8438539587324921"
      ]
     },
     "execution_count": 44,
     "metadata": {},
     "output_type": "execute_result"
    }
   ],
   "source": [
    "sp.cos(12.0)"
   ]
  }
 ],
 "metadata": {
  "kernelspec": {
   "display_name": "Python 3 (ipykernel)",
   "language": "python",
   "name": "python3"
  },
  "language_info": {
   "codemirror_mode": {
    "name": "ipython",
    "version": 3
   },
   "file_extension": ".py",
   "mimetype": "text/x-python",
   "name": "python",
   "nbconvert_exporter": "python",
   "pygments_lexer": "ipython3",
   "version": "3.9.12"
  }
 },
 "nbformat": 4,
 "nbformat_minor": 5
}