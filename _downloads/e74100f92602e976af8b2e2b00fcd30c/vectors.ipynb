{
 "cells": [
  {
   "cell_type": "code",
   "execution_count": 1,
   "id": "9da34f4b",
   "metadata": {
    "execution": {
     "iopub.execute_input": "2022-05-10T14:40:18.072132Z",
     "iopub.status.busy": "2022-05-10T14:40:18.071829Z",
     "iopub.status.idle": "2022-05-10T14:40:18.604157Z",
     "shell.execute_reply": "2022-05-10T14:40:18.603531Z"
    }
   },
   "outputs": [],
   "source": [
    "import sympy as sm\n",
    "import sympy.physics.mechanics as me\n",
    "sm.init_printing(use_latex='mathjax')"
   ]
  },
  {
   "cell_type": "code",
   "execution_count": 2,
   "id": "824b133e",
   "metadata": {
    "execution": {
     "iopub.execute_input": "2022-05-10T14:40:18.607592Z",
     "iopub.status.busy": "2022-05-10T14:40:18.607302Z",
     "iopub.status.idle": "2022-05-10T14:40:18.610966Z",
     "shell.execute_reply": "2022-05-10T14:40:18.610384Z"
    }
   },
   "outputs": [],
   "source": [
    "N = me.ReferenceFrame('N')"
   ]
  },
  {
   "cell_type": "code",
   "execution_count": 3,
   "id": "416ef656",
   "metadata": {
    "execution": {
     "iopub.execute_input": "2022-05-10T14:40:18.613841Z",
     "iopub.status.busy": "2022-05-10T14:40:18.613285Z",
     "iopub.status.idle": "2022-05-10T14:40:18.617464Z",
     "shell.execute_reply": "2022-05-10T14:40:18.616892Z"
    }
   },
   "outputs": [],
   "source": [
    "a, b, c, d, e, f = sm.symbols('a, b, c, d, e, f')"
   ]
  },
  {
   "cell_type": "code",
   "execution_count": 4,
   "id": "23d5c13d",
   "metadata": {
    "execution": {
     "iopub.execute_input": "2022-05-10T14:40:18.619942Z",
     "iopub.status.busy": "2022-05-10T14:40:18.619631Z",
     "iopub.status.idle": "2022-05-10T14:40:18.628285Z",
     "shell.execute_reply": "2022-05-10T14:40:18.627787Z"
    }
   },
   "outputs": [
    {
     "data": {
      "text/latex": [
       "$\\displaystyle a\\mathbf{\\hat{n}_x}$"
      ],
      "text/plain": [
       "a n_x"
      ]
     },
     "execution_count": 4,
     "metadata": {},
     "output_type": "execute_result"
    }
   ],
   "source": [
    "v = a*N.x\n",
    "v"
   ]
  },
  {
   "cell_type": "code",
   "execution_count": 5,
   "id": "c7253e60",
   "metadata": {
    "execution": {
     "iopub.execute_input": "2022-05-10T14:40:18.630626Z",
     "iopub.status.busy": "2022-05-10T14:40:18.630227Z",
     "iopub.status.idle": "2022-05-10T14:40:18.637973Z",
     "shell.execute_reply": "2022-05-10T14:40:18.637476Z"
    }
   },
   "outputs": [
    {
     "data": {
      "text/latex": [
       "$\\displaystyle \\left[\\begin{matrix}a\\\\0\\\\0\\end{matrix}\\right]$"
      ],
      "text/plain": [
       "⎡a⎤\n",
       "⎢ ⎥\n",
       "⎢0⎥\n",
       "⎢ ⎥\n",
       "⎣0⎦"
      ]
     },
     "execution_count": 5,
     "metadata": {},
     "output_type": "execute_result"
    }
   ],
   "source": [
    "v.to_matrix(N)"
   ]
  },
  {
   "cell_type": "code",
   "execution_count": 6,
   "id": "b7b4a279",
   "metadata": {
    "execution": {
     "iopub.execute_input": "2022-05-10T14:40:18.640359Z",
     "iopub.status.busy": "2022-05-10T14:40:18.639898Z",
     "iopub.status.idle": "2022-05-10T14:40:18.645301Z",
     "shell.execute_reply": "2022-05-10T14:40:18.644746Z"
    }
   },
   "outputs": [
    {
     "data": {
      "text/latex": [
       "$\\displaystyle a\\mathbf{\\hat{n}_x} + b\\mathbf{\\hat{n}_y} + c\\mathbf{\\hat{n}_z}$"
      ],
      "text/plain": [
       "a n_x + b n_y + c n_z"
      ]
     },
     "execution_count": 6,
     "metadata": {},
     "output_type": "execute_result"
    }
   ],
   "source": [
    "w = a*N.x + b*N.y + c*N.z\n",
    "w"
   ]
  },
  {
   "cell_type": "code",
   "execution_count": 7,
   "id": "b4ab356d",
   "metadata": {
    "execution": {
     "iopub.execute_input": "2022-05-10T14:40:18.648186Z",
     "iopub.status.busy": "2022-05-10T14:40:18.647726Z",
     "iopub.status.idle": "2022-05-10T14:40:18.653988Z",
     "shell.execute_reply": "2022-05-10T14:40:18.653451Z"
    }
   },
   "outputs": [
    {
     "data": {
      "text/latex": [
       "$\\displaystyle \\left[\\begin{matrix}a\\\\b\\\\c\\end{matrix}\\right]$"
      ],
      "text/plain": [
       "⎡a⎤\n",
       "⎢ ⎥\n",
       "⎢b⎥\n",
       "⎢ ⎥\n",
       "⎣c⎦"
      ]
     },
     "execution_count": 7,
     "metadata": {},
     "output_type": "execute_result"
    }
   ],
   "source": [
    "w.to_matrix(N)"
   ]
  },
  {
   "cell_type": "code",
   "execution_count": 8,
   "id": "b36a1ce3",
   "metadata": {
    "execution": {
     "iopub.execute_input": "2022-05-10T14:40:18.656885Z",
     "iopub.status.busy": "2022-05-10T14:40:18.656417Z",
     "iopub.status.idle": "2022-05-10T14:40:18.661808Z",
     "shell.execute_reply": "2022-05-10T14:40:18.661245Z"
    }
   },
   "outputs": [
    {
     "data": {
      "text/latex": [
       "$\\displaystyle d\\mathbf{\\hat{n}_x} + e\\mathbf{\\hat{n}_y} + f\\mathbf{\\hat{n}_z}$"
      ],
      "text/plain": [
       "d n_x + e n_y + f n_z"
      ]
     },
     "execution_count": 8,
     "metadata": {},
     "output_type": "execute_result"
    }
   ],
   "source": [
    "x = d*N.x + e*N.y + f*N.z\n",
    "x"
   ]
  },
  {
   "cell_type": "code",
   "execution_count": 9,
   "id": "629d91dd",
   "metadata": {
    "execution": {
     "iopub.execute_input": "2022-05-10T14:40:18.664684Z",
     "iopub.status.busy": "2022-05-10T14:40:18.664225Z",
     "iopub.status.idle": "2022-05-10T14:40:18.670221Z",
     "shell.execute_reply": "2022-05-10T14:40:18.669673Z"
    }
   },
   "outputs": [
    {
     "data": {
      "text/latex": [
       "$\\displaystyle (a + d)\\mathbf{\\hat{n}_x} + (b + e)\\mathbf{\\hat{n}_y} + (c + f)\\mathbf{\\hat{n}_z}$"
      ],
      "text/plain": [
       "(a + d) n_x + (b + e) n_y + (c + f) n_z"
      ]
     },
     "execution_count": 9,
     "metadata": {},
     "output_type": "execute_result"
    }
   ],
   "source": [
    "w + x"
   ]
  },
  {
   "cell_type": "code",
   "execution_count": 10,
   "id": "e4147537",
   "metadata": {
    "execution": {
     "iopub.execute_input": "2022-05-10T14:40:18.673253Z",
     "iopub.status.busy": "2022-05-10T14:40:18.672786Z",
     "iopub.status.idle": "2022-05-10T14:40:18.678335Z",
     "shell.execute_reply": "2022-05-10T14:40:18.677802Z"
    }
   },
   "outputs": [
    {
     "data": {
      "text/latex": [
       "$\\displaystyle 2 a\\mathbf{\\hat{n}_x} + 2 b\\mathbf{\\hat{n}_y} + 2 c\\mathbf{\\hat{n}_z}$"
      ],
      "text/plain": [
       "2⋅a n_x + 2⋅b n_y + 2⋅c n_z"
      ]
     },
     "execution_count": 10,
     "metadata": {},
     "output_type": "execute_result"
    }
   ],
   "source": [
    "y = 2*w\n",
    "y"
   ]
  },
  {
   "cell_type": "code",
   "execution_count": 11,
   "id": "d01f2f6e",
   "metadata": {
    "execution": {
     "iopub.execute_input": "2022-05-10T14:40:18.681327Z",
     "iopub.status.busy": "2022-05-10T14:40:18.680861Z",
     "iopub.status.idle": "2022-05-10T14:40:18.686185Z",
     "shell.execute_reply": "2022-05-10T14:40:18.685646Z"
    }
   },
   "outputs": [
    {
     "data": {
      "text/latex": [
       "$\\displaystyle -  a\\mathbf{\\hat{n}_x} -  b\\mathbf{\\hat{n}_y} -  c\\mathbf{\\hat{n}_z}$"
      ],
      "text/plain": [
       "-a n_x + -b n_y + -c n_z"
      ]
     },
     "execution_count": 11,
     "metadata": {},
     "output_type": "execute_result"
    }
   ],
   "source": [
    "z = -w\n",
    "z"
   ]
  },
  {
   "cell_type": "code",
   "execution_count": 12,
   "id": "228a8de2",
   "metadata": {
    "execution": {
     "iopub.execute_input": "2022-05-10T14:40:18.689221Z",
     "iopub.status.busy": "2022-05-10T14:40:18.688742Z",
     "iopub.status.idle": "2022-05-10T14:40:18.692268Z",
     "shell.execute_reply": "2022-05-10T14:40:18.691730Z"
    }
   },
   "outputs": [],
   "source": [
    "N = me.ReferenceFrame('N')\n",
    "l, theta = sm.symbols('l, theta')"
   ]
  },
  {
   "cell_type": "code",
   "execution_count": 13,
   "id": "8e624f16",
   "metadata": {
    "execution": {
     "iopub.execute_input": "2022-05-10T14:40:18.694593Z",
     "iopub.status.busy": "2022-05-10T14:40:18.694193Z",
     "iopub.status.idle": "2022-05-10T14:40:18.704333Z",
     "shell.execute_reply": "2022-05-10T14:40:18.703796Z"
    }
   },
   "outputs": [
    {
     "data": {
      "text/latex": [
       "$\\displaystyle \\frac{\\sqrt{2} l}{2}\\mathbf{\\hat{n}_x} + \\frac{\\sqrt{2} l}{2}\\mathbf{\\hat{n}_y}$"
      ],
      "text/plain": [
       "√2⋅l       √2⋅l\n",
       "──── n_x + ──── n_y\n",
       " 2          2"
      ]
     },
     "execution_count": 13,
     "metadata": {},
     "output_type": "execute_result"
    }
   ],
   "source": [
    "v1 = l*sm.cos(sm.pi/4)*N.x + l*sm.sin(sm.pi/4)*N.y\n",
    "v1"
   ]
  },
  {
   "cell_type": "code",
   "execution_count": 14,
   "id": "0cd7c4ba",
   "metadata": {
    "execution": {
     "iopub.execute_input": "2022-05-10T14:40:18.707385Z",
     "iopub.status.busy": "2022-05-10T14:40:18.706913Z",
     "iopub.status.idle": "2022-05-10T14:40:18.711355Z",
     "shell.execute_reply": "2022-05-10T14:40:18.710797Z"
    }
   },
   "outputs": [
    {
     "data": {
      "text/latex": [
       "$\\displaystyle - 10\\mathbf{\\hat{n}_y}$"
      ],
      "text/plain": [
       "-10 n_y"
      ]
     },
     "execution_count": 14,
     "metadata": {},
     "output_type": "execute_result"
    }
   ],
   "source": [
    "v2 = -10*N.y\n",
    "v2"
   ]
  },
  {
   "cell_type": "code",
   "execution_count": 15,
   "id": "e17c1603",
   "metadata": {
    "execution": {
     "iopub.execute_input": "2022-05-10T14:40:18.714279Z",
     "iopub.status.busy": "2022-05-10T14:40:18.714068Z",
     "iopub.status.idle": "2022-05-10T14:40:18.721028Z",
     "shell.execute_reply": "2022-05-10T14:40:18.720490Z"
    }
   },
   "outputs": [
    {
     "data": {
      "text/latex": [
       "$\\displaystyle -  l \\sin{\\left(\\theta \\right)}\\mathbf{\\hat{n}_x} + l \\cos{\\left(\\theta \\right)}\\mathbf{\\hat{n}_y}$"
      ],
      "text/plain": [
       "-l⋅sin(θ) n_x + l⋅cos(θ) n_y"
      ]
     },
     "execution_count": 15,
     "metadata": {},
     "output_type": "execute_result"
    }
   ],
   "source": [
    "v3 = -l*sm.sin(theta)*N.x + l*sm.cos(theta)*N.y\n",
    "v3"
   ]
  },
  {
   "cell_type": "code",
   "execution_count": 16,
   "id": "0aa63daa",
   "metadata": {
    "execution": {
     "iopub.execute_input": "2022-05-10T14:40:18.723846Z",
     "iopub.status.busy": "2022-05-10T14:40:18.723443Z",
     "iopub.status.idle": "2022-05-10T14:40:18.732589Z",
     "shell.execute_reply": "2022-05-10T14:40:18.732041Z"
    }
   },
   "outputs": [
    {
     "data": {
      "text/latex": [
       "$\\displaystyle (5 l \\sin{\\left(\\theta \\right)} + \\frac{\\sqrt{2} l}{2})\\mathbf{\\hat{n}_x} + (- 5 l \\cos{\\left(\\theta \\right)} + \\frac{\\sqrt{2} l}{2} - 10)\\mathbf{\\hat{n}_y}$"
      ],
      "text/plain": [
       "⎛             √2⋅l⎞       ⎛              √2⋅l     ⎞\n",
       "⎜5⋅l⋅sin(θ) + ────⎟ n_x + ⎜-5⋅l⋅cos(θ) + ──── - 10⎟ n_y\n",
       "⎝              2  ⎠       ⎝               2       ⎠"
      ]
     },
     "execution_count": 16,
     "metadata": {},
     "output_type": "execute_result"
    }
   ],
   "source": [
    "v1 + v2 - 5*v3"
   ]
  },
  {
   "cell_type": "code",
   "execution_count": 17,
   "id": "472db363",
   "metadata": {
    "execution": {
     "iopub.execute_input": "2022-05-10T14:40:18.735030Z",
     "iopub.status.busy": "2022-05-10T14:40:18.734568Z",
     "iopub.status.idle": "2022-05-10T14:40:18.739815Z",
     "shell.execute_reply": "2022-05-10T14:40:18.739267Z"
    }
   },
   "outputs": [],
   "source": [
    "N = me.ReferenceFrame('N')\n",
    "w = a*N.x + b*N.y + c*N.z\n",
    "x = d*N.x + e*N.y + f*N.z"
   ]
  },
  {
   "cell_type": "code",
   "execution_count": 18,
   "id": "8e9483fc",
   "metadata": {
    "execution": {
     "iopub.execute_input": "2022-05-10T14:40:18.742444Z",
     "iopub.status.busy": "2022-05-10T14:40:18.741985Z",
     "iopub.status.idle": "2022-05-10T14:40:18.748646Z",
     "shell.execute_reply": "2022-05-10T14:40:18.748069Z"
    }
   },
   "outputs": [
    {
     "data": {
      "text/latex": [
       "$\\displaystyle a d + b e + c f$"
      ],
      "text/plain": [
       "a⋅d + b⋅e + c⋅f"
      ]
     },
     "execution_count": 18,
     "metadata": {},
     "output_type": "execute_result"
    }
   ],
   "source": [
    "me.dot(w, x)"
   ]
  },
  {
   "cell_type": "code",
   "execution_count": 19,
   "id": "75a831c5",
   "metadata": {
    "execution": {
     "iopub.execute_input": "2022-05-10T14:40:18.751650Z",
     "iopub.status.busy": "2022-05-10T14:40:18.751189Z",
     "iopub.status.idle": "2022-05-10T14:40:18.756693Z",
     "shell.execute_reply": "2022-05-10T14:40:18.756163Z"
    }
   },
   "outputs": [
    {
     "data": {
      "text/latex": [
       "$\\displaystyle a d + b e + c f$"
      ],
      "text/plain": [
       "a⋅d + b⋅e + c⋅f"
      ]
     },
     "execution_count": 19,
     "metadata": {},
     "output_type": "execute_result"
    }
   ],
   "source": [
    "w.dot(x)"
   ]
  },
  {
   "cell_type": "code",
   "execution_count": 20,
   "id": "c4e54b78",
   "metadata": {
    "execution": {
     "iopub.execute_input": "2022-05-10T14:40:18.759688Z",
     "iopub.status.busy": "2022-05-10T14:40:18.759223Z",
     "iopub.status.idle": "2022-05-10T14:40:18.775821Z",
     "shell.execute_reply": "2022-05-10T14:40:18.775281Z"
    }
   },
   "outputs": [
    {
     "data": {
      "text/latex": [
       "$\\displaystyle \\frac{a}{\\sqrt{a^{2} + b^{2} + c^{2}}}\\mathbf{\\hat{n}_x} + \\frac{b}{\\sqrt{a^{2} + b^{2} + c^{2}}}\\mathbf{\\hat{n}_y} + \\frac{c}{\\sqrt{a^{2} + b^{2} + c^{2}}}\\mathbf{\\hat{n}_z}$"
      ],
      "text/plain": [
       "        a                       b                       c\n",
       "───────────────── n_x + ───────────────── n_y + ───────────────── n_z\n",
       "   ______________          ______________          ______________\n",
       "  ╱  2    2    2          ╱  2    2    2          ╱  2    2    2\n",
       "╲╱  a  + b  + c         ╲╱  a  + b  + c         ╲╱  a  + b  + c"
      ]
     },
     "execution_count": 20,
     "metadata": {},
     "output_type": "execute_result"
    }
   ],
   "source": [
    "w.normalize()"
   ]
  },
  {
   "cell_type": "code",
   "execution_count": 21,
   "id": "6367d2cf",
   "metadata": {
    "execution": {
     "iopub.execute_input": "2022-05-10T14:40:18.778243Z",
     "iopub.status.busy": "2022-05-10T14:40:18.777777Z",
     "iopub.status.idle": "2022-05-10T14:40:18.786244Z",
     "shell.execute_reply": "2022-05-10T14:40:18.785703Z"
    }
   },
   "outputs": [
    {
     "data": {
      "text/latex": [
       "$\\displaystyle \\frac{a}{\\sqrt{a^{2} + b^{2} + c^{2}}}\\mathbf{\\hat{n}_x} + \\frac{b}{\\sqrt{a^{2} + b^{2} + c^{2}}}\\mathbf{\\hat{n}_y} + \\frac{c}{\\sqrt{a^{2} + b^{2} + c^{2}}}\\mathbf{\\hat{n}_z}$"
      ],
      "text/plain": [
       "        a                       b                       c\n",
       "───────────────── n_x + ───────────────── n_y + ───────────────── n_z\n",
       "   ______________          ______________          ______________\n",
       "  ╱  2    2    2          ╱  2    2    2          ╱  2    2    2\n",
       "╲╱  a  + b  + c         ╲╱  a  + b  + c         ╲╱  a  + b  + c"
      ]
     },
     "execution_count": 21,
     "metadata": {},
     "output_type": "execute_result"
    }
   ],
   "source": [
    "def normalize(vector):\n",
    "    return vector/sm.sqrt(me.dot(vector, vector))\n",
    "\n",
    "normalize(w)"
   ]
  },
  {
   "cell_type": "code",
   "execution_count": 22,
   "id": "ccd9110e",
   "metadata": {
    "execution": {
     "iopub.execute_input": "2022-05-10T14:40:18.789148Z",
     "iopub.status.busy": "2022-05-10T14:40:18.788682Z",
     "iopub.status.idle": "2022-05-10T14:40:18.794038Z",
     "shell.execute_reply": "2022-05-10T14:40:18.793502Z"
    }
   },
   "outputs": [
    {
     "data": {
      "text/latex": [
       "$\\displaystyle \\sqrt{a^{2} + b^{2} + c^{2}}$"
      ],
      "text/plain": [
       "   ______________\n",
       "  ╱  2    2    2 \n",
       "╲╱  a  + b  + c  "
      ]
     },
     "execution_count": 22,
     "metadata": {},
     "output_type": "execute_result"
    }
   ],
   "source": [
    "w.magnitude()"
   ]
  },
  {
   "cell_type": "code",
   "execution_count": 23,
   "id": "73c7d62e",
   "metadata": {
    "execution": {
     "iopub.execute_input": "2022-05-10T14:40:18.796898Z",
     "iopub.status.busy": "2022-05-10T14:40:18.796430Z",
     "iopub.status.idle": "2022-05-10T14:40:18.804440Z",
     "shell.execute_reply": "2022-05-10T14:40:18.803902Z"
    }
   },
   "outputs": [
    {
     "data": {
      "text/latex": [
       "$\\displaystyle \\frac{a}{\\sqrt{a^{2} + b^{2} + c^{2}}}\\mathbf{\\hat{n}_x} + \\frac{b}{\\sqrt{a^{2} + b^{2} + c^{2}}}\\mathbf{\\hat{n}_y} + \\frac{c}{\\sqrt{a^{2} + b^{2} + c^{2}}}\\mathbf{\\hat{n}_z}$"
      ],
      "text/plain": [
       "        a                       b                       c\n",
       "───────────────── n_x + ───────────────── n_y + ───────────────── n_z\n",
       "   ______________          ______________          ______________\n",
       "  ╱  2    2    2          ╱  2    2    2          ╱  2    2    2\n",
       "╲╱  a  + b  + c         ╲╱  a  + b  + c         ╲╱  a  + b  + c"
      ]
     },
     "execution_count": 23,
     "metadata": {},
     "output_type": "execute_result"
    }
   ],
   "source": [
    "w/w.magnitude()"
   ]
  },
  {
   "cell_type": "code",
   "execution_count": 24,
   "id": "b9b324ed",
   "metadata": {
    "execution": {
     "iopub.execute_input": "2022-05-10T14:40:18.807328Z",
     "iopub.status.busy": "2022-05-10T14:40:18.806853Z",
     "iopub.status.idle": "2022-05-10T14:40:18.812075Z",
     "shell.execute_reply": "2022-05-10T14:40:18.811518Z"
    }
   },
   "outputs": [],
   "source": [
    "N = me.ReferenceFrame('N')\n",
    "v1 = a*N.x + b*N.y + a*N.z\n",
    "v2 = b*N.x + a*N.y + b*N.z"
   ]
  },
  {
   "cell_type": "code",
   "execution_count": 25,
   "id": "d0f1aa98",
   "metadata": {
    "execution": {
     "iopub.execute_input": "2022-05-10T14:40:18.814472Z",
     "iopub.status.busy": "2022-05-10T14:40:18.814014Z",
     "iopub.status.idle": "2022-05-10T14:40:18.834081Z",
     "shell.execute_reply": "2022-05-10T14:40:18.833538Z"
    }
   },
   "outputs": [
    {
     "data": {
      "text/latex": [
       "$\\displaystyle \\operatorname{acos}{\\left(\\frac{3 a b}{\\sqrt{a^{2} + 2 b^{2}} \\sqrt{2 a^{2} + b^{2}}} \\right)}$"
      ],
      "text/plain": [
       "    ⎛            3⋅a⋅b            ⎞\n",
       "acos⎜─────────────────────────────⎟\n",
       "    ⎜   ___________    ___________⎟\n",
       "    ⎜  ╱  2      2    ╱    2    2 ⎟\n",
       "    ⎝╲╱  a  + 2⋅b  ⋅╲╱  2⋅a  + b  ⎠"
      ]
     },
     "execution_count": 25,
     "metadata": {},
     "output_type": "execute_result"
    }
   ],
   "source": [
    "sm.acos(v1.dot(v2) / (v1.magnitude()*v2.magnitude()))"
   ]
  },
  {
   "cell_type": "code",
   "execution_count": 26,
   "id": "54edb074",
   "metadata": {
    "execution": {
     "iopub.execute_input": "2022-05-10T14:40:18.836687Z",
     "iopub.status.busy": "2022-05-10T14:40:18.836217Z",
     "iopub.status.idle": "2022-05-10T14:40:18.842118Z",
     "shell.execute_reply": "2022-05-10T14:40:18.841571Z"
    }
   },
   "outputs": [
    {
     "data": {
      "text/latex": [
       "$\\displaystyle a\\mathbf{\\hat{n}_x} + b\\mathbf{\\hat{n}_y} + c\\mathbf{\\hat{n}_z}$"
      ],
      "text/plain": [
       "a n_x + b n_y + c n_z"
      ]
     },
     "execution_count": 26,
     "metadata": {},
     "output_type": "execute_result"
    }
   ],
   "source": [
    "N = me.ReferenceFrame('N')\n",
    "w = a*N.x + b*N.y + c*N.z\n",
    "w"
   ]
  },
  {
   "cell_type": "code",
   "execution_count": 27,
   "id": "6847cf49",
   "metadata": {
    "execution": {
     "iopub.execute_input": "2022-05-10T14:40:18.845046Z",
     "iopub.status.busy": "2022-05-10T14:40:18.844588Z",
     "iopub.status.idle": "2022-05-10T14:40:18.849846Z",
     "shell.execute_reply": "2022-05-10T14:40:18.849275Z"
    }
   },
   "outputs": [
    {
     "data": {
      "text/latex": [
       "$\\displaystyle d\\mathbf{\\hat{n}_x} + e\\mathbf{\\hat{n}_y} + f\\mathbf{\\hat{n}_z}$"
      ],
      "text/plain": [
       "d n_x + e n_y + f n_z"
      ]
     },
     "execution_count": 27,
     "metadata": {},
     "output_type": "execute_result"
    }
   ],
   "source": [
    "x = d*N.x + e*N.y + f*N.z\n",
    "x"
   ]
  },
  {
   "cell_type": "code",
   "execution_count": 28,
   "id": "681361c7",
   "metadata": {
    "execution": {
     "iopub.execute_input": "2022-05-10T14:40:18.852675Z",
     "iopub.status.busy": "2022-05-10T14:40:18.852217Z",
     "iopub.status.idle": "2022-05-10T14:40:18.862709Z",
     "shell.execute_reply": "2022-05-10T14:40:18.862167Z"
    }
   },
   "outputs": [
    {
     "data": {
      "text/latex": [
       "$\\displaystyle (b f - c e)\\mathbf{\\hat{n}_x} + (- a f + c d)\\mathbf{\\hat{n}_y} + (a e - b d)\\mathbf{\\hat{n}_z}$"
      ],
      "text/plain": [
       "(b⋅f - c⋅e) n_x + (-a⋅f + c⋅d) n_y + (a⋅e - b⋅d) n_z"
      ]
     },
     "execution_count": 28,
     "metadata": {},
     "output_type": "execute_result"
    }
   ],
   "source": [
    "me.cross(w, x)"
   ]
  },
  {
   "cell_type": "code",
   "execution_count": 29,
   "id": "e1106edd",
   "metadata": {
    "execution": {
     "iopub.execute_input": "2022-05-10T14:40:18.865186Z",
     "iopub.status.busy": "2022-05-10T14:40:18.864788Z",
     "iopub.status.idle": "2022-05-10T14:40:18.874241Z",
     "shell.execute_reply": "2022-05-10T14:40:18.873697Z"
    }
   },
   "outputs": [
    {
     "data": {
      "text/latex": [
       "$\\displaystyle (b f - c e)\\mathbf{\\hat{n}_x} + (- a f + c d)\\mathbf{\\hat{n}_y} + (a e - b d)\\mathbf{\\hat{n}_z}$"
      ],
      "text/plain": [
       "(b⋅f - c⋅e) n_x + (-a⋅f + c⋅d) n_y + (a⋅e - b⋅d) n_z"
      ]
     },
     "execution_count": 29,
     "metadata": {},
     "output_type": "execute_result"
    }
   ],
   "source": [
    "w.cross(x)"
   ]
  },
  {
   "cell_type": "code",
   "execution_count": 30,
   "id": "92191f29",
   "metadata": {
    "execution": {
     "iopub.execute_input": "2022-05-10T14:40:18.877161Z",
     "iopub.status.busy": "2022-05-10T14:40:18.876693Z",
     "iopub.status.idle": "2022-05-10T14:40:18.889171Z",
     "shell.execute_reply": "2022-05-10T14:40:18.888675Z"
    }
   },
   "outputs": [
    {
     "data": {
      "text/latex": [
       "$\\displaystyle \\sqrt{36077}$"
      ],
      "text/plain": [
       "√36077"
      ]
     },
     "execution_count": 30,
     "metadata": {},
     "output_type": "execute_result"
    }
   ],
   "source": [
    "N = me.ReferenceFrame('N')\n",
    "\n",
    "p1 = 23*N.x - 12* N.y\n",
    "p2 = 16*N.x + 2*N.y - 4*N.z\n",
    "p3 = N.x + 14*N.z\n",
    "\n",
    "me.cross(p2 - p1, p3 - p1).magnitude() / 2"
   ]
  },
  {
   "cell_type": "code",
   "execution_count": 31,
   "id": "544ffc8c",
   "metadata": {
    "execution": {
     "iopub.execute_input": "2022-05-10T14:40:18.891754Z",
     "iopub.status.busy": "2022-05-10T14:40:18.891444Z",
     "iopub.status.idle": "2022-05-10T14:40:18.899702Z",
     "shell.execute_reply": "2022-05-10T14:40:18.899212Z"
    }
   },
   "outputs": [
    {
     "data": {
      "text/latex": [
       "$\\displaystyle a\\mathbf{\\hat{a}_x} + b\\mathbf{\\hat{n}_y}$"
      ],
      "text/plain": [
       "a a_x + b n_y"
      ]
     },
     "execution_count": 31,
     "metadata": {},
     "output_type": "execute_result"
    }
   ],
   "source": [
    "N = me.ReferenceFrame('N')\n",
    "A = me.ReferenceFrame('A')\n",
    "a, b, theta = sm.symbols('a, b, theta')\n",
    "\n",
    "v = a*A.x + b*N.y\n",
    "v"
   ]
  },
  {
   "cell_type": "code",
   "execution_count": 32,
   "id": "b2330a45",
   "metadata": {
    "execution": {
     "iopub.execute_input": "2022-05-10T14:40:18.902406Z",
     "iopub.status.busy": "2022-05-10T14:40:18.901925Z",
     "iopub.status.idle": "2022-05-10T14:40:18.908768Z",
     "shell.execute_reply": "2022-05-10T14:40:18.908281Z"
    }
   },
   "outputs": [
    {
     "data": {
      "text/latex": [
       "$\\displaystyle 2 a\\mathbf{\\hat{a}_x} + 2 b\\mathbf{\\hat{n}_y}$"
      ],
      "text/plain": [
       "2⋅a a_x + 2⋅b n_y"
      ]
     },
     "execution_count": 32,
     "metadata": {},
     "output_type": "execute_result"
    }
   ],
   "source": [
    "v + v"
   ]
  },
  {
   "cell_type": "code",
   "execution_count": 33,
   "id": "95f4437a",
   "metadata": {
    "execution": {
     "iopub.execute_input": "2022-05-10T14:40:18.911325Z",
     "iopub.status.busy": "2022-05-10T14:40:18.911016Z",
     "iopub.status.idle": "2022-05-10T14:40:18.924423Z",
     "shell.execute_reply": "2022-05-10T14:40:18.923921Z"
    }
   },
   "outputs": [
    {
     "data": {
      "text/latex": [
       "$\\displaystyle a \\cos{\\left(\\theta \\right)}\\mathbf{\\hat{n}_x} + (a \\sin{\\left(\\theta \\right)} + b)\\mathbf{\\hat{n}_y}$"
      ],
      "text/plain": [
       "a⋅cos(θ) n_x + (a⋅sin(θ) + b) n_y"
      ]
     },
     "execution_count": 33,
     "metadata": {},
     "output_type": "execute_result"
    }
   ],
   "source": [
    "A.orient_axis(N, theta, N.z)\n",
    "\n",
    "v.express(N)"
   ]
  },
  {
   "cell_type": "code",
   "execution_count": 34,
   "id": "2e25a5b2",
   "metadata": {
    "execution": {
     "iopub.execute_input": "2022-05-10T14:40:18.927049Z",
     "iopub.status.busy": "2022-05-10T14:40:18.926544Z",
     "iopub.status.idle": "2022-05-10T14:40:18.934573Z",
     "shell.execute_reply": "2022-05-10T14:40:18.934080Z"
    }
   },
   "outputs": [
    {
     "data": {
      "text/latex": [
       "$\\displaystyle (a + b \\sin{\\left(\\theta \\right)})\\mathbf{\\hat{a}_x} + b \\cos{\\left(\\theta \\right)}\\mathbf{\\hat{a}_y}$"
      ],
      "text/plain": [
       "(a + b⋅sin(θ)) a_x + b⋅cos(θ) a_y"
      ]
     },
     "execution_count": 34,
     "metadata": {},
     "output_type": "execute_result"
    }
   ],
   "source": [
    "v.express(A)"
   ]
  },
  {
   "cell_type": "code",
   "execution_count": 35,
   "id": "615ff992",
   "metadata": {
    "execution": {
     "iopub.execute_input": "2022-05-10T14:40:18.937132Z",
     "iopub.status.busy": "2022-05-10T14:40:18.936800Z",
     "iopub.status.idle": "2022-05-10T14:40:18.943290Z",
     "shell.execute_reply": "2022-05-10T14:40:18.942795Z"
    }
   },
   "outputs": [],
   "source": [
    "q1, q2, q3, q4, q5 = sm.symbols('q1, q2, q3, q4, q5')\n",
    "l1, l2, l3, l4 = sm.symbols('l1, l2, l3, l4')\n",
    "N = me.ReferenceFrame('N')\n",
    "A = me.ReferenceFrame('A')\n",
    "B = me.ReferenceFrame('B')\n",
    "C = me.ReferenceFrame('C')"
   ]
  },
  {
   "cell_type": "code",
   "execution_count": 36,
   "id": "9e157b80",
   "metadata": {
    "execution": {
     "iopub.execute_input": "2022-05-10T14:40:18.946690Z",
     "iopub.status.busy": "2022-05-10T14:40:18.945537Z",
     "iopub.status.idle": "2022-05-10T14:40:18.970545Z",
     "shell.execute_reply": "2022-05-10T14:40:18.970006Z"
    }
   },
   "outputs": [],
   "source": [
    "A.orient_body_fixed(N, (q1, q2, 0), 'ZXZ')"
   ]
  },
  {
   "cell_type": "code",
   "execution_count": 37,
   "id": "120ffd3e",
   "metadata": {
    "execution": {
     "iopub.execute_input": "2022-05-10T14:40:18.973496Z",
     "iopub.status.busy": "2022-05-10T14:40:18.972994Z",
     "iopub.status.idle": "2022-05-10T14:40:18.979918Z",
     "shell.execute_reply": "2022-05-10T14:40:18.979385Z"
    }
   },
   "outputs": [],
   "source": [
    "B.orient_axis(A, q3, A.x)"
   ]
  },
  {
   "cell_type": "code",
   "execution_count": 38,
   "id": "11ce320f",
   "metadata": {
    "execution": {
     "iopub.execute_input": "2022-05-10T14:40:18.982490Z",
     "iopub.status.busy": "2022-05-10T14:40:18.982155Z",
     "iopub.status.idle": "2022-05-10T14:40:19.006774Z",
     "shell.execute_reply": "2022-05-10T14:40:19.006248Z"
    }
   },
   "outputs": [],
   "source": [
    "C.orient_body_fixed(B, (q4, q5, 0), 'XZX')"
   ]
  },
  {
   "cell_type": "code",
   "execution_count": 39,
   "id": "e7068b9d",
   "metadata": {
    "execution": {
     "iopub.execute_input": "2022-05-10T14:40:19.009280Z",
     "iopub.status.busy": "2022-05-10T14:40:19.008799Z",
     "iopub.status.idle": "2022-05-10T14:40:19.014198Z",
     "shell.execute_reply": "2022-05-10T14:40:19.013700Z"
    }
   },
   "outputs": [],
   "source": [
    "R_P1_P2 = l1*A.z\n",
    "R_P2_P3 = l2*B.z\n",
    "R_P3_P4 = l3*C.z - l4*C.y"
   ]
  },
  {
   "cell_type": "code",
   "execution_count": 40,
   "id": "39e4274e",
   "metadata": {
    "execution": {
     "iopub.execute_input": "2022-05-10T14:40:19.016288Z",
     "iopub.status.busy": "2022-05-10T14:40:19.016078Z",
     "iopub.status.idle": "2022-05-10T14:40:19.023164Z",
     "shell.execute_reply": "2022-05-10T14:40:19.022673Z"
    }
   },
   "outputs": [
    {
     "data": {
      "text/latex": [
       "$\\displaystyle l_{1}\\mathbf{\\hat{a}_z} + l_{2}\\mathbf{\\hat{b}_z} -  l_{4}\\mathbf{\\hat{c}_y} + l_{3}\\mathbf{\\hat{c}_z}$"
      ],
      "text/plain": [
       "l₁ a_z + l₂ b_z + -l₄ c_y + l₃ c_z"
      ]
     },
     "execution_count": 40,
     "metadata": {},
     "output_type": "execute_result"
    }
   ],
   "source": [
    "R_P1_P4 = R_P1_P2 + R_P2_P3 + R_P3_P4\n",
    "R_P1_P4"
   ]
  },
  {
   "cell_type": "code",
   "execution_count": 41,
   "id": "e4f5f5c1",
   "metadata": {
    "execution": {
     "iopub.execute_input": "2022-05-10T14:40:19.025591Z",
     "iopub.status.busy": "2022-05-10T14:40:19.025114Z",
     "iopub.status.idle": "2022-05-10T14:40:19.118890Z",
     "shell.execute_reply": "2022-05-10T14:40:19.118227Z"
    }
   },
   "outputs": [
    {
     "data": {
      "text/latex": [
       "$\\displaystyle (l_{1} \\sin{\\left(q_{1} \\right)} \\sin{\\left(q_{2} \\right)} + l_{2} \\left(\\sin{\\left(q_{1} \\right)} \\sin{\\left(q_{2} \\right)} \\cos{\\left(q_{3} \\right)} + \\sin{\\left(q_{1} \\right)} \\sin{\\left(q_{3} \\right)} \\cos{\\left(q_{2} \\right)}\\right) + l_{3} \\left(- \\left(\\sin{\\left(q_{1} \\right)} \\sin{\\left(q_{2} \\right)} \\sin{\\left(q_{3} \\right)} - \\sin{\\left(q_{1} \\right)} \\cos{\\left(q_{2} \\right)} \\cos{\\left(q_{3} \\right)}\\right) \\sin{\\left(q_{4} \\right)} + \\left(\\sin{\\left(q_{1} \\right)} \\sin{\\left(q_{2} \\right)} \\cos{\\left(q_{3} \\right)} + \\sin{\\left(q_{1} \\right)} \\sin{\\left(q_{3} \\right)} \\cos{\\left(q_{2} \\right)}\\right) \\cos{\\left(q_{4} \\right)}\\right) - l_{4} \\left(\\left(\\sin{\\left(q_{1} \\right)} \\sin{\\left(q_{2} \\right)} \\sin{\\left(q_{3} \\right)} - \\sin{\\left(q_{1} \\right)} \\cos{\\left(q_{2} \\right)} \\cos{\\left(q_{3} \\right)}\\right) \\cos{\\left(q_{4} \\right)} \\cos{\\left(q_{5} \\right)} + \\left(\\sin{\\left(q_{1} \\right)} \\sin{\\left(q_{2} \\right)} \\cos{\\left(q_{3} \\right)} + \\sin{\\left(q_{1} \\right)} \\sin{\\left(q_{3} \\right)} \\cos{\\left(q_{2} \\right)}\\right) \\sin{\\left(q_{4} \\right)} \\cos{\\left(q_{5} \\right)} - \\sin{\\left(q_{5} \\right)} \\cos{\\left(q_{1} \\right)}\\right))\\mathbf{\\hat{n}_x} + (- l_{1} \\sin{\\left(q_{2} \\right)} \\cos{\\left(q_{1} \\right)} + l_{2} \\left(- \\sin{\\left(q_{2} \\right)} \\cos{\\left(q_{1} \\right)} \\cos{\\left(q_{3} \\right)} - \\sin{\\left(q_{3} \\right)} \\cos{\\left(q_{1} \\right)} \\cos{\\left(q_{2} \\right)}\\right) + l_{3} \\left(- \\left(- \\sin{\\left(q_{2} \\right)} \\sin{\\left(q_{3} \\right)} \\cos{\\left(q_{1} \\right)} + \\cos{\\left(q_{1} \\right)} \\cos{\\left(q_{2} \\right)} \\cos{\\left(q_{3} \\right)}\\right) \\sin{\\left(q_{4} \\right)} + \\left(- \\sin{\\left(q_{2} \\right)} \\cos{\\left(q_{1} \\right)} \\cos{\\left(q_{3} \\right)} - \\sin{\\left(q_{3} \\right)} \\cos{\\left(q_{1} \\right)} \\cos{\\left(q_{2} \\right)}\\right) \\cos{\\left(q_{4} \\right)}\\right) - l_{4} \\left(\\left(- \\sin{\\left(q_{2} \\right)} \\sin{\\left(q_{3} \\right)} \\cos{\\left(q_{1} \\right)} + \\cos{\\left(q_{1} \\right)} \\cos{\\left(q_{2} \\right)} \\cos{\\left(q_{3} \\right)}\\right) \\cos{\\left(q_{4} \\right)} \\cos{\\left(q_{5} \\right)} + \\left(- \\sin{\\left(q_{2} \\right)} \\cos{\\left(q_{1} \\right)} \\cos{\\left(q_{3} \\right)} - \\sin{\\left(q_{3} \\right)} \\cos{\\left(q_{1} \\right)} \\cos{\\left(q_{2} \\right)}\\right) \\sin{\\left(q_{4} \\right)} \\cos{\\left(q_{5} \\right)} - \\sin{\\left(q_{1} \\right)} \\sin{\\left(q_{5} \\right)}\\right))\\mathbf{\\hat{n}_y} + (l_{1} \\cos{\\left(q_{2} \\right)} + l_{2} \\left(- \\sin{\\left(q_{2} \\right)} \\sin{\\left(q_{3} \\right)} + \\cos{\\left(q_{2} \\right)} \\cos{\\left(q_{3} \\right)}\\right) + l_{3} \\left(\\left(- \\sin{\\left(q_{2} \\right)} \\sin{\\left(q_{3} \\right)} + \\cos{\\left(q_{2} \\right)} \\cos{\\left(q_{3} \\right)}\\right) \\cos{\\left(q_{4} \\right)} - \\left(\\sin{\\left(q_{2} \\right)} \\cos{\\left(q_{3} \\right)} + \\sin{\\left(q_{3} \\right)} \\cos{\\left(q_{2} \\right)}\\right) \\sin{\\left(q_{4} \\right)}\\right) - l_{4} \\left(\\left(- \\sin{\\left(q_{2} \\right)} \\sin{\\left(q_{3} \\right)} + \\cos{\\left(q_{2} \\right)} \\cos{\\left(q_{3} \\right)}\\right) \\sin{\\left(q_{4} \\right)} \\cos{\\left(q_{5} \\right)} + \\left(\\sin{\\left(q_{2} \\right)} \\cos{\\left(q_{3} \\right)} + \\sin{\\left(q_{3} \\right)} \\cos{\\left(q_{2} \\right)}\\right) \\cos{\\left(q_{4} \\right)} \\cos{\\left(q_{5} \\right)}\\right))\\mathbf{\\hat{n}_z}$"
      ],
      "text/plain": [
       "(l₁⋅sin(q₁)⋅sin(q₂) + l₂⋅(sin(q₁)⋅sin(q₂)⋅cos(q₃) + sin(q₁)⋅sin(q₃)⋅cos(q₂)) +\n",
       " l₃⋅(-(sin(q₁)⋅sin(q₂)⋅sin(q₃) - sin(q₁)⋅cos(q₂)⋅cos(q₃))⋅sin(q₄) + (sin(q₁)⋅s\n",
       "in(q₂)⋅cos(q₃) + sin(q₁)⋅sin(q₃)⋅cos(q₂))⋅cos(q₄)) - l₄⋅((sin(q₁)⋅sin(q₂)⋅sin(\n",
       "q₃) - sin(q₁)⋅cos(q₂)⋅cos(q₃))⋅cos(q₄)⋅cos(q₅) + (sin(q₁)⋅sin(q₂)⋅cos(q₃) + si\n",
       "n(q₁)⋅sin(q₃)⋅cos(q₂))⋅sin(q₄)⋅cos(q₅) - sin(q₅)⋅cos(q₁))) n_x + (-l₁⋅sin(q₂)⋅\n",
       "cos(q₁) + l₂⋅(-sin(q₂)⋅cos(q₁)⋅cos(q₃) - sin(q₃)⋅cos(q₁)⋅cos(q₂)) + l₃⋅(-(-sin\n",
       "(q₂)⋅sin(q₃)⋅cos(q₁) + cos(q₁)⋅cos(q₂)⋅cos(q₃))⋅sin(q₄) + (-sin(q₂)⋅cos(q₁)⋅co\n",
       "s(q₃) - sin(q₃)⋅cos(q₁)⋅cos(q₂))⋅cos(q₄)) - l₄⋅((-sin(q₂)⋅sin(q₃)⋅cos(q₁) + co\n",
       "s(q₁)⋅cos(q₂)⋅cos(q₃))⋅cos(q₄)⋅cos(q₅) + (-sin(q₂)⋅cos(q₁)⋅cos(q₃) - sin(q₃)⋅c\n",
       "os(q₁)⋅cos(q₂))⋅sin(q₄)⋅cos(q₅) - sin(q₁)⋅sin(q₅))) n_y + (l₁⋅cos(q₂) + l₂⋅(-s\n",
       "in(q₂)⋅sin(q₃) + cos(q₂)⋅cos(q₃)) + l₃⋅((-sin(q₂)⋅sin(q₃) + cos(q₂)⋅cos(q₃))⋅c\n",
       "os(q₄) - (sin(q₂)⋅cos(q₃) + sin(q₃)⋅cos(q₂))⋅sin(q₄)) - l₄⋅((-sin(q₂)⋅sin(q₃)\n",
       "+ cos(q₂)⋅cos(q₃))⋅sin(q₄)⋅cos(q₅) + (sin(q₂)⋅cos(q₃) + sin(q₃)⋅cos(q₂))⋅cos(q\n",
       "₄)⋅cos(q₅))) n_z"
      ]
     },
     "execution_count": 41,
     "metadata": {},
     "output_type": "execute_result"
    }
   ],
   "source": [
    "R_P1_P4.express(N)"
   ]
  },
  {
   "cell_type": "code",
   "execution_count": 42,
   "id": "9e3d13d7",
   "metadata": {
    "execution": {
     "iopub.execute_input": "2022-05-10T14:40:19.121865Z",
     "iopub.status.busy": "2022-05-10T14:40:19.121492Z",
     "iopub.status.idle": "2022-05-10T14:40:19.128137Z",
     "shell.execute_reply": "2022-05-10T14:40:19.127711Z"
    }
   },
   "outputs": [
    {
     "data": {
      "text/latex": [
       "$\\displaystyle l_{1} \\sin{\\left(q_{1} \\right)} \\sin{\\left(q_{2} \\right)}\\mathbf{\\hat{n}_x} -  l_{1} \\sin{\\left(q_{2} \\right)} \\cos{\\left(q_{1} \\right)}\\mathbf{\\hat{n}_y} + l_{1} \\cos{\\left(q_{2} \\right)}\\mathbf{\\hat{n}_z}$"
      ],
      "text/plain": [
       "l₁⋅sin(q₁)⋅sin(q₂) n_x + -l₁⋅sin(q₂)⋅cos(q₁) n_y + l₁⋅cos(q₂) n_z"
      ]
     },
     "execution_count": 42,
     "metadata": {},
     "output_type": "execute_result"
    }
   ],
   "source": [
    "R_P1_P2.express(N)"
   ]
  },
  {
   "cell_type": "code",
   "execution_count": 43,
   "id": "9977e765",
   "metadata": {
    "execution": {
     "iopub.execute_input": "2022-05-10T14:40:19.130578Z",
     "iopub.status.busy": "2022-05-10T14:40:19.130168Z",
     "iopub.status.idle": "2022-05-10T14:40:19.137198Z",
     "shell.execute_reply": "2022-05-10T14:40:19.136726Z"
    }
   },
   "outputs": [
    {
     "data": {
      "text/latex": [
       "$\\displaystyle \\left\\{l_{1}, q_{1}, q_{2}\\right\\}$"
      ],
      "text/plain": [
       "{l₁, q₁, q₂}"
      ]
     },
     "execution_count": 43,
     "metadata": {},
     "output_type": "execute_result"
    }
   ],
   "source": [
    "R_P1_P2.free_symbols(N)"
   ]
  },
  {
   "cell_type": "code",
   "execution_count": 44,
   "id": "a0de6bda",
   "metadata": {
    "execution": {
     "iopub.execute_input": "2022-05-10T14:40:19.139493Z",
     "iopub.status.busy": "2022-05-10T14:40:19.139168Z",
     "iopub.status.idle": "2022-05-10T14:40:19.144306Z",
     "shell.execute_reply": "2022-05-10T14:40:19.143764Z"
    }
   },
   "outputs": [
    {
     "data": {
      "text/latex": [
       "$\\displaystyle \\left\\{l_{1}\\right\\}$"
      ],
      "text/plain": [
       "{l₁}"
      ]
     },
     "execution_count": 44,
     "metadata": {},
     "output_type": "execute_result"
    }
   ],
   "source": [
    "R_P1_P2.free_symbols(A)"
   ]
  },
  {
   "cell_type": "code",
   "execution_count": 45,
   "id": "ef3242e5",
   "metadata": {
    "execution": {
     "iopub.execute_input": "2022-05-10T14:40:19.147228Z",
     "iopub.status.busy": "2022-05-10T14:40:19.146900Z",
     "iopub.status.idle": "2022-05-10T14:40:19.154155Z",
     "shell.execute_reply": "2022-05-10T14:40:19.153610Z"
    }
   },
   "outputs": [
    {
     "data": {
      "text/latex": [
       "$\\displaystyle \\left\\{l_{1}, l_{2}, l_{3}, l_{4}, q_{1}, q_{2}, q_{3}, q_{4}, q_{5}\\right\\}$"
      ],
      "text/plain": [
       "{l₁, l₂, l₃, l₄, q₁, q₂, q₃, q₄, q₅}"
      ]
     },
     "execution_count": 45,
     "metadata": {},
     "output_type": "execute_result"
    }
   ],
   "source": [
    "R_P1_P4.free_symbols(N)"
   ]
  }
 ],
 "metadata": {
  "kernelspec": {
   "display_name": "Python 3 (ipykernel)",
   "language": "python",
   "name": "python3"
  },
  "language_info": {
   "codemirror_mode": {
    "name": "ipython",
    "version": 3
   },
   "file_extension": ".py",
   "mimetype": "text/x-python",
   "name": "python",
   "nbconvert_exporter": "python",
   "pygments_lexer": "ipython3",
   "version": "3.9.12"
  }
 },
 "nbformat": 4,
 "nbformat_minor": 5
}