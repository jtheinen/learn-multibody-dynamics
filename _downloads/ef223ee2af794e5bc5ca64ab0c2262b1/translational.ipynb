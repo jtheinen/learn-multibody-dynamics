{
 "cells": [
  {
   "cell_type": "code",
   "execution_count": 1,
   "id": "a20b9415",
   "metadata": {
    "execution": {
     "iopub.execute_input": "2022-05-10T14:40:15.570563Z",
     "iopub.status.busy": "2022-05-10T14:40:15.570137Z",
     "iopub.status.idle": "2022-05-10T14:40:16.095972Z",
     "shell.execute_reply": "2022-05-10T14:40:16.095339Z"
    }
   },
   "outputs": [],
   "source": [
    "import sympy as sm\n",
    "import sympy.physics.mechanics as me\n",
    "me.init_vprinting(use_latex='mathjax')"
   ]
  },
  {
   "cell_type": "code",
   "execution_count": 2,
   "id": "c20a5189",
   "metadata": {
    "execution": {
     "iopub.execute_input": "2022-05-10T14:40:16.099204Z",
     "iopub.status.busy": "2022-05-10T14:40:16.098777Z",
     "iopub.status.idle": "2022-05-10T14:40:16.113984Z",
     "shell.execute_reply": "2022-05-10T14:40:16.113473Z"
    }
   },
   "outputs": [],
   "source": [
    "alpha, beta = me.dynamicsymbols('alpha, beta')\n",
    "\n",
    "N = me.ReferenceFrame('N')\n",
    "A = me.ReferenceFrame('A')\n",
    "B = me.ReferenceFrame('B')\n",
    "\n",
    "A.orient_axis(N, alpha, N.z)\n",
    "B.orient_axis(A, beta, A.x)"
   ]
  },
  {
   "cell_type": "code",
   "execution_count": 3,
   "id": "f2abf2cf",
   "metadata": {
    "execution": {
     "iopub.execute_input": "2022-05-10T14:40:16.116400Z",
     "iopub.status.busy": "2022-05-10T14:40:16.115990Z",
     "iopub.status.idle": "2022-05-10T14:40:16.129384Z",
     "shell.execute_reply": "2022-05-10T14:40:16.128834Z"
    }
   },
   "outputs": [
    {
     "data": {
      "text/latex": [
       "$\\displaystyle \\left( h\\mathbf{\\hat{n}_z}, \\  -  d\\mathbf{\\hat{a}_x}, \\  -  w\\mathbf{\\hat{b}_x} + (- c - \\frac{l}{2})\\mathbf{\\hat{b}_z}\\right)$"
      ],
      "text/plain": [
       "⎛h n_z, -d a_x,            ⎛     l⎞  ⎞\n",
       "⎜               -w b_x + ⎜-c - ─⎟ b_z⎟\n",
       "⎝                          ⎝     2⎠  ⎠"
      ]
     },
     "execution_count": 3,
     "metadata": {},
     "output_type": "execute_result"
    }
   ],
   "source": [
    "h, d, w, c, l = sm.symbols('h, d, w, c, l')\n",
    "\n",
    "r_O_P = h*N.z\n",
    "r_P_S = -d*A.x\n",
    "r_S_Q = -w*B.x - (c + l/2)*B.z\n",
    "\n",
    "r_O_P, r_P_S, r_S_Q"
   ]
  },
  {
   "cell_type": "code",
   "execution_count": 4,
   "id": "827d9128",
   "metadata": {
    "execution": {
     "iopub.execute_input": "2022-05-10T14:40:16.131772Z",
     "iopub.status.busy": "2022-05-10T14:40:16.131369Z",
     "iopub.status.idle": "2022-05-10T14:40:16.139097Z",
     "shell.execute_reply": "2022-05-10T14:40:16.138545Z"
    }
   },
   "outputs": [
    {
     "data": {
      "text/latex": [
       "$\\displaystyle 0$"
      ],
      "text/plain": [
       "0"
      ]
     },
     "execution_count": 4,
     "metadata": {},
     "output_type": "execute_result"
    }
   ],
   "source": [
    "(r_O_P + r_P_S).dt(A)"
   ]
  },
  {
   "cell_type": "code",
   "execution_count": 5,
   "id": "e4b4591c",
   "metadata": {
    "execution": {
     "iopub.execute_input": "2022-05-10T14:40:16.142253Z",
     "iopub.status.busy": "2022-05-10T14:40:16.141852Z",
     "iopub.status.idle": "2022-05-10T14:40:16.146632Z",
     "shell.execute_reply": "2022-05-10T14:40:16.146091Z"
    }
   },
   "outputs": [
    {
     "data": {
      "text/latex": [
       "$\\displaystyle \\dot{\\alpha}\\mathbf{\\hat{n}_z}$"
      ],
      "text/plain": [
       "α̇ n_z"
      ]
     },
     "execution_count": 5,
     "metadata": {},
     "output_type": "execute_result"
    }
   ],
   "source": [
    "A.ang_vel_in(N)"
   ]
  },
  {
   "cell_type": "code",
   "execution_count": 6,
   "id": "a422e0af",
   "metadata": {
    "execution": {
     "iopub.execute_input": "2022-05-10T14:40:16.149535Z",
     "iopub.status.busy": "2022-05-10T14:40:16.149196Z",
     "iopub.status.idle": "2022-05-10T14:40:16.161751Z",
     "shell.execute_reply": "2022-05-10T14:40:16.161242Z"
    }
   },
   "outputs": [
    {
     "data": {
      "text/latex": [
       "$\\displaystyle -  d \\dot{\\alpha}\\mathbf{\\hat{a}_y}$"
      ],
      "text/plain": [
       "-d⋅α̇ a_y"
      ]
     },
     "execution_count": 6,
     "metadata": {},
     "output_type": "execute_result"
    }
   ],
   "source": [
    "me.cross(A.ang_vel_in(N), r_O_P + r_P_S)"
   ]
  },
  {
   "cell_type": "code",
   "execution_count": 7,
   "id": "d1d82587",
   "metadata": {
    "execution": {
     "iopub.execute_input": "2022-05-10T14:40:16.164278Z",
     "iopub.status.busy": "2022-05-10T14:40:16.163966Z",
     "iopub.status.idle": "2022-05-10T14:40:16.178278Z",
     "shell.execute_reply": "2022-05-10T14:40:16.177805Z"
    }
   },
   "outputs": [
    {
     "data": {
      "text/latex": [
       "$\\displaystyle -  d \\dot{\\alpha}\\mathbf{\\hat{a}_y}$"
      ],
      "text/plain": [
       "-d⋅α̇ a_y"
      ]
     },
     "execution_count": 7,
     "metadata": {},
     "output_type": "execute_result"
    }
   ],
   "source": [
    "N_v_S = (r_O_P + r_P_S).dt(A) + me.cross(A.ang_vel_in(N), r_O_P + r_P_S)\n",
    "N_v_S"
   ]
  },
  {
   "cell_type": "code",
   "execution_count": 8,
   "id": "283cba2a",
   "metadata": {
    "execution": {
     "iopub.execute_input": "2022-05-10T14:40:16.180694Z",
     "iopub.status.busy": "2022-05-10T14:40:16.180222Z",
     "iopub.status.idle": "2022-05-10T14:40:16.195371Z",
     "shell.execute_reply": "2022-05-10T14:40:16.194830Z"
    }
   },
   "outputs": [
    {
     "data": {
      "text/latex": [
       "$\\displaystyle -  h \\sin{\\left(\\alpha \\right)} \\dot{\\beta}\\mathbf{\\hat{n}_x} + h \\cos{\\left(\\alpha \\right)} \\dot{\\beta}\\mathbf{\\hat{n}_y}$"
      ],
      "text/plain": [
       "-h⋅sin(α)⋅β̇ n_x + h⋅cos(α)⋅β̇ n_y"
      ]
     },
     "execution_count": 8,
     "metadata": {},
     "output_type": "execute_result"
    }
   ],
   "source": [
    "(r_O_P + r_P_S + r_S_Q).dt(B)"
   ]
  },
  {
   "cell_type": "code",
   "execution_count": 9,
   "id": "5ae0481f",
   "metadata": {
    "execution": {
     "iopub.execute_input": "2022-05-10T14:40:16.197862Z",
     "iopub.status.busy": "2022-05-10T14:40:16.197382Z",
     "iopub.status.idle": "2022-05-10T14:40:16.226272Z",
     "shell.execute_reply": "2022-05-10T14:40:16.225714Z"
    }
   },
   "outputs": [
    {
     "data": {
      "text/latex": [
       "$\\displaystyle h \\sin{\\left(\\alpha \\right)} \\dot{\\beta}\\mathbf{\\hat{n}_x} -  h \\cos{\\left(\\alpha \\right)} \\dot{\\beta}\\mathbf{\\hat{n}_y} -  d \\dot{\\alpha}\\mathbf{\\hat{a}_y} + \\left(- c - \\frac{l}{2}\\right) \\sin{\\left(\\beta \\right)} \\dot{\\alpha}\\mathbf{\\hat{b}_x} + (- w \\cos{\\left(\\beta \\right)} \\dot{\\alpha} - \\left(- c - \\frac{l}{2}\\right) \\dot{\\beta})\\mathbf{\\hat{b}_y} + w \\sin{\\left(\\beta \\right)} \\dot{\\alpha}\\mathbf{\\hat{b}_z}$"
      ],
      "text/plain": [
       "                                              ⎛     l⎞                ⎛\n",
       "h⋅sin(α)⋅β̇ n_x + -h⋅cos(α)⋅β̇ n_y + -d⋅α̇ a_y + ⎜-c - ─⎟⋅sin(β)⋅α̇ b_x + ⎜-w⋅\n",
       "                                              ⎝     2⎠                ⎝\n",
       "\n",
       "       ⎛     l⎞  ⎞\n",
       "cos(β)⋅α̇ - ⎜-c - ─⎟⋅β̇⎟ b_y + w⋅sin(β)⋅α̇ b_z\n",
       "       ⎝     2⎠  ⎠"
      ]
     },
     "execution_count": 9,
     "metadata": {},
     "output_type": "execute_result"
    }
   ],
   "source": [
    "me.cross(B.ang_vel_in(N), r_O_P + r_P_S + r_S_Q)"
   ]
  },
  {
   "cell_type": "code",
   "execution_count": 10,
   "id": "6e2b54aa",
   "metadata": {
    "execution": {
     "iopub.execute_input": "2022-05-10T14:40:16.228559Z",
     "iopub.status.busy": "2022-05-10T14:40:16.228233Z",
     "iopub.status.idle": "2022-05-10T14:40:16.255301Z",
     "shell.execute_reply": "2022-05-10T14:40:16.254687Z"
    }
   },
   "outputs": [
    {
     "data": {
      "text/latex": [
       "$\\displaystyle -  d \\dot{\\alpha}\\mathbf{\\hat{a}_y} + \\left(- c - \\frac{l}{2}\\right) \\sin{\\left(\\beta \\right)} \\dot{\\alpha}\\mathbf{\\hat{b}_x} + (- w \\cos{\\left(\\beta \\right)} \\dot{\\alpha} - \\left(- c - \\frac{l}{2}\\right) \\dot{\\beta})\\mathbf{\\hat{b}_y} + w \\sin{\\left(\\beta \\right)} \\dot{\\alpha}\\mathbf{\\hat{b}_z}$"
      ],
      "text/plain": [
       "           ⎛     l⎞                ⎛              ⎛     l⎞  ⎞\n",
       "-d⋅α̇ a_y + ⎜-c - ─⎟⋅sin(β)⋅α̇ b_x + ⎜-w⋅cos(β)⋅α̇ - ⎜-c - ─⎟⋅β̇⎟ b_y + w⋅sin(\n",
       "           ⎝     2⎠                ⎝              ⎝     2⎠  ⎠\n",
       "\n",
       "\n",
       "β)⋅α̇ b_z\n"
      ]
     },
     "execution_count": 10,
     "metadata": {},
     "output_type": "execute_result"
    }
   ],
   "source": [
    "N_v_Q = (r_O_P + r_P_S + r_S_Q).dt(B) + me.cross(B.ang_vel_in(N), r_O_P + r_P_S + r_S_Q)\n",
    "N_v_Q"
   ]
  },
  {
   "cell_type": "code",
   "execution_count": 11,
   "id": "37f4b62c",
   "metadata": {
    "execution": {
     "iopub.execute_input": "2022-05-10T14:40:16.258016Z",
     "iopub.status.busy": "2022-05-10T14:40:16.257669Z",
     "iopub.status.idle": "2022-05-10T14:40:16.263470Z",
     "shell.execute_reply": "2022-05-10T14:40:16.262914Z"
    }
   },
   "outputs": [],
   "source": [
    "O = me.Point('O')\n",
    "P = me.Point('P')\n",
    "S = me.Point('S')\n",
    "Q = me.Point('Q')\n",
    "\n",
    "P.set_pos(O, h*N.z)\n",
    "S.set_pos(P, -d*A.x)\n",
    "Q.set_pos(S, -w*B.x - (c + l/2)*B.z)"
   ]
  },
  {
   "cell_type": "code",
   "execution_count": 12,
   "id": "bd5f63a2",
   "metadata": {
    "execution": {
     "iopub.execute_input": "2022-05-10T14:40:16.265924Z",
     "iopub.status.busy": "2022-05-10T14:40:16.265459Z",
     "iopub.status.idle": "2022-05-10T14:40:16.273193Z",
     "shell.execute_reply": "2022-05-10T14:40:16.272699Z"
    }
   },
   "outputs": [
    {
     "data": {
      "text/latex": [
       "$\\displaystyle -  w\\mathbf{\\hat{b}_x} + (- c - \\frac{l}{2})\\mathbf{\\hat{b}_z} -  d\\mathbf{\\hat{a}_x} + h\\mathbf{\\hat{n}_z}$"
      ],
      "text/plain": [
       "         ⎛     l⎞\n",
       "-w b_x + ⎜-c - ─⎟ b_z + -d a_x + h n_z\n",
       "         ⎝     2⎠"
      ]
     },
     "execution_count": 12,
     "metadata": {},
     "output_type": "execute_result"
    }
   ],
   "source": [
    "Q.pos_from(O)"
   ]
  },
  {
   "cell_type": "code",
   "execution_count": 13,
   "id": "8e826440",
   "metadata": {
    "execution": {
     "iopub.execute_input": "2022-05-10T14:40:16.275891Z",
     "iopub.status.busy": "2022-05-10T14:40:16.275401Z",
     "iopub.status.idle": "2022-05-10T14:40:16.279249Z",
     "shell.execute_reply": "2022-05-10T14:40:16.278758Z"
    }
   },
   "outputs": [],
   "source": [
    "O.set_vel(N, 0)"
   ]
  },
  {
   "cell_type": "code",
   "execution_count": 14,
   "id": "1caa4dfb",
   "metadata": {
    "execution": {
     "iopub.execute_input": "2022-05-10T14:40:16.281923Z",
     "iopub.status.busy": "2022-05-10T14:40:16.281428Z",
     "iopub.status.idle": "2022-05-10T14:40:16.304065Z",
     "shell.execute_reply": "2022-05-10T14:40:16.303541Z"
    }
   },
   "outputs": [
    {
     "data": {
      "text/latex": [
       "$\\displaystyle \\left(- c - \\frac{l}{2}\\right) \\sin{\\left(\\beta \\right)} \\dot{\\alpha}\\mathbf{\\hat{b}_x} + (- w \\cos{\\left(\\beta \\right)} \\dot{\\alpha} - \\left(- c - \\frac{l}{2}\\right) \\dot{\\beta})\\mathbf{\\hat{b}_y} + w \\sin{\\left(\\beta \\right)} \\dot{\\alpha}\\mathbf{\\hat{b}_z} -  d \\dot{\\alpha}\\mathbf{\\hat{a}_y}$"
      ],
      "text/plain": [
       "⎛     l⎞                ⎛              ⎛     l⎞  ⎞\n",
       "⎜-c - ─⎟⋅sin(β)⋅α̇ b_x + ⎜-w⋅cos(β)⋅α̇ - ⎜-c - ─⎟⋅β̇⎟ b_y + w⋅sin(β)⋅α̇ b_z +\n",
       "⎝     2⎠                ⎝              ⎝     2⎠  ⎠\n",
       "\n",
       "\n",
       "-d⋅α̇ a_y\n"
      ]
     },
     "execution_count": 14,
     "metadata": {},
     "output_type": "execute_result"
    }
   ],
   "source": [
    "Q.vel(N)"
   ]
  },
  {
   "cell_type": "code",
   "execution_count": 15,
   "id": "ee3a9ad5",
   "metadata": {
    "execution": {
     "iopub.execute_input": "2022-05-10T14:40:16.306798Z",
     "iopub.status.busy": "2022-05-10T14:40:16.306374Z",
     "iopub.status.idle": "2022-05-10T14:40:16.310465Z",
     "shell.execute_reply": "2022-05-10T14:40:16.309945Z"
    }
   },
   "outputs": [],
   "source": [
    "N_v_P = 0*N.z"
   ]
  },
  {
   "cell_type": "code",
   "execution_count": 16,
   "id": "0fcf8c5d",
   "metadata": {
    "execution": {
     "iopub.execute_input": "2022-05-10T14:40:16.312919Z",
     "iopub.status.busy": "2022-05-10T14:40:16.312449Z",
     "iopub.status.idle": "2022-05-10T14:40:16.321757Z",
     "shell.execute_reply": "2022-05-10T14:40:16.321255Z"
    }
   },
   "outputs": [
    {
     "data": {
      "text/latex": [
       "$\\displaystyle -  d \\dot{\\alpha}\\mathbf{\\hat{a}_y}$"
      ],
      "text/plain": [
       "-d⋅α̇ a_y"
      ]
     },
     "execution_count": 16,
     "metadata": {},
     "output_type": "execute_result"
    }
   ],
   "source": [
    "N_v_S = N_v_P +  me.cross(A.ang_vel_in(N), S.pos_from(P))\n",
    "N_v_S"
   ]
  },
  {
   "cell_type": "code",
   "execution_count": 17,
   "id": "5dbed300",
   "metadata": {
    "execution": {
     "iopub.execute_input": "2022-05-10T14:40:16.324151Z",
     "iopub.status.busy": "2022-05-10T14:40:16.323692Z",
     "iopub.status.idle": "2022-05-10T14:40:16.332068Z",
     "shell.execute_reply": "2022-05-10T14:40:16.331514Z"
    }
   },
   "outputs": [
    {
     "data": {
      "text/latex": [
       "$\\displaystyle -  d \\dot{\\alpha}\\mathbf{\\hat{a}_y}$"
      ],
      "text/plain": [
       "-d⋅α̇ a_y"
      ]
     },
     "execution_count": 17,
     "metadata": {},
     "output_type": "execute_result"
    }
   ],
   "source": [
    "P.set_vel(N, 0)\n",
    "S.v2pt_theory(P, N, A)"
   ]
  },
  {
   "cell_type": "code",
   "execution_count": 18,
   "id": "3a118b58",
   "metadata": {
    "execution": {
     "iopub.execute_input": "2022-05-10T14:40:16.334535Z",
     "iopub.status.busy": "2022-05-10T14:40:16.334061Z",
     "iopub.status.idle": "2022-05-10T14:40:16.339028Z",
     "shell.execute_reply": "2022-05-10T14:40:16.338487Z"
    }
   },
   "outputs": [
    {
     "data": {
      "text/latex": [
       "$\\displaystyle -  d \\dot{\\alpha}\\mathbf{\\hat{a}_y}$"
      ],
      "text/plain": [
       "-d⋅α̇ a_y"
      ]
     },
     "execution_count": 18,
     "metadata": {},
     "output_type": "execute_result"
    }
   ],
   "source": [
    "S.vel(N)"
   ]
  },
  {
   "cell_type": "code",
   "execution_count": 19,
   "id": "24edf692",
   "metadata": {
    "execution": {
     "iopub.execute_input": "2022-05-10T14:40:16.341871Z",
     "iopub.status.busy": "2022-05-10T14:40:16.341545Z",
     "iopub.status.idle": "2022-05-10T14:40:16.355524Z",
     "shell.execute_reply": "2022-05-10T14:40:16.354972Z"
    }
   },
   "outputs": [
    {
     "data": {
      "text/latex": [
       "$\\displaystyle -  d \\dot{\\alpha}\\mathbf{\\hat{a}_y} + \\left(- c - \\frac{l}{2}\\right) \\sin{\\left(\\beta \\right)} \\dot{\\alpha}\\mathbf{\\hat{b}_x} + (- w \\cos{\\left(\\beta \\right)} \\dot{\\alpha} - \\left(- c - \\frac{l}{2}\\right) \\dot{\\beta})\\mathbf{\\hat{b}_y} + w \\sin{\\left(\\beta \\right)} \\dot{\\alpha}\\mathbf{\\hat{b}_z}$"
      ],
      "text/plain": [
       "           ⎛     l⎞                ⎛              ⎛     l⎞  ⎞\n",
       "-d⋅α̇ a_y + ⎜-c - ─⎟⋅sin(β)⋅α̇ b_x + ⎜-w⋅cos(β)⋅α̇ - ⎜-c - ─⎟⋅β̇⎟ b_y + w⋅sin(\n",
       "           ⎝     2⎠                ⎝              ⎝     2⎠  ⎠\n",
       "\n",
       "\n",
       "β)⋅α̇ b_z\n"
      ]
     },
     "execution_count": 19,
     "metadata": {},
     "output_type": "execute_result"
    }
   ],
   "source": [
    "N_v_Q = N_v_S +  me.cross(B.ang_vel_in(N), Q.pos_from(S))\n",
    "N_v_Q"
   ]
  },
  {
   "cell_type": "code",
   "execution_count": 20,
   "id": "6fc0b050",
   "metadata": {
    "execution": {
     "iopub.execute_input": "2022-05-10T14:40:16.358400Z",
     "iopub.status.busy": "2022-05-10T14:40:16.357995Z",
     "iopub.status.idle": "2022-05-10T14:40:16.371696Z",
     "shell.execute_reply": "2022-05-10T14:40:16.371129Z"
    }
   },
   "outputs": [
    {
     "data": {
      "text/latex": [
       "$\\displaystyle -  d \\dot{\\alpha}\\mathbf{\\hat{a}_y} + \\left(- c - \\frac{l}{2}\\right) \\sin{\\left(\\beta \\right)} \\dot{\\alpha}\\mathbf{\\hat{b}_x} + (- w \\cos{\\left(\\beta \\right)} \\dot{\\alpha} - \\left(- c - \\frac{l}{2}\\right) \\dot{\\beta})\\mathbf{\\hat{b}_y} + w \\sin{\\left(\\beta \\right)} \\dot{\\alpha}\\mathbf{\\hat{b}_z}$"
      ],
      "text/plain": [
       "           ⎛     l⎞                ⎛              ⎛     l⎞  ⎞\n",
       "-d⋅α̇ a_y + ⎜-c - ─⎟⋅sin(β)⋅α̇ b_x + ⎜-w⋅cos(β)⋅α̇ - ⎜-c - ─⎟⋅β̇⎟ b_y + w⋅sin(\n",
       "           ⎝     2⎠                ⎝              ⎝     2⎠  ⎠\n",
       "\n",
       "\n",
       "β)⋅α̇ b_z\n"
      ]
     },
     "execution_count": 20,
     "metadata": {},
     "output_type": "execute_result"
    }
   ],
   "source": [
    "Q.v2pt_theory(S, N, B)"
   ]
  },
  {
   "cell_type": "code",
   "execution_count": 21,
   "id": "ff02c513",
   "metadata": {
    "execution": {
     "iopub.execute_input": "2022-05-10T14:40:16.374229Z",
     "iopub.status.busy": "2022-05-10T14:40:16.373756Z",
     "iopub.status.idle": "2022-05-10T14:40:16.391009Z",
     "shell.execute_reply": "2022-05-10T14:40:16.390475Z"
    }
   },
   "outputs": [
    {
     "data": {
      "text/latex": [
       "$\\displaystyle (- d \\dot{\\alpha} - \\frac{w \\dot{\\alpha}}{2})\\mathbf{\\hat{a}_y} -  c \\sin{\\left(\\beta \\right)} \\dot{\\alpha}\\mathbf{\\hat{b}_x} + c \\dot{\\beta}\\mathbf{\\hat{b}_y}$"
      ],
      "text/plain": [
       "⎛       w⋅α̇⎞\n",
       "⎜-d⋅α̇ - ───⎟ a_y + -c⋅sin(β)⋅α̇ b_x + c⋅β̇ b_y\n",
       "⎝        2 ⎠"
      ]
     },
     "execution_count": 21,
     "metadata": {},
     "output_type": "execute_result"
    }
   ],
   "source": [
    "Bc = me.Point('B_c')\n",
    "Bc.set_pos(S, -c*B.z - w/2*A.x)\n",
    "Bc.v2pt_theory(S, N, B)"
   ]
  },
  {
   "cell_type": "code",
   "execution_count": 22,
   "id": "097af93d",
   "metadata": {
    "execution": {
     "iopub.execute_input": "2022-05-10T14:40:16.393424Z",
     "iopub.status.busy": "2022-05-10T14:40:16.392952Z",
     "iopub.status.idle": "2022-05-10T14:40:16.397886Z",
     "shell.execute_reply": "2022-05-10T14:40:16.397319Z"
    }
   },
   "outputs": [],
   "source": [
    "s = me.dynamicsymbols('s')\n",
    "t = me.dynamicsymbols._t\n",
    "\n",
    "R = me.Point('R')\n",
    "R.set_pos(Q, l*B.z + s*B.x)"
   ]
  },
  {
   "cell_type": "code",
   "execution_count": 23,
   "id": "13c893aa",
   "metadata": {
    "execution": {
     "iopub.execute_input": "2022-05-10T14:40:16.400201Z",
     "iopub.status.busy": "2022-05-10T14:40:16.399872Z",
     "iopub.status.idle": "2022-05-10T14:40:16.405250Z",
     "shell.execute_reply": "2022-05-10T14:40:16.404708Z"
    }
   },
   "outputs": [
    {
     "data": {
      "text/latex": [
       "$\\displaystyle \\dot{s}\\mathbf{\\hat{b}_x}$"
      ],
      "text/plain": [
       "ṡ b_x"
      ]
     },
     "execution_count": 23,
     "metadata": {},
     "output_type": "execute_result"
    }
   ],
   "source": [
    "B_v_R = s.diff(t)*B.x\n",
    "B_v_R"
   ]
  },
  {
   "cell_type": "code",
   "execution_count": 24,
   "id": "dc66f4f6",
   "metadata": {
    "execution": {
     "iopub.execute_input": "2022-05-10T14:40:16.407991Z",
     "iopub.status.busy": "2022-05-10T14:40:16.407670Z",
     "iopub.status.idle": "2022-05-10T14:40:16.414042Z",
     "shell.execute_reply": "2022-05-10T14:40:16.413498Z"
    }
   },
   "outputs": [
    {
     "data": {
      "text/latex": [
       "$\\displaystyle (- w + s)\\mathbf{\\hat{b}_x} + (- c + \\frac{l}{2})\\mathbf{\\hat{b}_z}$"
      ],
      "text/plain": [
       "               ⎛     l⎞\n",
       "(-w + s) b_x + ⎜-c + ─⎟ b_z\n",
       "               ⎝     2⎠"
      ]
     },
     "execution_count": 24,
     "metadata": {},
     "output_type": "execute_result"
    }
   ],
   "source": [
    "r_S_R = R.pos_from(S)\n",
    "r_S_R"
   ]
  },
  {
   "cell_type": "code",
   "execution_count": 25,
   "id": "52e857b7",
   "metadata": {
    "execution": {
     "iopub.execute_input": "2022-05-10T14:40:16.416914Z",
     "iopub.status.busy": "2022-05-10T14:40:16.416455Z",
     "iopub.status.idle": "2022-05-10T14:40:16.435276Z",
     "shell.execute_reply": "2022-05-10T14:40:16.434737Z"
    }
   },
   "outputs": [
    {
     "data": {
      "text/latex": [
       "$\\displaystyle -  d \\dot{\\alpha}\\mathbf{\\hat{a}_y} + \\left(- c + \\frac{l}{2}\\right) \\sin{\\left(\\beta \\right)} \\dot{\\alpha}\\mathbf{\\hat{b}_x} + (- \\left(- c + \\frac{l}{2}\\right) \\dot{\\beta} + \\left(- w + s\\right) \\cos{\\left(\\beta \\right)} \\dot{\\alpha})\\mathbf{\\hat{b}_y} -  \\left(- w + s\\right) \\sin{\\left(\\beta \\right)} \\dot{\\alpha}\\mathbf{\\hat{b}_z}$"
      ],
      "text/plain": [
       "           ⎛     l⎞                ⎛  ⎛     l⎞                      ⎞\n",
       "-d⋅α̇ a_y + ⎜-c + ─⎟⋅sin(β)⋅α̇ b_x + ⎜- ⎜-c + ─⎟⋅β̇ + (-w + s)⋅cos(β)⋅α̇⎟ b_y\n",
       "           ⎝     2⎠                ⎝  ⎝     2⎠                      ⎠\n",
       "\n",
       "\n",
       "+ -(-w + s)⋅sin(β)⋅α̇ b_z\n"
      ]
     },
     "execution_count": 25,
     "metadata": {},
     "output_type": "execute_result"
    }
   ],
   "source": [
    "N_v_T = N_v_S + me.cross(B.ang_vel_in(N), r_S_R)\n",
    "N_v_T"
   ]
  },
  {
   "cell_type": "code",
   "execution_count": 26,
   "id": "d2232dd6",
   "metadata": {
    "execution": {
     "iopub.execute_input": "2022-05-10T14:40:16.437571Z",
     "iopub.status.busy": "2022-05-10T14:40:16.437343Z",
     "iopub.status.idle": "2022-05-10T14:40:16.449317Z",
     "shell.execute_reply": "2022-05-10T14:40:16.448763Z"
    }
   },
   "outputs": [
    {
     "data": {
      "text/latex": [
       "$\\displaystyle (\\left(- c + \\frac{l}{2}\\right) \\sin{\\left(\\beta \\right)} \\dot{\\alpha} + \\dot{s})\\mathbf{\\hat{b}_x} + (- \\left(- c + \\frac{l}{2}\\right) \\dot{\\beta} + \\left(- w + s\\right) \\cos{\\left(\\beta \\right)} \\dot{\\alpha})\\mathbf{\\hat{b}_y} -  \\left(- w + s\\right) \\sin{\\left(\\beta \\right)} \\dot{\\alpha}\\mathbf{\\hat{b}_z} -  d \\dot{\\alpha}\\mathbf{\\hat{a}_y}$"
      ],
      "text/plain": [
       "⎛⎛     l⎞             ⎞       ⎛  ⎛     l⎞                      ⎞\n",
       "⎜⎜-c + ─⎟⋅sin(β)⋅α̇ + ṡ⎟ b_x + ⎜- ⎜-c + ─⎟⋅β̇ + (-w + s)⋅cos(β)⋅α̇⎟ b_y + -(-\n",
       "⎝⎝     2⎠             ⎠       ⎝  ⎝     2⎠                      ⎠\n",
       "\n",
       "\n",
       "w + s)⋅sin(β)⋅α̇ b_z + -d⋅α̇ a_y\n"
      ]
     },
     "execution_count": 26,
     "metadata": {},
     "output_type": "execute_result"
    }
   ],
   "source": [
    "N_v_R = B_v_R + N_v_T\n",
    "N_v_R"
   ]
  },
  {
   "cell_type": "code",
   "execution_count": 27,
   "id": "ee99acd6",
   "metadata": {
    "execution": {
     "iopub.execute_input": "2022-05-10T14:40:16.451697Z",
     "iopub.status.busy": "2022-05-10T14:40:16.451374Z",
     "iopub.status.idle": "2022-05-10T14:40:16.476964Z",
     "shell.execute_reply": "2022-05-10T14:40:16.476378Z"
    }
   },
   "outputs": [
    {
     "data": {
      "text/latex": [
       "$\\displaystyle (\\left(- c + \\frac{l}{2}\\right) \\sin{\\left(\\beta \\right)} \\dot{\\alpha} + \\dot{s})\\mathbf{\\hat{b}_x} + (- \\left(- c + \\frac{l}{2}\\right) \\dot{\\beta} + \\left(- w + s\\right) \\cos{\\left(\\beta \\right)} \\dot{\\alpha})\\mathbf{\\hat{b}_y} -  \\left(- w + s\\right) \\sin{\\left(\\beta \\right)} \\dot{\\alpha}\\mathbf{\\hat{b}_z} -  d \\dot{\\alpha}\\mathbf{\\hat{a}_y}$"
      ],
      "text/plain": [
       "⎛⎛     l⎞             ⎞       ⎛  ⎛     l⎞                      ⎞\n",
       "⎜⎜-c + ─⎟⋅sin(β)⋅α̇ + ṡ⎟ b_x + ⎜- ⎜-c + ─⎟⋅β̇ + (-w + s)⋅cos(β)⋅α̇⎟ b_y + -(-\n",
       "⎝⎝     2⎠             ⎠       ⎝  ⎝     2⎠                      ⎠\n",
       "\n",
       "\n",
       "w + s)⋅sin(β)⋅α̇ b_z + -d⋅α̇ a_y\n"
      ]
     },
     "execution_count": 27,
     "metadata": {},
     "output_type": "execute_result"
    }
   ],
   "source": [
    "S.set_vel(B, 0)\n",
    "R.v1pt_theory(S, N, B)"
   ]
  },
  {
   "cell_type": "code",
   "execution_count": 28,
   "id": "80ecccea",
   "metadata": {
    "execution": {
     "iopub.execute_input": "2022-05-10T14:40:16.479731Z",
     "iopub.status.busy": "2022-05-10T14:40:16.479162Z",
     "iopub.status.idle": "2022-05-10T14:40:16.491397Z",
     "shell.execute_reply": "2022-05-10T14:40:16.490839Z"
    }
   },
   "outputs": [
    {
     "data": {
      "text/latex": [
       "$\\displaystyle d \\dot{\\alpha}^{2}\\mathbf{\\hat{a}_x} -  d \\ddot{\\alpha}\\mathbf{\\hat{a}_y}$"
      ],
      "text/plain": [
       "   2\n",
       "d⋅α̇  a_x + -d⋅α̈ a_y"
      ]
     },
     "execution_count": 28,
     "metadata": {},
     "output_type": "execute_result"
    }
   ],
   "source": [
    "S.acc(N)"
   ]
  },
  {
   "cell_type": "code",
   "execution_count": 29,
   "id": "18a0ad7c",
   "metadata": {
    "execution": {
     "iopub.execute_input": "2022-05-10T14:40:16.493877Z",
     "iopub.status.busy": "2022-05-10T14:40:16.493394Z",
     "iopub.status.idle": "2022-05-10T14:40:16.503074Z",
     "shell.execute_reply": "2022-05-10T14:40:16.502512Z"
    }
   },
   "outputs": [
    {
     "data": {
      "text/latex": [
       "$\\displaystyle -  d \\ddot{\\alpha}\\mathbf{\\hat{a}_y}$"
      ],
      "text/plain": [
       "-d⋅α̈ a_y"
      ]
     },
     "execution_count": 29,
     "metadata": {},
     "output_type": "execute_result"
    }
   ],
   "source": [
    "me.cross(A.ang_acc_in(N), S.pos_from(P))"
   ]
  },
  {
   "cell_type": "code",
   "execution_count": 30,
   "id": "7b6b6c74",
   "metadata": {
    "execution": {
     "iopub.execute_input": "2022-05-10T14:40:16.505316Z",
     "iopub.status.busy": "2022-05-10T14:40:16.504994Z",
     "iopub.status.idle": "2022-05-10T14:40:16.514635Z",
     "shell.execute_reply": "2022-05-10T14:40:16.514084Z"
    }
   },
   "outputs": [
    {
     "data": {
      "text/latex": [
       "$\\displaystyle d \\dot{\\alpha}^{2}\\mathbf{\\hat{a}_x}$"
      ],
      "text/plain": [
       "   2\n",
       "d⋅α̇  a_x"
      ]
     },
     "execution_count": 30,
     "metadata": {},
     "output_type": "execute_result"
    }
   ],
   "source": [
    "me.cross(A.ang_vel_in(N), me.cross(A.ang_vel_in(N), S.pos_from(P)))"
   ]
  },
  {
   "cell_type": "code",
   "execution_count": 31,
   "id": "651f4708",
   "metadata": {
    "execution": {
     "iopub.execute_input": "2022-05-10T14:40:16.517531Z",
     "iopub.status.busy": "2022-05-10T14:40:16.517049Z",
     "iopub.status.idle": "2022-05-10T14:40:16.530806Z",
     "shell.execute_reply": "2022-05-10T14:40:16.530252Z"
    }
   },
   "outputs": [
    {
     "data": {
      "text/latex": [
       "$\\displaystyle d \\dot{\\alpha}^{2}\\mathbf{\\hat{a}_x} -  d \\ddot{\\alpha}\\mathbf{\\hat{a}_y}$"
      ],
      "text/plain": [
       "   2\n",
       "d⋅α̇  a_x + -d⋅α̈ a_y"
      ]
     },
     "execution_count": 31,
     "metadata": {},
     "output_type": "execute_result"
    }
   ],
   "source": [
    "S.a2pt_theory(P, N, A)"
   ]
  },
  {
   "cell_type": "code",
   "execution_count": 32,
   "id": "d61cfb6f",
   "metadata": {
    "execution": {
     "iopub.execute_input": "2022-05-10T14:40:16.533631Z",
     "iopub.status.busy": "2022-05-10T14:40:16.533208Z",
     "iopub.status.idle": "2022-05-10T14:40:16.589263Z",
     "shell.execute_reply": "2022-05-10T14:40:16.588656Z"
    }
   },
   "outputs": [
    {
     "data": {
      "text/latex": [
       "$\\displaystyle d \\dot{\\alpha}^{2}\\mathbf{\\hat{a}_x} -  d \\ddot{\\alpha}\\mathbf{\\hat{a}_y} + (w \\sin^{2}{\\left(\\beta \\right)} \\dot{\\alpha}^{2} + \\left(- c - \\frac{l}{2}\\right) \\left(\\sin{\\left(\\beta \\right)} \\ddot{\\alpha} + \\cos{\\left(\\beta \\right)} \\dot{\\alpha} \\dot{\\beta}\\right) - \\left(- w \\cos{\\left(\\beta \\right)} \\dot{\\alpha} - \\left(- c - \\frac{l}{2}\\right) \\dot{\\beta}\\right) \\cos{\\left(\\beta \\right)} \\dot{\\alpha})\\mathbf{\\hat{b}_x} + (- w \\left(- \\sin{\\left(\\beta \\right)} \\dot{\\alpha} \\dot{\\beta} + \\cos{\\left(\\beta \\right)} \\ddot{\\alpha}\\right) - w \\sin{\\left(\\beta \\right)} \\dot{\\alpha} \\dot{\\beta} + \\left(- c - \\frac{l}{2}\\right) \\sin{\\left(\\beta \\right)} \\cos{\\left(\\beta \\right)} \\dot{\\alpha}^{2} - \\left(- c - \\frac{l}{2}\\right) \\ddot{\\beta})\\mathbf{\\hat{b}_y} + (w \\left(\\sin{\\left(\\beta \\right)} \\ddot{\\alpha} + \\cos{\\left(\\beta \\right)} \\dot{\\alpha} \\dot{\\beta}\\right) - \\left(- c - \\frac{l}{2}\\right) \\sin^{2}{\\left(\\beta \\right)} \\dot{\\alpha}^{2} + \\left(- w \\cos{\\left(\\beta \\right)} \\dot{\\alpha} - \\left(- c - \\frac{l}{2}\\right) \\dot{\\beta}\\right) \\dot{\\beta})\\mathbf{\\hat{b}_z}$"
      ],
      "text/plain": [
       "   2                  ⎛     2     2   ⎛     l⎞                           ⎛\n",
       "d⋅α̇  a_x + -d⋅α̈ a_y + ⎜w⋅sin (β)⋅α̇  + ⎜-c - ─⎟⋅(sin(β)⋅α̈ + cos(β)⋅α̇⋅β̇) -\n",
       "                      ⎝               ⎝     2⎠                           ⎝\n",
       "\n",
       "          ⎛     l⎞  ⎞         ⎞       ⎛\n",
       " ⎜-w⋅cos(β)⋅α̇ - ⎜-c - ─⎟⋅β̇⎟⋅cos(β)⋅α̇⎟ b_x + ⎜-w⋅(-sin(β)⋅α̇⋅β̇ + cos(β)⋅α̈)\n",
       "          ⎝     2⎠  ⎠         ⎠       ⎝\n",
       "\n",
       "      ⎛     l⎞                2   ⎛     l⎞  ⎞       ⎛\n",
       " - w⋅sin(β)⋅α̇⋅β̇ + ⎜-c - ─⎟⋅sin(β)⋅cos(β)⋅α̇  - ⎜-c - ─⎟⋅β̈⎟ b_y + ⎜w⋅(sin(β)\n",
       "      ⎝     2⎠                    ⎝     2⎠  ⎠       ⎝\n",
       "\n",
       "   ⎛     l⎞    2     2   ⎛              ⎛     l⎞  ⎞  ⎞\n",
       "⋅α̈ + cos(β)⋅α̇⋅β̇) - ⎜-c - ─⎟⋅sin (β)⋅α̇  + ⎜-w⋅cos(β)⋅α̇ - ⎜-c - ─⎟⋅β̇⎟⋅β̇⎟\n",
       "   ⎝     2⎠              ⎝              ⎝     2⎠  ⎠  ⎠"
      ]
     },
     "execution_count": 32,
     "metadata": {},
     "output_type": "execute_result"
    }
   ],
   "source": [
    "Q.a2pt_theory(S, N, B)"
   ]
  },
  {
   "cell_type": "code",
   "execution_count": 33,
   "id": "56abc325",
   "metadata": {
    "execution": {
     "iopub.execute_input": "2022-05-10T14:40:16.592056Z",
     "iopub.status.busy": "2022-05-10T14:40:16.591703Z",
     "iopub.status.idle": "2022-05-10T14:40:16.598540Z",
     "shell.execute_reply": "2022-05-10T14:40:16.597988Z"
    }
   },
   "outputs": [
    {
     "data": {
      "text/latex": [
       "$\\displaystyle \\ddot{s}\\mathbf{\\hat{b}_x}$"
      ],
      "text/plain": [
       "s̈ b_x"
      ]
     },
     "execution_count": 33,
     "metadata": {},
     "output_type": "execute_result"
    }
   ],
   "source": [
    "B_a_R = R.acc(B)\n",
    "B_a_R"
   ]
  },
  {
   "cell_type": "code",
   "execution_count": 34,
   "id": "dc460d0d",
   "metadata": {
    "execution": {
     "iopub.execute_input": "2022-05-10T14:40:16.601589Z",
     "iopub.status.busy": "2022-05-10T14:40:16.601103Z",
     "iopub.status.idle": "2022-05-10T14:40:16.655009Z",
     "shell.execute_reply": "2022-05-10T14:40:16.654406Z"
    }
   },
   "outputs": [
    {
     "data": {
      "text/latex": [
       "$\\displaystyle d \\dot{\\alpha}^{2}\\mathbf{\\hat{a}_x} -  d \\ddot{\\alpha}\\mathbf{\\hat{a}_y} + (\\left(- c + \\frac{l}{2}\\right) \\left(\\sin{\\left(\\beta \\right)} \\ddot{\\alpha} + \\cos{\\left(\\beta \\right)} \\dot{\\alpha} \\dot{\\beta}\\right) - \\left(- w + s\\right) \\sin^{2}{\\left(\\beta \\right)} \\dot{\\alpha}^{2} - \\left(- \\left(- c + \\frac{l}{2}\\right) \\dot{\\beta} + \\left(- w + s\\right) \\cos{\\left(\\beta \\right)} \\dot{\\alpha}\\right) \\cos{\\left(\\beta \\right)} \\dot{\\alpha})\\mathbf{\\hat{b}_x} + (\\left(- c + \\frac{l}{2}\\right) \\sin{\\left(\\beta \\right)} \\cos{\\left(\\beta \\right)} \\dot{\\alpha}^{2} - \\left(- c + \\frac{l}{2}\\right) \\ddot{\\beta} + \\left(- w + s\\right) \\left(- \\sin{\\left(\\beta \\right)} \\dot{\\alpha} \\dot{\\beta} + \\cos{\\left(\\beta \\right)} \\ddot{\\alpha}\\right) + \\left(- w + s\\right) \\sin{\\left(\\beta \\right)} \\dot{\\alpha} \\dot{\\beta})\\mathbf{\\hat{b}_y} + (- \\left(- c + \\frac{l}{2}\\right) \\sin^{2}{\\left(\\beta \\right)} \\dot{\\alpha}^{2} - \\left(- w + s\\right) \\left(\\sin{\\left(\\beta \\right)} \\ddot{\\alpha} + \\cos{\\left(\\beta \\right)} \\dot{\\alpha} \\dot{\\beta}\\right) + \\left(- \\left(- c + \\frac{l}{2}\\right) \\dot{\\beta} + \\left(- w + s\\right) \\cos{\\left(\\beta \\right)} \\dot{\\alpha}\\right) \\dot{\\beta})\\mathbf{\\hat{b}_z}$"
      ],
      "text/plain": [
       "   2                  ⎛⎛     l⎞                                       2     2\n",
       "d⋅α̇  a_x + -d⋅α̈ a_y + ⎜⎜-c + ─⎟⋅(sin(β)⋅α̈ + cos(β)⋅α̇⋅β̇) - (-w + s)⋅sin (β\n",
       "                      ⎝⎝     2⎠\n",
       "\n",
       "  ⎛  ⎛     l⎞                      ⎞         ⎞       ⎛⎛     l⎞\n",
       ")⋅α̇  - ⎜- ⎜-c + ─⎟⋅β̇ + (-w + s)⋅cos(β)⋅α̇⎟⋅cos(β)⋅α̇⎟ b_x + ⎜⎜-c + ─⎟⋅sin(β)\n",
       "  ⎝  ⎝     2⎠                      ⎠         ⎠       ⎝⎝     2⎠\n",
       "\n",
       "2   ⎛     l⎞                                                            ⎞\n",
       "⋅cos(β)⋅α̇  - ⎜-c + ─⎟⋅β̈ + (-w + s)⋅(-sin(β)⋅α̇⋅β̇ + cos(β)⋅α̈) + (-w + s)⋅si\n",
       "    ⎝     2⎠                                                            ⎠\n",
       "\n",
       "  ⎛  ⎛     l⎞    2     2                                      ⎛  ⎛     l⎞\n",
       "n(β)⋅α̇⋅β̇⎟ b_y + ⎜- ⎜-c + ─⎟⋅sin (β)⋅α̇  - (-w + s)⋅(sin(β)⋅α̈ + cos(β)⋅α̇⋅β̇\n",
       "  ⎝  ⎝     2⎠                                                 ⎝  ⎝     2⎠\n",
       "\n",
       "                 ⎞  ⎞\n",
       ") + ⎜- ⎜-c + ─⎟⋅β̇ + (-w + s)⋅cos(β)⋅α̇⎟⋅β̇⎟ b_z\n",
       "                 ⎠  ⎠"
      ]
     },
     "execution_count": 34,
     "metadata": {},
     "output_type": "execute_result"
    }
   ],
   "source": [
    "N_a_T = R.a2pt_theory(S, N, B)\n",
    "N_a_T"
   ]
  },
  {
   "cell_type": "code",
   "execution_count": 35,
   "id": "d54f4e5a",
   "metadata": {
    "execution": {
     "iopub.execute_input": "2022-05-10T14:40:16.657888Z",
     "iopub.status.busy": "2022-05-10T14:40:16.657427Z",
     "iopub.status.idle": "2022-05-10T14:40:16.668727Z",
     "shell.execute_reply": "2022-05-10T14:40:16.668187Z"
    }
   },
   "outputs": [
    {
     "data": {
      "text/latex": [
       "$\\displaystyle 2 \\cos{\\left(\\beta \\right)} \\dot{\\alpha} \\dot{s}\\mathbf{\\hat{b}_y} -  2 \\sin{\\left(\\beta \\right)} \\dot{\\alpha} \\dot{s}\\mathbf{\\hat{b}_z}$"
      ],
      "text/plain": [
       "2⋅cos(β)⋅α̇⋅ṡ b_y + -2⋅sin(β)⋅α̇⋅ṡ b_z"
      ]
     },
     "execution_count": 35,
     "metadata": {},
     "output_type": "execute_result"
    }
   ],
   "source": [
    "2*me.cross(B.ang_vel_in(N), R.vel(B))"
   ]
  },
  {
   "cell_type": "code",
   "execution_count": 36,
   "id": "3c9764d5",
   "metadata": {
    "execution": {
     "iopub.execute_input": "2022-05-10T14:40:16.671695Z",
     "iopub.status.busy": "2022-05-10T14:40:16.671230Z",
     "iopub.status.idle": "2022-05-10T14:40:16.730180Z",
     "shell.execute_reply": "2022-05-10T14:40:16.729537Z"
    }
   },
   "outputs": [
    {
     "data": {
      "text/latex": [
       "$\\displaystyle (\\left(- c + \\frac{l}{2}\\right) \\left(\\sin{\\left(\\beta \\right)} \\ddot{\\alpha} + \\cos{\\left(\\beta \\right)} \\dot{\\alpha} \\dot{\\beta}\\right) - \\left(- w + s\\right) \\sin^{2}{\\left(\\beta \\right)} \\dot{\\alpha}^{2} - \\left(- \\left(- c + \\frac{l}{2}\\right) \\dot{\\beta} + \\left(- w + s\\right) \\cos{\\left(\\beta \\right)} \\dot{\\alpha}\\right) \\cos{\\left(\\beta \\right)} \\dot{\\alpha} + \\ddot{s})\\mathbf{\\hat{b}_x} + (\\left(- c + \\frac{l}{2}\\right) \\sin{\\left(\\beta \\right)} \\cos{\\left(\\beta \\right)} \\dot{\\alpha}^{2} - \\left(- c + \\frac{l}{2}\\right) \\ddot{\\beta} + \\left(- w + s\\right) \\left(- \\sin{\\left(\\beta \\right)} \\dot{\\alpha} \\dot{\\beta} + \\cos{\\left(\\beta \\right)} \\ddot{\\alpha}\\right) + \\left(- w + s\\right) \\sin{\\left(\\beta \\right)} \\dot{\\alpha} \\dot{\\beta} + 2 \\cos{\\left(\\beta \\right)} \\dot{\\alpha} \\dot{s})\\mathbf{\\hat{b}_y} + (- \\left(- c + \\frac{l}{2}\\right) \\sin^{2}{\\left(\\beta \\right)} \\dot{\\alpha}^{2} - \\left(- w + s\\right) \\left(\\sin{\\left(\\beta \\right)} \\ddot{\\alpha} + \\cos{\\left(\\beta \\right)} \\dot{\\alpha} \\dot{\\beta}\\right) + \\left(- \\left(- c + \\frac{l}{2}\\right) \\dot{\\beta} + \\left(- w + s\\right) \\cos{\\left(\\beta \\right)} \\dot{\\alpha}\\right) \\dot{\\beta} - 2 \\sin{\\left(\\beta \\right)} \\dot{\\alpha} \\dot{s})\\mathbf{\\hat{b}_z} + d \\dot{\\alpha}^{2}\\mathbf{\\hat{a}_x} -  d \\ddot{\\alpha}\\mathbf{\\hat{a}_y}$"
      ],
      "text/plain": [
       "⎛⎛     l⎞                                       2     2   ⎛  ⎛     l⎞\n",
       "⎜⎜-c + ─⎟⋅(sin(β)⋅α̈ + cos(β)⋅α̇⋅β̇) - (-w + s)⋅sin (β)⋅α̇  - ⎜- ⎜-c + ─⎟⋅β̇ +\n",
       "⎝⎝     2⎠                                                 ⎝  ⎝     2⎠\n",
       "\n",
       "             ⎞             ⎞       ⎛⎛     l⎞                2   ⎛     l⎞\n",
       " (-w + s)⋅cos(β)⋅α̇⎟⋅cos(β)⋅α̇ + s̈⎟ b_x + ⎜⎜-c + ─⎟⋅sin(β)⋅cos(β)⋅α̇  - ⎜-c +\n",
       "             ⎠             ⎠       ⎝⎝     2⎠                    ⎝     2⎠\n",
       "\n",
       "                                                                     ⎞       ⎛\n",
       " ─⎟⋅β̈ + (-w + s)⋅(-sin(β)⋅α̇⋅β̇ + cos(β)⋅α̈) + (-w + s)⋅sin(β)⋅α̇⋅β̇ + 2⋅cos(\n",
       "                                                                     ⎠       ⎝\n",
       "\n",
       "  ⎛     l⎞    2     2                                      ⎛  ⎛     l⎞\n",
       "β)⋅α̇⋅ṡ⎟ b_y + ⎜- ⎜-c + ─⎟⋅sin (β)⋅α̇  - (-w + s)⋅(sin(β)⋅α̈ + cos(β)⋅α̇⋅β̇)\n",
       "  ⎝     2⎠                                                 ⎝  ⎝     2⎠\n",
       "\n",
       "              ⎞                 ⎞          2\n",
       "+ ⎜- ⎜-c + ─⎟⋅β̇ + (-w + s)⋅cos(β)⋅α̇⎟⋅β̇ - 2⋅sin(β)⋅α̇⋅ṡ⎟ b_z + d⋅α̇  a_x +\n",
       "              ⎠                 ⎠"
      ]
     },
     "execution_count": 36,
     "metadata": {},
     "output_type": "execute_result"
    }
   ],
   "source": [
    "R.a1pt_theory(S, N, B)"
   ]
  }
 ],
 "metadata": {
  "kernelspec": {
   "display_name": "Python 3 (ipykernel)",
   "language": "python",
   "name": "python3"
  },
  "language_info": {
   "codemirror_mode": {
    "name": "ipython",
    "version": 3
   },
   "file_extension": ".py",
   "mimetype": "text/x-python",
   "name": "python",
   "nbconvert_exporter": "python",
   "pygments_lexer": "ipython3",
   "version": "3.9.12"
  }
 },
 "nbformat": 4,
 "nbformat_minor": 5
}