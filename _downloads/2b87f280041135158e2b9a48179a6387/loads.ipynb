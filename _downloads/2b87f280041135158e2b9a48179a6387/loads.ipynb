{
 "cells": [
  {
   "cell_type": "code",
   "execution_count": 1,
   "id": "ceb543a6",
   "metadata": {
    "execution": {
     "iopub.execute_input": "2022-05-10T14:39:31.780075Z",
     "iopub.status.busy": "2022-05-10T14:39:31.779780Z",
     "iopub.status.idle": "2022-05-10T14:39:32.308157Z",
     "shell.execute_reply": "2022-05-10T14:39:32.307526Z"
    }
   },
   "outputs": [],
   "source": [
    "import sympy as sm\n",
    "import sympy.physics.mechanics as me\n",
    "me.init_vprinting(use_latex='mathjax')"
   ]
  },
  {
   "cell_type": "code",
   "execution_count": 2,
   "id": "d988b5c4",
   "metadata": {
    "execution": {
     "iopub.execute_input": "2022-05-10T14:39:32.311329Z",
     "iopub.status.busy": "2022-05-10T14:39:32.310923Z",
     "iopub.status.idle": "2022-05-10T14:39:32.316272Z",
     "shell.execute_reply": "2022-05-10T14:39:32.315713Z"
    }
   },
   "outputs": [],
   "source": [
    "N = me.ReferenceFrame('N')\n",
    "\n",
    "F1 = 2*N.x + 3*N.y\n",
    "F2 = -4*N.x + 5*N.y\n",
    "\n",
    "r_O_P1 = 2*N.x\n",
    "r_O_P2 = 3*N.x"
   ]
  },
  {
   "cell_type": "code",
   "execution_count": 3,
   "id": "e34cb2b2",
   "metadata": {
    "execution": {
     "iopub.execute_input": "2022-05-10T14:39:32.318811Z",
     "iopub.status.busy": "2022-05-10T14:39:32.318596Z",
     "iopub.status.idle": "2022-05-10T14:39:32.329709Z",
     "shell.execute_reply": "2022-05-10T14:39:32.329121Z"
    }
   },
   "outputs": [
    {
     "data": {
      "text/latex": [
       "$\\displaystyle 61\\mathbf{\\hat{n}_z}$"
      ],
      "text/plain": [
       "61 n_z"
      ]
     },
     "execution_count": 3,
     "metadata": {},
     "output_type": "execute_result"
    }
   ],
   "source": [
    "r_O_P = -5*N.x\n",
    "\n",
    "M_S_P = me.cross(r_O_P1 - r_O_P, F1) + me.cross(r_O_P2 - r_O_P, F2)\n",
    "M_S_P"
   ]
  },
  {
   "cell_type": "code",
   "execution_count": 4,
   "id": "db0ebf33",
   "metadata": {
    "execution": {
     "iopub.execute_input": "2022-05-10T14:39:32.332563Z",
     "iopub.status.busy": "2022-05-10T14:39:32.332350Z",
     "iopub.status.idle": "2022-05-10T14:39:32.343650Z",
     "shell.execute_reply": "2022-05-10T14:39:32.343089Z"
    }
   },
   "outputs": [
    {
     "data": {
      "text/latex": [
       "$\\displaystyle 61\\mathbf{\\hat{n}_z}$"
      ],
      "text/plain": [
       "61 n_z"
      ]
     },
     "execution_count": 4,
     "metadata": {},
     "output_type": "execute_result"
    }
   ],
   "source": [
    "r_O_Q = 5*N.y\n",
    "M_S_Q = me.cross(r_O_P1 - r_O_Q, F1) + me.cross(r_O_P2 - r_O_Q, F2)\n",
    "\n",
    "M_S_P = M_S_Q + me.cross(r_O_Q - r_O_P, F1 + F2)\n",
    "M_S_P"
   ]
  },
  {
   "cell_type": "code",
   "execution_count": 5,
   "id": "3e4e0523",
   "metadata": {
    "execution": {
     "iopub.execute_input": "2022-05-10T14:39:32.346566Z",
     "iopub.status.busy": "2022-05-10T14:39:32.346345Z",
     "iopub.status.idle": "2022-05-10T14:39:32.352118Z",
     "shell.execute_reply": "2022-05-10T14:39:32.351543Z"
    }
   },
   "outputs": [],
   "source": [
    "l, w = sm.symbols('l, w')\n",
    "Ffl, Ffr, Frl, Frr = me.dynamicsymbols('F_{fl}, F_{fr}, F_{rl}, F_{rr}')\n",
    "alphafl, alphafr = me.dynamicsymbols(r'\\alpha_{fl}, \\alpha_{fr}')\n",
    "alpharl, alpharr = me.dynamicsymbols(r'\\alpha_{rl}, \\alpha_{rr}')\n",
    "delta = me.dynamicsymbols('delta')"
   ]
  },
  {
   "cell_type": "code",
   "execution_count": 6,
   "id": "6a59da94",
   "metadata": {
    "execution": {
     "iopub.execute_input": "2022-05-10T14:39:32.354591Z",
     "iopub.status.busy": "2022-05-10T14:39:32.354123Z",
     "iopub.status.idle": "2022-05-10T14:39:32.379748Z",
     "shell.execute_reply": "2022-05-10T14:39:32.379247Z"
    }
   },
   "outputs": [],
   "source": [
    "B = me.ReferenceFrame('B')\n",
    "W = me.ReferenceFrame('W')\n",
    "FR = me.ReferenceFrame('F_R')\n",
    "FL = me.ReferenceFrame('F_L')\n",
    "RR = me.ReferenceFrame('R_R')\n",
    "RL = me.ReferenceFrame('R_L')\n",
    "\n",
    "W.orient_axis(B, delta, B.z)\n",
    "FR.orient_axis(W, alphafr, W.z)\n",
    "FL.orient_axis(W, alphafl, W.z)\n",
    "RR.orient_axis(B, alpharr, B.z)\n",
    "RL.orient_axis(B, alpharl, B.z)"
   ]
  },
  {
   "cell_type": "code",
   "execution_count": 7,
   "id": "51935c83",
   "metadata": {
    "execution": {
     "iopub.execute_input": "2022-05-10T14:39:32.382406Z",
     "iopub.status.busy": "2022-05-10T14:39:32.381938Z",
     "iopub.status.idle": "2022-05-10T14:39:33.255343Z",
     "shell.execute_reply": "2022-05-10T14:39:33.254114Z"
    }
   },
   "outputs": [
    {
     "data": {
      "text/latex": [
       "$\\displaystyle (F_{fl} \\cos{\\left(\\alpha_{fl} + \\delta \\right)} + F_{fr} \\cos{\\left(\\alpha_{fr} + \\delta \\right)} + F_{rl} \\cos{\\left(\\alpha_{rl} \\right)} + F_{rr} \\cos{\\left(\\alpha_{rr} \\right)})\\mathbf{\\hat{b}_x} + (F_{fl} \\sin{\\left(\\alpha_{fl} + \\delta \\right)} + F_{fr} \\sin{\\left(\\alpha_{fr} + \\delta \\right)} + F_{rl} \\sin{\\left(\\alpha_{rl} \\right)} + F_{rr} \\sin{\\left(\\alpha_{rr} \\right)})\\mathbf{\\hat{b}_y}$"
      ],
      "text/plain": [
       "(F_{fl}⋅cos(\\alpha_{fl} + δ) + F_{fr}⋅cos(\\alpha_{fr} + δ) + F_{rl}⋅cos(\\alpha\n",
       "_{rl}) + F_{rr}⋅cos(\\alpha_{rr})) b_x + (F_{fl}⋅sin(\\alpha_{fl} + δ) + F_{fr}⋅\n",
       "sin(\\alpha_{fr} + δ) + F_{rl}⋅sin(\\alpha_{rl}) + F_{rr}⋅sin(\\alpha_{rr})) b_y"
      ]
     },
     "execution_count": 7,
     "metadata": {},
     "output_type": "execute_result"
    }
   ],
   "source": [
    "R = Ffl*FL.x + Ffr*FR.x + Frl*RL.x + Frr*RR.x\n",
    "R.express(B).simplify()"
   ]
  },
  {
   "cell_type": "code",
   "execution_count": 8,
   "id": "40b6ce54",
   "metadata": {
    "execution": {
     "iopub.execute_input": "2022-05-10T14:39:33.258525Z",
     "iopub.status.busy": "2022-05-10T14:39:33.257989Z",
     "iopub.status.idle": "2022-05-10T14:39:36.972548Z",
     "shell.execute_reply": "2022-05-10T14:39:36.971861Z"
    }
   },
   "outputs": [
    {
     "data": {
      "text/latex": [
       "$\\displaystyle (\\frac{\\left(l \\sin{\\left(\\alpha_{fl} + \\delta \\right)} + w \\cos{\\left(\\alpha_{fl} + \\delta \\right)}\\right) F_{fl}}{2} + \\frac{\\left(l \\sin{\\left(\\alpha_{fr} + \\delta \\right)} - w \\cos{\\left(\\alpha_{fr} + \\delta \\right)}\\right) F_{fr}}{2} - \\frac{\\left(l \\sin{\\left(\\alpha_{rl} \\right)} - w \\cos{\\left(\\alpha_{rl} \\right)}\\right) F_{rl}}{2} - \\frac{\\left(l \\sin{\\left(\\alpha_{rr} \\right)} + w \\cos{\\left(\\alpha_{rr} \\right)}\\right) F_{rr}}{2})\\mathbf{\\hat{b}_z}$"
      ],
      "text/plain": [
       "⎛(l⋅sin(\\alpha_{fl} + δ) + w⋅cos(\\alpha_{fl} + δ))⋅F_{fl}   (l⋅sin(\\alpha_{fr}\n",
       "⎜──────────────────────────────────────────────────────── + ──────────────────\n",
       "⎝                           2\n",
       "\n",
       " + δ) - w⋅cos(\\alpha_{fr} + δ))⋅F_{fr}   (l⋅sin(\\alpha_{rl}) - w⋅cos(\\alpha_{r\n",
       "────────────────────────────────────── - ─────────────────────────────────────\n",
       "         2                                                      2\n",
       "\n",
       "l}))⋅F_{rl}   (l⋅sin(\\alpha_{rr}) + w⋅cos(\\alpha_{rr}))⋅F_{rr}⎞\n",
       "─────────── - ────────────────────────────────────────────────⎟ b_z\n",
       "                                     2                        ⎠"
      ]
     },
     "execution_count": 8,
     "metadata": {},
     "output_type": "execute_result"
    }
   ],
   "source": [
    "T = (me.cross(l/2*B.x - w/2*B.y, Ffl*FL.x) +\n",
    "     me.cross(l/2*B.x + w/2*B.y, Ffr*FR.x) +\n",
    "     me.cross(-l/2*B.x - w/2*B.y, Frl*RL.x) +\n",
    "     me.cross(-l/2*B.x + w/2*B.y, Frr*RR.x))\n",
    "T = T.express(B).simplify()\n",
    "T"
   ]
  },
  {
   "cell_type": "code",
   "execution_count": 9,
   "id": "179b5a17",
   "metadata": {
    "execution": {
     "iopub.execute_input": "2022-05-10T14:39:36.975248Z",
     "iopub.status.busy": "2022-05-10T14:39:36.975000Z",
     "iopub.status.idle": "2022-05-10T14:39:36.980534Z",
     "shell.execute_reply": "2022-05-10T14:39:36.979986Z"
    }
   },
   "outputs": [
    {
     "data": {
      "text/plain": [
       "(Bo, F_{fr}(t)*F_R.x + F_{fl}(t)*F_L.x + F_{rr}(t)*R_R.x + F_{rl}(t)*R_L.x)"
      ]
     },
     "execution_count": 9,
     "metadata": {},
     "output_type": "execute_result"
    }
   ],
   "source": [
    "Bo = me.Point('Bo')\n",
    "force = (Bo, R)\n",
    "force"
   ]
  },
  {
   "cell_type": "code",
   "execution_count": 10,
   "id": "8d49420b",
   "metadata": {
    "execution": {
     "iopub.execute_input": "2022-05-10T14:39:36.983014Z",
     "iopub.status.busy": "2022-05-10T14:39:36.982543Z",
     "iopub.status.idle": "2022-05-10T14:39:36.990013Z",
     "shell.execute_reply": "2022-05-10T14:39:36.989431Z"
    }
   },
   "outputs": [
    {
     "data": {
      "text/plain": [
       "(B,\n",
       " ((l*sin(\\alpha_{fl}(t) + delta(t)) + w*cos(\\alpha_{fl}(t) + delta(t)))*F_{fl}(t)/2 + (l*sin(\\alpha_{fr}(t) + delta(t)) - w*cos(\\alpha_{fr}(t) + delta(t)))*F_{fr}(t)/2 - (l*sin(\\alpha_{rl}(t)) - w*cos(\\alpha_{rl}(t)))*F_{rl}(t)/2 - (l*sin(\\alpha_{rr}(t)) + w*cos(\\alpha_{rr}(t)))*F_{rr}(t)/2)*B.z)"
      ]
     },
     "execution_count": 10,
     "metadata": {},
     "output_type": "execute_result"
    }
   ],
   "source": [
    "torque = (B, T)\n",
    "torque"
   ]
  },
  {
   "cell_type": "code",
   "execution_count": 11,
   "id": "fba74421",
   "metadata": {
    "execution": {
     "iopub.execute_input": "2022-05-10T14:39:36.992891Z",
     "iopub.status.busy": "2022-05-10T14:39:36.992428Z",
     "iopub.status.idle": "2022-05-10T14:39:36.997788Z",
     "shell.execute_reply": "2022-05-10T14:39:36.997208Z"
    }
   },
   "outputs": [],
   "source": [
    "T, q = me.dynamicsymbols('T, q')\n",
    "\n",
    "N = me.ReferenceFrame('N')\n",
    "B = me.ReferenceFrame('B')\n",
    "\n",
    "Tm = T*N.z"
   ]
  },
  {
   "cell_type": "code",
   "execution_count": 12,
   "id": "ade253af",
   "metadata": {
    "execution": {
     "iopub.execute_input": "2022-05-10T14:39:37.000165Z",
     "iopub.status.busy": "2022-05-10T14:39:36.999708Z",
     "iopub.status.idle": "2022-05-10T14:39:37.004631Z",
     "shell.execute_reply": "2022-05-10T14:39:37.004083Z"
    }
   },
   "outputs": [
    {
     "data": {
      "text/plain": [
       "((B, T(t)*N.z), (N, - T(t)*N.z))"
      ]
     },
     "execution_count": 12,
     "metadata": {},
     "output_type": "execute_result"
    }
   ],
   "source": [
    "(B, Tm), (N, -Tm)"
   ]
  },
  {
   "cell_type": "code",
   "execution_count": 13,
   "id": "93c4e359",
   "metadata": {
    "execution": {
     "iopub.execute_input": "2022-05-10T14:39:37.007503Z",
     "iopub.status.busy": "2022-05-10T14:39:37.007045Z",
     "iopub.status.idle": "2022-05-10T14:39:37.012866Z",
     "shell.execute_reply": "2022-05-10T14:39:37.012314Z"
    }
   },
   "outputs": [
    {
     "data": {
      "text/latex": [
       "$\\displaystyle -  g m\\mathbf{\\hat{n}_y}$"
      ],
      "text/plain": [
       "-g⋅m n_y"
      ]
     },
     "execution_count": 13,
     "metadata": {},
     "output_type": "execute_result"
    }
   ],
   "source": [
    "m, g = sm.symbols('m, g')\n",
    "Fg = -m*g*N.y\n",
    "Fg"
   ]
  },
  {
   "cell_type": "code",
   "execution_count": 14,
   "id": "68778682",
   "metadata": {
    "execution": {
     "iopub.execute_input": "2022-05-10T14:39:37.015769Z",
     "iopub.status.busy": "2022-05-10T14:39:37.015310Z",
     "iopub.status.idle": "2022-05-10T14:39:37.021847Z",
     "shell.execute_reply": "2022-05-10T14:39:37.021286Z"
    }
   },
   "outputs": [
    {
     "data": {
      "text/latex": [
       "$\\displaystyle - q_{0} - q_{1} + q_{2}$"
      ],
      "text/plain": [
       "-q₀ - q₁ + q₂"
      ]
     },
     "execution_count": 14,
     "metadata": {},
     "output_type": "execute_result"
    }
   ],
   "source": [
    "q0, k = sm.symbols('q0, k')\n",
    "q1, q2 = me.dynamicsymbols('q1, q2')\n",
    "\n",
    "displacement = q2 - q1 - q0\n",
    "displacement"
   ]
  },
  {
   "cell_type": "code",
   "execution_count": 15,
   "id": "c0c53994",
   "metadata": {
    "execution": {
     "iopub.execute_input": "2022-05-10T14:39:37.024649Z",
     "iopub.status.busy": "2022-05-10T14:39:37.024187Z",
     "iopub.status.idle": "2022-05-10T14:39:37.030943Z",
     "shell.execute_reply": "2022-05-10T14:39:37.030406Z"
    }
   },
   "outputs": [
    {
     "data": {
      "text/latex": [
       "$\\displaystyle -  k \\left(- q_{0} - q_{1} + q_{2}\\right)\\mathbf{\\hat{n}_x}$"
      ],
      "text/plain": [
       "-k⋅(-q₀ - q₁ + q₂) n_x"
      ]
     },
     "execution_count": 15,
     "metadata": {},
     "output_type": "execute_result"
    }
   ],
   "source": [
    "Fs = -k*displacement*N.x\n",
    "Fs"
   ]
  },
  {
   "cell_type": "code",
   "execution_count": 16,
   "id": "84a4c1d4",
   "metadata": {
    "execution": {
     "iopub.execute_input": "2022-05-10T14:39:37.033813Z",
     "iopub.status.busy": "2022-05-10T14:39:37.033314Z",
     "iopub.status.idle": "2022-05-10T14:39:37.046185Z",
     "shell.execute_reply": "2022-05-10T14:39:37.044973Z"
    }
   },
   "outputs": [
    {
     "data": {
      "text/latex": [
       "$\\displaystyle -  c \\left(- \\dot{q}_{1} + \\dot{q}_{2}\\right)\\mathbf{\\hat{n}_x}$"
      ],
      "text/plain": [
       "-c⋅(-q₁̇ + q₂̇) n_x"
      ]
     },
     "execution_count": 16,
     "metadata": {},
     "output_type": "execute_result"
    }
   ],
   "source": [
    "c = sm.symbols('c')\n",
    "t = me.dynamicsymbols._t\n",
    "\n",
    "Fc = -c*displacement.diff(t)*N.x\n",
    "Fc"
   ]
  },
  {
   "cell_type": "code",
   "execution_count": 17,
   "id": "6c156fd8",
   "metadata": {
    "execution": {
     "iopub.execute_input": "2022-05-10T14:39:37.048680Z",
     "iopub.status.busy": "2022-05-10T14:39:37.048368Z",
     "iopub.status.idle": "2022-05-10T14:39:37.064601Z",
     "shell.execute_reply": "2022-05-10T14:39:37.064096Z"
    }
   },
   "outputs": [
    {
     "data": {
      "text/latex": [
       "$\\displaystyle \\begin{cases} g m \\mu & \\text{for}\\: \\dot{q}_{1} - \\dot{q}_{2} > 0 \\\\- g m \\mu & \\text{for}\\: \\dot{q}_{1} - \\dot{q}_{2} < 0 \\\\0 & \\text{otherwise} \\end{cases}\\mathbf{\\hat{n}_x}$"
      ],
      "text/plain": [
       "⎧g⋅m⋅μ   for q₁̇ - q₂̇ > 0\n",
       "⎪\n",
       "⎨-g⋅m⋅μ  for q₁̇ - q₂̇ < 0 n_x\n",
       "⎪\n",
       "⎩  0        otherwise"
      ]
     },
     "execution_count": 17,
     "metadata": {},
     "output_type": "execute_result"
    }
   ],
   "source": [
    "mu, m, g = sm.symbols('mu, m, g')\n",
    "\n",
    "Fn = m*g\n",
    "\n",
    "displacement = q2 - q1\n",
    "\n",
    "Ff = sm.Piecewise((mu*Fn, displacement.diff(t) < 0),\n",
    "                  (-mu*Fn, displacement.diff(t) > 0),\n",
    "                  (0, True))*N.x\n",
    "Ff"
   ]
  },
  {
   "cell_type": "code",
   "execution_count": 18,
   "id": "6a54944d",
   "metadata": {
    "execution": {
     "iopub.execute_input": "2022-05-10T14:39:37.067376Z",
     "iopub.status.busy": "2022-05-10T14:39:37.066922Z",
     "iopub.status.idle": "2022-05-10T14:39:37.076150Z",
     "shell.execute_reply": "2022-05-10T14:39:37.075657Z"
    }
   },
   "outputs": [
    {
     "data": {
      "text/latex": [
       "$\\displaystyle -  g m \\mu \\operatorname{sign}{\\left(- \\dot{q}_{1} + \\dot{q}_{2} \\right)}\\mathbf{\\hat{n}_x}$"
      ],
      "text/plain": [
       "-g⋅m⋅μ⋅sign(-q₁̇ + q₂̇) n_x"
      ]
     },
     "execution_count": 18,
     "metadata": {},
     "output_type": "execute_result"
    }
   ],
   "source": [
    "Ff = -mu*Fn*sm.sign(displacement.diff(t))*N.x\n",
    "Ff"
   ]
  },
  {
   "cell_type": "code",
   "execution_count": 19,
   "id": "921ef694",
   "metadata": {
    "execution": {
     "iopub.execute_input": "2022-05-10T14:39:37.078559Z",
     "iopub.status.busy": "2022-05-10T14:39:37.078099Z",
     "iopub.status.idle": "2022-05-10T14:39:37.102783Z",
     "shell.execute_reply": "2022-05-10T14:39:37.102228Z"
    }
   },
   "outputs": [
    {
     "data": {
      "text/latex": [
       "$\\displaystyle -  \\frac{A C_{d} \\rho \\sqrt{u_{x}^{2} + u_{y}^{2} + u_{z}^{2}} u_{x}}{2}\\mathbf{\\hat{n}_x} -  \\frac{A C_{d} \\rho \\sqrt{u_{x}^{2} + u_{y}^{2} + u_{z}^{2}} u_{y}}{2}\\mathbf{\\hat{n}_y} -  \\frac{A C_{d} \\rho \\sqrt{u_{x}^{2} + u_{y}^{2} + u_{z}^{2}} u_{z}}{2}\\mathbf{\\hat{n}_z}$"
      ],
      "text/plain": [
       "            ___________________                       ___________________\n",
       "           ╱   2      2      2                       ╱   2      2      2\n",
       "-A⋅C_d⋅ρ⋅╲╱  uₓ  + u_y  + u_z  ⋅uₓ        -A⋅C_d⋅ρ⋅╲╱  uₓ  + u_y  + u_z  ⋅u_y\n",
       "─────────────────────────────────── n_x + ────────────────────────────────────\n",
       "                 2                                         2\n",
       "\n",
       "                   ___________________\n",
       "                  ╱   2      2      2\n",
       "       -A⋅C_d⋅ρ⋅╲╱  uₓ  + u_y  + u_z  ⋅u_z\n",
       " n_y + ──────────────────────────────────── n_z\n",
       "                        2"
      ]
     },
     "execution_count": 19,
     "metadata": {},
     "output_type": "execute_result"
    }
   ],
   "source": [
    "A, Cd, rho = sm.symbols('A, C_d, rho')\n",
    "ux, uy, uz = me.dynamicsymbols('u_x, u_y, u_z', real=True)\n",
    "\n",
    "N_v_P = ux*N.x + uy*N.y + uz*N.z\n",
    "\n",
    "Fd = -N_v_P.normalize()*Cd*A*rho/2*N_v_P.dot(N_v_P)\n",
    "Fd"
   ]
  },
  {
   "cell_type": "code",
   "execution_count": 20,
   "id": "ed4accb2",
   "metadata": {
    "execution": {
     "iopub.execute_input": "2022-05-10T14:39:37.105344Z",
     "iopub.status.busy": "2022-05-10T14:39:37.105023Z",
     "iopub.status.idle": "2022-05-10T14:39:37.113258Z",
     "shell.execute_reply": "2022-05-10T14:39:37.112459Z"
    }
   },
   "outputs": [
    {
     "data": {
      "text/latex": [
       "$\\displaystyle -  \\frac{A C_{d} \\rho u_{x} \\left|{u_{x}}\\right|}{2}\\mathbf{\\hat{n}_x}$"
      ],
      "text/plain": [
       "-A⋅C_d⋅ρ⋅uₓ⋅│uₓ│\n",
       "───────────────── n_x\n",
       "        2"
      ]
     },
     "execution_count": 20,
     "metadata": {},
     "output_type": "execute_result"
    }
   ],
   "source": [
    "Fd.xreplace({uy: 0, uz:0})"
   ]
  },
  {
   "cell_type": "code",
   "execution_count": 21,
   "id": "c95fe649",
   "metadata": {
    "execution": {
     "iopub.execute_input": "2022-05-10T14:39:37.115780Z",
     "iopub.status.busy": "2022-05-10T14:39:37.115470Z",
     "iopub.status.idle": "2022-05-10T14:39:37.127438Z",
     "shell.execute_reply": "2022-05-10T14:39:37.126777Z"
    }
   },
   "outputs": [
    {
     "data": {
      "text/latex": [
       "$\\displaystyle - \\frac{z}{2} + \\frac{\\left|{z}\\right|}{2}$"
      ],
      "text/plain": [
       "  z   │z│\n",
       "- ─ + ───\n",
       "  2    2 "
      ]
     },
     "execution_count": 21,
     "metadata": {},
     "output_type": "execute_result"
    }
   ],
   "source": [
    "x, y, z = me.dynamicsymbols('x, y, z', real=True)\n",
    "\n",
    "r_O_P = x*N.x + y*N.y + z*N.z\n",
    "\n",
    "zh = r_O_P.dot(N.z)\n",
    "\n",
    "zp = (sm.Abs(zh) - zh)/2\n",
    "zp"
   ]
  },
  {
   "cell_type": "code",
   "execution_count": 22,
   "id": "64c1fa45",
   "metadata": {
    "execution": {
     "iopub.execute_input": "2022-05-10T14:39:37.130088Z",
     "iopub.status.busy": "2022-05-10T14:39:37.129779Z",
     "iopub.status.idle": "2022-05-10T14:39:37.142522Z",
     "shell.execute_reply": "2022-05-10T14:39:37.141495Z"
    }
   },
   "outputs": [
    {
     "data": {
      "text/latex": [
       "$\\displaystyle (c \\left(\\begin{cases} \\dot{z} & \\text{for}\\: z < 0 \\\\0 & \\text{otherwise} \\end{cases}\\right) + k \\left(- \\frac{z}{2} + \\frac{\\left|{z}\\right|}{2}\\right)^{3})\\mathbf{\\hat{n}_z}$"
      ],
      "text/plain": [
       "⎛                                 3⎞\n",
       "⎜  ⎛⎧ż  for z < 0⎞     ⎛  z   │z│⎞ ⎟\n",
       "⎜c⋅⎜⎨            ⎟ + k⋅⎜- ─ + ───⎟ ⎟ n_z\n",
       "⎝  ⎝⎩0  otherwise⎠     ⎝  2    2 ⎠ ⎠"
      ]
     },
     "execution_count": 22,
     "metadata": {},
     "output_type": "execute_result"
    }
   ],
   "source": [
    "k, c = sm.symbols('k, c')\n",
    "\n",
    "Fz = (k*zp**3 + c*sm.Piecewise((zh.diff(), zh < 0), (0, True)))*N.z\n",
    "Fz"
   ]
  },
  {
   "cell_type": "code",
   "execution_count": 23,
   "id": "39e807c3",
   "metadata": {
    "execution": {
     "iopub.execute_input": "2022-05-10T14:39:37.145117Z",
     "iopub.status.busy": "2022-05-10T14:39:37.144806Z",
     "iopub.status.idle": "2022-05-10T14:39:37.167560Z",
     "shell.execute_reply": "2022-05-10T14:39:37.166598Z"
    }
   },
   "outputs": [
    {
     "data": {
      "text/latex": [
       "$\\displaystyle -  \\frac{\\mu \\left(c \\left(\\begin{cases} \\dot{z} & \\text{for}\\: z < 0 \\\\0 & \\text{otherwise} \\end{cases}\\right) + k \\left(- \\frac{z}{2} + \\frac{\\left|{z}\\right|}{2}\\right)^{3}\\right) \\left|{\\dot{x}}\\right|}{\\dot{x}}\\mathbf{\\hat{n}_x}$"
      ],
      "text/plain": [
       "   ⎛                                 3⎞\n",
       "   ⎜  ⎛⎧ż  for z < 0⎞     ⎛  z   │z│⎞ ⎟\n",
       "-μ⋅⎜c⋅⎜⎨            ⎟ + k⋅⎜- ─ + ───⎟ ⎟⋅│ẋ│\n",
       "   ⎝  ⎝⎩0  otherwise⎠     ⎝  2    2 ⎠ ⎠\n",
       "──────────────────────────────────────────── n_x\n",
       "                     ẋ"
      ]
     },
     "execution_count": 23,
     "metadata": {},
     "output_type": "execute_result"
    }
   ],
   "source": [
    "mu = sm.symbols('mu')\n",
    "\n",
    "vx = r_O_P.dot(N.x).diff(t)\n",
    "vy = r_O_P.dot(N.y).diff(t)\n",
    "\n",
    "Fx = -sm.Abs(vx)/vx*mu*Fz.dot(N.z)*N.x\n",
    "Fx"
   ]
  },
  {
   "cell_type": "code",
   "execution_count": 24,
   "id": "2d56453b",
   "metadata": {
    "execution": {
     "iopub.execute_input": "2022-05-10T14:39:37.170924Z",
     "iopub.status.busy": "2022-05-10T14:39:37.169790Z",
     "iopub.status.idle": "2022-05-10T14:39:37.184587Z",
     "shell.execute_reply": "2022-05-10T14:39:37.183914Z"
    }
   },
   "outputs": [
    {
     "data": {
      "text/latex": [
       "$\\displaystyle -  \\frac{\\mu \\left(c \\left(\\begin{cases} \\dot{z} & \\text{for}\\: z < 0 \\\\0 & \\text{otherwise} \\end{cases}\\right) + k \\left(- \\frac{z}{2} + \\frac{\\left|{z}\\right|}{2}\\right)^{3}\\right) \\left|{\\dot{y}}\\right|}{\\dot{y}}\\mathbf{\\hat{n}_y}$"
      ],
      "text/plain": [
       "   ⎛                                 3⎞\n",
       "   ⎜  ⎛⎧ż  for z < 0⎞     ⎛  z   │z│⎞ ⎟\n",
       "-μ⋅⎜c⋅⎜⎨            ⎟ + k⋅⎜- ─ + ───⎟ ⎟⋅│ẏ│\n",
       "   ⎝  ⎝⎩0  otherwise⎠     ⎝  2    2 ⎠ ⎠\n",
       "──────────────────────────────────────────── n_y\n",
       "                     ẏ"
      ]
     },
     "execution_count": 24,
     "metadata": {},
     "output_type": "execute_result"
    }
   ],
   "source": [
    "Fy = -sm.Abs(vy)/vy*mu*Fz.dot(N.z)*N.y\n",
    "Fy"
   ]
  },
  {
   "cell_type": "code",
   "execution_count": 25,
   "id": "a4805757",
   "metadata": {
    "execution": {
     "iopub.execute_input": "2022-05-10T14:39:37.187835Z",
     "iopub.status.busy": "2022-05-10T14:39:37.186706Z",
     "iopub.status.idle": "2022-05-10T14:39:37.195875Z",
     "shell.execute_reply": "2022-05-10T14:39:37.195214Z"
    }
   },
   "outputs": [
    {
     "data": {
      "text/latex": [
       "$\\displaystyle \\left( 0, \\  0, \\  0\\right)$"
      ],
      "text/plain": [
       "(0, 0, 0)"
      ]
     },
     "execution_count": 25,
     "metadata": {},
     "output_type": "execute_result"
    }
   ],
   "source": [
    "vz = me.dynamicsymbols('v_z', negative=True)\n",
    "\n",
    "repl = {z.diff(): vz, z: 0}\n",
    "\n",
    "Fx.xreplace(repl), Fy.xreplace(repl), Fz.xreplace(repl)"
   ]
  },
  {
   "cell_type": "code",
   "execution_count": 26,
   "id": "ae25952b",
   "metadata": {
    "execution": {
     "iopub.execute_input": "2022-05-10T14:39:37.198473Z",
     "iopub.status.busy": "2022-05-10T14:39:37.198159Z",
     "iopub.status.idle": "2022-05-10T14:39:37.206071Z",
     "shell.execute_reply": "2022-05-10T14:39:37.205576Z"
    }
   },
   "outputs": [
    {
     "data": {
      "text/latex": [
       "$\\displaystyle \\left( 0, \\  0, \\  0\\right)$"
      ],
      "text/plain": [
       "(0, 0, 0)"
      ]
     },
     "execution_count": 26,
     "metadata": {},
     "output_type": "execute_result"
    }
   ],
   "source": [
    "repl = {z.diff(): vz, z: 2}\n",
    "\n",
    "Fx.xreplace(repl), Fy.xreplace(repl), Fz.xreplace(repl)"
   ]
  },
  {
   "cell_type": "code",
   "execution_count": 27,
   "id": "e631514e",
   "metadata": {
    "execution": {
     "iopub.execute_input": "2022-05-10T14:39:37.208642Z",
     "iopub.status.busy": "2022-05-10T14:39:37.208330Z",
     "iopub.status.idle": "2022-05-10T14:39:37.223695Z",
     "shell.execute_reply": "2022-05-10T14:39:37.223008Z"
    }
   },
   "outputs": [
    {
     "data": {
      "text/latex": [
       "$\\displaystyle \\left( -  \\frac{\\mu \\left(c v_{z} + 8 k\\right) \\left|{\\dot{x}}\\right|}{\\dot{x}}\\mathbf{\\hat{n}_x}, \\  -  \\frac{\\mu \\left(c v_{z} + 8 k\\right) \\left|{\\dot{y}}\\right|}{\\dot{y}}\\mathbf{\\hat{n}_y}, \\  (c v_{z} + 8 k)\\mathbf{\\hat{n}_z}\\right)$"
      ],
      "text/plain": [
       "⎛  -μ⋅(c⋅v_z + 8⋅k)⋅│ẋ│  ,   -μ⋅(c⋅v_z + 8⋅k)⋅│ẏ│  , (c⋅v_z + 8⋅k) n_z⎞\n",
       "⎜───────────────────── n_x  ───────────────────── n_y                   ⎟\n",
       "⎝                 ẋ                         ẏ                         ⎠"
      ]
     },
     "execution_count": 27,
     "metadata": {},
     "output_type": "execute_result"
    }
   ],
   "source": [
    "repl = {z.diff(): vz, z: -2}\n",
    "\n",
    "Fx.xreplace(repl), Fy.xreplace(repl), Fz.xreplace(repl)"
   ]
  },
  {
   "cell_type": "code",
   "execution_count": 28,
   "id": "01301d99",
   "metadata": {
    "execution": {
     "iopub.execute_input": "2022-05-10T14:39:37.226385Z",
     "iopub.status.busy": "2022-05-10T14:39:37.225905Z",
     "iopub.status.idle": "2022-05-10T14:39:37.243573Z",
     "shell.execute_reply": "2022-05-10T14:39:37.243059Z"
    }
   },
   "outputs": [
    {
     "data": {
      "text/latex": [
       "$\\displaystyle -  \\frac{\\mu \\left(c \\left(\\begin{cases} \\dot{z} & \\text{for}\\: z < 0 \\\\0 & \\text{otherwise} \\end{cases}\\right) + k \\left(- \\frac{z}{2} + \\frac{\\left|{z}\\right|}{2}\\right)^{3}\\right) \\left|{\\dot{x}}\\right|}{\\dot{x}}\\mathbf{\\hat{n}_x} -  \\frac{\\mu \\left(c \\left(\\begin{cases} \\dot{z} & \\text{for}\\: z < 0 \\\\0 & \\text{otherwise} \\end{cases}\\right) + k \\left(- \\frac{z}{2} + \\frac{\\left|{z}\\right|}{2}\\right)^{3}\\right) \\left|{\\dot{y}}\\right|}{\\dot{y}}\\mathbf{\\hat{n}_y} + (c \\left(\\begin{cases} \\dot{z} & \\text{for}\\: z < 0 \\\\0 & \\text{otherwise} \\end{cases}\\right) + k \\left(- \\frac{z}{2} + \\frac{\\left|{z}\\right|}{2}\\right)^{3})\\mathbf{\\hat{n}_z}$"
      ],
      "text/plain": [
       "   ⎛                                 3⎞               ⎛\n",
       "   ⎜  ⎛⎧ż  for z < 0⎞     ⎛  z   │z│⎞ ⎟               ⎜  ⎛⎧ż  for z < 0⎞\n",
       "-μ⋅⎜c⋅⎜⎨            ⎟ + k⋅⎜- ─ + ───⎟ ⎟⋅│ẋ│        -μ⋅⎜c⋅⎜⎨            ⎟ + k⋅\n",
       "   ⎝  ⎝⎩0  otherwise⎠     ⎝  2    2 ⎠ ⎠               ⎝  ⎝⎩0  otherwise⎠     ⎝\n",
       "──────────────────────────────────────────── n_x + ───────────────────────────\n",
       "                     ẋ                                                 ẏ\n",
       "\n",
       "          3⎞\n",
       " ⎛  z   │z│⎞ ⎟\n",
       "⎜- ─ + ───⎟ ⎟⋅│ẏ│        ⎛                                 3⎞\n",
       "  2    2 ⎠ ⎠            ⎜  ⎛⎧ż  for z < 0⎞     ⎛  z   │z│⎞ ⎟\n",
       "───────────────── n_y + ⎜c⋅⎜⎨            ⎟ + k⋅⎜- ─ + ───⎟ ⎟ n_z\n",
       "                        ⎝  ⎝⎩0  otherwise⎠     ⎝  2    2 ⎠ ⎠"
      ]
     },
     "execution_count": 28,
     "metadata": {},
     "output_type": "execute_result"
    }
   ],
   "source": [
    "Fc = Fx + Fy + Fz\n",
    "Fc"
   ]
  }
 ],
 "metadata": {
  "kernelspec": {
   "display_name": "Python 3 (ipykernel)",
   "language": "python",
   "name": "python3"
  },
  "language_info": {
   "codemirror_mode": {
    "name": "ipython",
    "version": 3
   },
   "file_extension": ".py",
   "mimetype": "text/x-python",
   "name": "python",
   "nbconvert_exporter": "python",
   "pygments_lexer": "ipython3",
   "version": "3.9.12"
  }
 },
 "nbformat": 4,
 "nbformat_minor": 5
}