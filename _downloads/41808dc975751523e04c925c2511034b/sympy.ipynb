{
 "cells": [
  {
   "cell_type": "code",
   "execution_count": 1,
   "id": "5daefe6e",
   "metadata": {
    "execution": {
     "iopub.execute_input": "2022-05-10T14:40:11.605620Z",
     "iopub.status.busy": "2022-05-10T14:40:11.605023Z",
     "iopub.status.idle": "2022-05-10T14:40:11.915951Z",
     "shell.execute_reply": "2022-05-10T14:40:11.915320Z"
    }
   },
   "outputs": [],
   "source": [
    "import sympy as sm"
   ]
  },
  {
   "cell_type": "code",
   "execution_count": 2,
   "id": "91426d31",
   "metadata": {
    "execution": {
     "iopub.execute_input": "2022-05-10T14:40:11.919726Z",
     "iopub.status.busy": "2022-05-10T14:40:11.919313Z",
     "iopub.status.idle": "2022-05-10T14:40:11.927669Z",
     "shell.execute_reply": "2022-05-10T14:40:11.926674Z"
    }
   },
   "outputs": [],
   "source": [
    "sm.init_printing(use_latex='mathjax')"
   ]
  },
  {
   "cell_type": "code",
   "execution_count": 3,
   "id": "47c71b89",
   "metadata": {
    "execution": {
     "iopub.execute_input": "2022-05-10T14:40:11.930103Z",
     "iopub.status.busy": "2022-05-10T14:40:11.929700Z",
     "iopub.status.idle": "2022-05-10T14:40:11.935686Z",
     "shell.execute_reply": "2022-05-10T14:40:11.935150Z"
    }
   },
   "outputs": [
    {
     "data": {
      "text/latex": [
       "$\\displaystyle a$"
      ],
      "text/plain": [
       "a"
      ]
     },
     "execution_count": 3,
     "metadata": {},
     "output_type": "execute_result"
    }
   ],
   "source": [
    "a = sm.symbols('a')\n",
    "a"
   ]
  },
  {
   "cell_type": "code",
   "execution_count": 4,
   "id": "2e8dff4b",
   "metadata": {
    "execution": {
     "iopub.execute_input": "2022-05-10T14:40:11.939047Z",
     "iopub.status.busy": "2022-05-10T14:40:11.938727Z",
     "iopub.status.idle": "2022-05-10T14:40:11.942506Z",
     "shell.execute_reply": "2022-05-10T14:40:11.941966Z"
    }
   },
   "outputs": [
    {
     "data": {
      "text/plain": [
       "sympy.core.symbol.Symbol"
      ]
     },
     "execution_count": 4,
     "metadata": {},
     "output_type": "execute_result"
    }
   ],
   "source": [
    "type(a)"
   ]
  },
  {
   "cell_type": "code",
   "execution_count": 5,
   "id": "3bfe5984",
   "metadata": {
    "execution": {
     "iopub.execute_input": "2022-05-10T14:40:11.945367Z",
     "iopub.status.busy": "2022-05-10T14:40:11.945154Z",
     "iopub.status.idle": "2022-05-10T14:40:11.949343Z",
     "shell.execute_reply": "2022-05-10T14:40:11.948799Z"
    }
   },
   "outputs": [
    {
     "data": {
      "text/latex": [
       "$\\displaystyle \\left( b, \\  t, \\  \\omega\\right)$"
      ],
      "text/plain": [
       "(b, t, ω)"
      ]
     },
     "execution_count": 5,
     "metadata": {},
     "output_type": "execute_result"
    }
   ],
   "source": [
    "b, t, omega = sm.symbols('b, t, omega')\n",
    "b, t, omega"
   ]
  },
  {
   "cell_type": "code",
   "execution_count": 6,
   "id": "fdf60494",
   "metadata": {
    "execution": {
     "iopub.execute_input": "2022-05-10T14:40:11.952194Z",
     "iopub.status.busy": "2022-05-10T14:40:11.951981Z",
     "iopub.status.idle": "2022-05-10T14:40:11.956064Z",
     "shell.execute_reply": "2022-05-10T14:40:11.955519Z"
    }
   },
   "outputs": [
    {
     "data": {
      "text/latex": [
       "$\\displaystyle \\left( \\alpha_{1}, \\  \\omega_{2}\\right)$"
      ],
      "text/plain": [
       "(α₁, ω₂)"
      ]
     },
     "execution_count": 6,
     "metadata": {},
     "output_type": "execute_result"
    }
   ],
   "source": [
    "pivot_angle, w2 = sm.symbols('alpha1, omega2')\n",
    "pivot_angle, w2"
   ]
  },
  {
   "cell_type": "code",
   "execution_count": 7,
   "id": "8c5497be",
   "metadata": {
    "execution": {
     "iopub.execute_input": "2022-05-10T14:40:11.958927Z",
     "iopub.status.busy": "2022-05-10T14:40:11.958713Z",
     "iopub.status.idle": "2022-05-10T14:40:11.962696Z",
     "shell.execute_reply": "2022-05-10T14:40:11.962151Z"
    }
   },
   "outputs": [
    {
     "data": {
      "text/plain": [
       "f"
      ]
     },
     "execution_count": 7,
     "metadata": {},
     "output_type": "execute_result"
    }
   ],
   "source": [
    "f = sm.Function('f')\n",
    "f"
   ]
  },
  {
   "cell_type": "code",
   "execution_count": 8,
   "id": "445720b7",
   "metadata": {
    "execution": {
     "iopub.execute_input": "2022-05-10T14:40:11.965583Z",
     "iopub.status.busy": "2022-05-10T14:40:11.965102Z",
     "iopub.status.idle": "2022-05-10T14:40:11.968804Z",
     "shell.execute_reply": "2022-05-10T14:40:11.968273Z"
    }
   },
   "outputs": [
    {
     "data": {
      "text/plain": [
       "sympy.core.function.UndefinedFunction"
      ]
     },
     "execution_count": 8,
     "metadata": {},
     "output_type": "execute_result"
    }
   ],
   "source": [
    "type(f)"
   ]
  },
  {
   "cell_type": "code",
   "execution_count": 9,
   "id": "bf0d43dd",
   "metadata": {
    "execution": {
     "iopub.execute_input": "2022-05-10T14:40:11.971962Z",
     "iopub.status.busy": "2022-05-10T14:40:11.971347Z",
     "iopub.status.idle": "2022-05-10T14:40:11.976159Z",
     "shell.execute_reply": "2022-05-10T14:40:11.975322Z"
    }
   },
   "outputs": [
    {
     "data": {
      "text/latex": [
       "$\\displaystyle f{\\left(t \\right)}$"
      ],
      "text/plain": [
       "f(t)"
      ]
     },
     "execution_count": 9,
     "metadata": {},
     "output_type": "execute_result"
    }
   ],
   "source": [
    "f(t)"
   ]
  },
  {
   "cell_type": "code",
   "execution_count": 10,
   "id": "58fbbb1b",
   "metadata": {
    "execution": {
     "iopub.execute_input": "2022-05-10T14:40:11.978577Z",
     "iopub.status.busy": "2022-05-10T14:40:11.978255Z",
     "iopub.status.idle": "2022-05-10T14:40:11.982169Z",
     "shell.execute_reply": "2022-05-10T14:40:11.981613Z"
    }
   },
   "outputs": [
    {
     "data": {
      "text/plain": [
       "f"
      ]
     },
     "execution_count": 10,
     "metadata": {},
     "output_type": "execute_result"
    }
   ],
   "source": [
    "type(f(t))"
   ]
  },
  {
   "cell_type": "code",
   "execution_count": 11,
   "id": "1fd77052",
   "metadata": {
    "execution": {
     "iopub.execute_input": "2022-05-10T14:40:11.985018Z",
     "iopub.status.busy": "2022-05-10T14:40:11.984554Z",
     "iopub.status.idle": "2022-05-10T14:40:11.989253Z",
     "shell.execute_reply": "2022-05-10T14:40:11.988719Z"
    }
   },
   "outputs": [
    {
     "data": {
      "text/latex": [
       "$\\displaystyle f{\\left(a,b,\\omega,t \\right)}$"
      ],
      "text/plain": [
       "f(a, b, ω, t)"
      ]
     },
     "execution_count": 11,
     "metadata": {},
     "output_type": "execute_result"
    }
   ],
   "source": [
    "f(a, b, omega, t)"
   ]
  },
  {
   "cell_type": "code",
   "execution_count": 12,
   "id": "6b2dcca9",
   "metadata": {
    "execution": {
     "iopub.execute_input": "2022-05-10T14:40:11.992147Z",
     "iopub.status.busy": "2022-05-10T14:40:11.991690Z",
     "iopub.status.idle": "2022-05-10T14:40:12.203095Z",
     "shell.execute_reply": "2022-05-10T14:40:12.202394Z"
    }
   },
   "outputs": [
    {
     "data": {
      "text/latex": [
       "$\\displaystyle a + \\frac{b}{\\omega^{2}}$"
      ],
      "text/plain": [
       "    b \n",
       "a + ──\n",
       "     2\n",
       "    ω "
      ]
     },
     "execution_count": 12,
     "metadata": {},
     "output_type": "execute_result"
    }
   ],
   "source": [
    "expr1 = a + b/omega**2\n",
    "expr1"
   ]
  },
  {
   "cell_type": "code",
   "execution_count": 13,
   "id": "e25fdffa",
   "metadata": {
    "execution": {
     "iopub.execute_input": "2022-05-10T14:40:12.206268Z",
     "iopub.status.busy": "2022-05-10T14:40:12.205917Z",
     "iopub.status.idle": "2022-05-10T14:40:12.210006Z",
     "shell.execute_reply": "2022-05-10T14:40:12.209464Z"
    }
   },
   "outputs": [
    {
     "data": {
      "text/plain": [
       "sympy.core.add.Add"
      ]
     },
     "execution_count": 13,
     "metadata": {},
     "output_type": "execute_result"
    }
   ],
   "source": [
    "type(expr1)"
   ]
  },
  {
   "cell_type": "code",
   "execution_count": 14,
   "id": "3288b23a",
   "metadata": {
    "execution": {
     "iopub.execute_input": "2022-05-10T14:40:12.212968Z",
     "iopub.status.busy": "2022-05-10T14:40:12.212756Z",
     "iopub.status.idle": "2022-05-10T14:40:12.216910Z",
     "shell.execute_reply": "2022-05-10T14:40:12.216415Z"
    }
   },
   "outputs": [
    {
     "data": {
      "text/plain": [
       "\"Add(Symbol('a'), Mul(Symbol('b'), Pow(Symbol('omega'), Integer(-2))))\""
      ]
     },
     "execution_count": 14,
     "metadata": {},
     "output_type": "execute_result"
    }
   ],
   "source": [
    "sm.srepr(expr1)"
   ]
  },
  {
   "cell_type": "code",
   "execution_count": 15,
   "id": "b0c17577",
   "metadata": {
    "execution": {
     "iopub.execute_input": "2022-05-10T14:40:12.219295Z",
     "iopub.status.busy": "2022-05-10T14:40:12.218902Z",
     "iopub.status.idle": "2022-05-10T14:40:12.224299Z",
     "shell.execute_reply": "2022-05-10T14:40:12.223752Z"
    }
   },
   "outputs": [
    {
     "data": {
      "text/latex": [
       "$\\displaystyle a \\omega + f{\\left(t \\right)}$"
      ],
      "text/plain": [
       "a⋅ω + f(t)"
      ]
     },
     "execution_count": 15,
     "metadata": {},
     "output_type": "execute_result"
    }
   ],
   "source": [
    "expr2 = f(t) + a*omega\n",
    "expr2"
   ]
  },
  {
   "cell_type": "code",
   "execution_count": 16,
   "id": "74edcd0c",
   "metadata": {
    "execution": {
     "iopub.execute_input": "2022-05-10T14:40:12.227114Z",
     "iopub.status.busy": "2022-05-10T14:40:12.226797Z",
     "iopub.status.idle": "2022-05-10T14:40:12.233857Z",
     "shell.execute_reply": "2022-05-10T14:40:12.233344Z"
    }
   },
   "outputs": [
    {
     "data": {
      "text/latex": [
       "$\\displaystyle a \\sin{\\left(\\omega \\right)} + \\frac{\\left|{f{\\left(t \\right)}}\\right|}{\\sqrt{b}}$"
      ],
      "text/plain": [
       "           │f(t)│\n",
       "a⋅sin(ω) + ──────\n",
       "             √b  "
      ]
     },
     "execution_count": 16,
     "metadata": {},
     "output_type": "execute_result"
    }
   ],
   "source": [
    "expr3 = a*sm.sin(omega) + sm.Abs(f(t))/sm.sqrt(b)\n",
    "expr3"
   ]
  },
  {
   "cell_type": "code",
   "execution_count": 17,
   "id": "482ec52d",
   "metadata": {
    "execution": {
     "iopub.execute_input": "2022-05-10T14:40:12.236247Z",
     "iopub.status.busy": "2022-05-10T14:40:12.235789Z",
     "iopub.status.idle": "2022-05-10T14:40:12.242716Z",
     "shell.execute_reply": "2022-05-10T14:40:12.242176Z"
    }
   },
   "outputs": [
    {
     "data": {
      "text/latex": [
       "$\\displaystyle 5 \\sin{\\left(12 \\right)} + 105.986768359379$"
      ],
      "text/plain": [
       "5⋅sin(12) + 105.986768359379"
      ]
     },
     "execution_count": 17,
     "metadata": {},
     "output_type": "execute_result"
    }
   ],
   "source": [
    "expr4 = 5*sm.sin(12) + sm.Abs(-1001)/sm.sqrt(89.2)\n",
    "expr4"
   ]
  },
  {
   "cell_type": "code",
   "execution_count": 18,
   "id": "970b90f1",
   "metadata": {
    "execution": {
     "iopub.execute_input": "2022-05-10T14:40:12.245622Z",
     "iopub.status.busy": "2022-05-10T14:40:12.245136Z",
     "iopub.status.idle": "2022-05-10T14:40:12.249881Z",
     "shell.execute_reply": "2022-05-10T14:40:12.249313Z"
    }
   },
   "outputs": [
    {
     "data": {
      "text/latex": [
       "$\\displaystyle 0.5 a$"
      ],
      "text/plain": [
       "0.5⋅a"
      ]
     },
     "execution_count": 18,
     "metadata": {},
     "output_type": "execute_result"
    }
   ],
   "source": [
    "1/2*a"
   ]
  },
  {
   "cell_type": "code",
   "execution_count": 19,
   "id": "acb7e536",
   "metadata": {
    "execution": {
     "iopub.execute_input": "2022-05-10T14:40:12.252744Z",
     "iopub.status.busy": "2022-05-10T14:40:12.252286Z",
     "iopub.status.idle": "2022-05-10T14:40:12.256653Z",
     "shell.execute_reply": "2022-05-10T14:40:12.256109Z"
    }
   },
   "outputs": [
    {
     "data": {
      "text/latex": [
       "$\\displaystyle \\frac{a}{2}$"
      ],
      "text/plain": [
       "a\n",
       "─\n",
       "2"
      ]
     },
     "execution_count": 19,
     "metadata": {},
     "output_type": "execute_result"
    }
   ],
   "source": [
    "sm.S(1)/2*a"
   ]
  },
  {
   "cell_type": "code",
   "execution_count": 20,
   "id": "cc835ead",
   "metadata": {
    "execution": {
     "iopub.execute_input": "2022-05-10T14:40:12.259483Z",
     "iopub.status.busy": "2022-05-10T14:40:12.259163Z",
     "iopub.status.idle": "2022-05-10T14:40:12.266774Z",
     "shell.execute_reply": "2022-05-10T14:40:12.266235Z"
    }
   },
   "outputs": [
    {
     "data": {
      "text/latex": [
       "$\\displaystyle t \\sin{\\left(\\omega f{\\left(t \\right)} \\right)} + \\frac{f{\\left(t \\right)}}{\\sqrt{t}}$"
      ],
      "text/plain": [
       "                f(t)\n",
       "t⋅sin(ω⋅f(t)) + ────\n",
       "                 √t "
      ]
     },
     "execution_count": 20,
     "metadata": {},
     "output_type": "execute_result"
    }
   ],
   "source": [
    "expr5 = t*sm.sin(omega*f(t)) + f(t)/sm.sqrt(t)\n",
    "expr5"
   ]
  },
  {
   "cell_type": "code",
   "execution_count": 21,
   "id": "97c98be1",
   "metadata": {
    "execution": {
     "iopub.execute_input": "2022-05-10T14:40:12.269642Z",
     "iopub.status.busy": "2022-05-10T14:40:12.269167Z",
     "iopub.status.idle": "2022-05-10T14:40:12.273347Z",
     "shell.execute_reply": "2022-05-10T14:40:12.272819Z"
    }
   },
   "outputs": [
    {
     "data": {
      "text/plain": [
       "\"Add(Mul(Symbol('a'), sin(Symbol('omega'))), Mul(Pow(Symbol('b'), Rational(-1, 2)), Abs(Function('f')(Symbol('t')))))\""
      ]
     },
     "execution_count": 21,
     "metadata": {},
     "output_type": "execute_result"
    }
   ],
   "source": [
    "sm.srepr(expr3)"
   ]
  },
  {
   "cell_type": "code",
   "execution_count": 22,
   "id": "b83d36f9",
   "metadata": {
    "execution": {
     "iopub.execute_input": "2022-05-10T14:40:12.276275Z",
     "iopub.status.busy": "2022-05-10T14:40:12.275817Z",
     "iopub.status.idle": "2022-05-10T14:40:12.279982Z",
     "shell.execute_reply": "2022-05-10T14:40:12.279439Z"
    }
   },
   "outputs": [
    {
     "data": {
      "text/plain": [
       "'a*sin(omega) + Abs(f(t))/sqrt(b)'"
      ]
     },
     "execution_count": 22,
     "metadata": {},
     "output_type": "execute_result"
    }
   ],
   "source": [
    "repr(expr3)"
   ]
  },
  {
   "cell_type": "code",
   "execution_count": 23,
   "id": "3bd9bf77",
   "metadata": {
    "execution": {
     "iopub.execute_input": "2022-05-10T14:40:12.282861Z",
     "iopub.status.busy": "2022-05-10T14:40:12.282403Z",
     "iopub.status.idle": "2022-05-10T14:40:12.286084Z",
     "shell.execute_reply": "2022-05-10T14:40:12.285509Z"
    }
   },
   "outputs": [
    {
     "name": "stdout",
     "output_type": "stream",
     "text": [
      "a*sin(omega) + Abs(f(t))/sqrt(b)\n"
     ]
    }
   ],
   "source": [
    "print(expr3)"
   ]
  },
  {
   "cell_type": "code",
   "execution_count": 24,
   "id": "b4d5c031",
   "metadata": {
    "execution": {
     "iopub.execute_input": "2022-05-10T14:40:12.289117Z",
     "iopub.status.busy": "2022-05-10T14:40:12.288795Z",
     "iopub.status.idle": "2022-05-10T14:40:12.292756Z",
     "shell.execute_reply": "2022-05-10T14:40:12.292195Z"
    }
   },
   "outputs": [
    {
     "name": "stdout",
     "output_type": "stream",
     "text": [
      "           │f(t)│\n",
      "a⋅sin(ω) + ──────\n",
      "             √b  \n"
     ]
    }
   ],
   "source": [
    "sm.pprint(expr3)"
   ]
  },
  {
   "cell_type": "code",
   "execution_count": 25,
   "id": "b1a1ff77",
   "metadata": {
    "execution": {
     "iopub.execute_input": "2022-05-10T14:40:12.295654Z",
     "iopub.status.busy": "2022-05-10T14:40:12.295333Z",
     "iopub.status.idle": "2022-05-10T14:40:12.299329Z",
     "shell.execute_reply": "2022-05-10T14:40:12.298914Z"
    }
   },
   "outputs": [
    {
     "data": {
      "text/plain": [
       "'a \\\\sin{\\\\left(\\\\omega \\\\right)} + \\\\frac{\\\\left|{f{\\\\left(t \\\\right)}}\\\\right|}{\\\\sqrt{b}}'"
      ]
     },
     "execution_count": 25,
     "metadata": {},
     "output_type": "execute_result"
    }
   ],
   "source": [
    "sm.latex(expr3)"
   ]
  },
  {
   "cell_type": "code",
   "execution_count": 26,
   "id": "c7bfa090",
   "metadata": {
    "execution": {
     "iopub.execute_input": "2022-05-10T14:40:12.301735Z",
     "iopub.status.busy": "2022-05-10T14:40:12.301392Z",
     "iopub.status.idle": "2022-05-10T14:40:12.305078Z",
     "shell.execute_reply": "2022-05-10T14:40:12.304518Z"
    }
   },
   "outputs": [
    {
     "name": "stdout",
     "output_type": "stream",
     "text": [
      "a \\sin{\\left(\\omega \\right)} + \\frac{\\left|{f{\\left(t \\right)}}\\right|}{\\sqrt{b}}\n"
     ]
    }
   ],
   "source": [
    "print(sm.latex(expr3))"
   ]
  },
  {
   "cell_type": "code",
   "execution_count": 27,
   "id": "07e0cae6",
   "metadata": {
    "execution": {
     "iopub.execute_input": "2022-05-10T14:40:12.307983Z",
     "iopub.status.busy": "2022-05-10T14:40:12.307660Z",
     "iopub.status.idle": "2022-05-10T14:40:12.312740Z",
     "shell.execute_reply": "2022-05-10T14:40:12.312194Z"
    }
   },
   "outputs": [
    {
     "data": {
      "text/latex": [
       "$\\displaystyle \\frac{d}{d t} f{\\left(t \\right)}$"
      ],
      "text/plain": [
       "d       \n",
       "──(f(t))\n",
       "dt      "
      ]
     },
     "execution_count": 27,
     "metadata": {},
     "output_type": "execute_result"
    }
   ],
   "source": [
    "sm.diff(f(t), t)"
   ]
  },
  {
   "cell_type": "code",
   "execution_count": 28,
   "id": "e7278428",
   "metadata": {
    "execution": {
     "iopub.execute_input": "2022-05-10T14:40:12.315483Z",
     "iopub.status.busy": "2022-05-10T14:40:12.315162Z",
     "iopub.status.idle": "2022-05-10T14:40:12.319880Z",
     "shell.execute_reply": "2022-05-10T14:40:12.319341Z"
    }
   },
   "outputs": [
    {
     "data": {
      "text/latex": [
       "$\\displaystyle \\frac{d}{d t} f{\\left(t \\right)}$"
      ],
      "text/plain": [
       "d       \n",
       "──(f(t))\n",
       "dt      "
      ]
     },
     "execution_count": 28,
     "metadata": {},
     "output_type": "execute_result"
    }
   ],
   "source": [
    "f(t).diff(t)"
   ]
  },
  {
   "cell_type": "code",
   "execution_count": 29,
   "id": "24f41b1b",
   "metadata": {
    "execution": {
     "iopub.execute_input": "2022-05-10T14:40:12.322818Z",
     "iopub.status.busy": "2022-05-10T14:40:12.322358Z",
     "iopub.status.idle": "2022-05-10T14:40:12.327417Z",
     "shell.execute_reply": "2022-05-10T14:40:12.326863Z"
    }
   },
   "outputs": [
    {
     "data": {
      "text/latex": [
       "$\\displaystyle a \\sin{\\left(\\omega \\right)} + \\frac{\\left|{f{\\left(t \\right)}}\\right|}{\\sqrt{b}}$"
      ],
      "text/plain": [
       "           │f(t)│\n",
       "a⋅sin(ω) + ──────\n",
       "             √b  "
      ]
     },
     "execution_count": 29,
     "metadata": {},
     "output_type": "execute_result"
    }
   ],
   "source": [
    "expr3"
   ]
  },
  {
   "cell_type": "code",
   "execution_count": 30,
   "id": "60a3776d",
   "metadata": {
    "execution": {
     "iopub.execute_input": "2022-05-10T14:40:12.330280Z",
     "iopub.status.busy": "2022-05-10T14:40:12.329819Z",
     "iopub.status.idle": "2022-05-10T14:40:12.339549Z",
     "shell.execute_reply": "2022-05-10T14:40:12.338993Z"
    }
   },
   "outputs": [
    {
     "data": {
      "text/latex": [
       "$\\displaystyle - \\frac{\\left|{f{\\left(t \\right)}}\\right|}{2 b^{\\frac{3}{2}}}$"
      ],
      "text/plain": [
       "-│f(t)│ \n",
       "────────\n",
       "    3/2 \n",
       " 2⋅b    "
      ]
     },
     "execution_count": 30,
     "metadata": {},
     "output_type": "execute_result"
    }
   ],
   "source": [
    "expr3.diff(b)"
   ]
  },
  {
   "cell_type": "code",
   "execution_count": 31,
   "id": "caa63112",
   "metadata": {
    "execution": {
     "iopub.execute_input": "2022-05-10T14:40:12.342482Z",
     "iopub.status.busy": "2022-05-10T14:40:12.342021Z",
     "iopub.status.idle": "2022-05-10T14:40:12.363839Z",
     "shell.execute_reply": "2022-05-10T14:40:12.363293Z"
    }
   },
   "outputs": [
    {
     "data": {
      "text/latex": [
       "$\\displaystyle - \\frac{\\left(\\operatorname{re}{\\left(f{\\left(t \\right)}\\right)} \\frac{d}{d t} \\operatorname{re}{\\left(f{\\left(t \\right)}\\right)} + \\operatorname{im}{\\left(f{\\left(t \\right)}\\right)} \\frac{d}{d t} \\operatorname{im}{\\left(f{\\left(t \\right)}\\right)}\\right) \\operatorname{sign}{\\left(f{\\left(t \\right)} \\right)}}{2 b^{\\frac{3}{2}} f{\\left(t \\right)}}$"
      ],
      "text/plain": [
       " ⎛         d                       d           ⎞            \n",
       "-⎜re(f(t))⋅──(re(f(t))) + im(f(t))⋅──(im(f(t)))⎟⋅sign(f(t)) \n",
       " ⎝         dt                      dt          ⎠            \n",
       "────────────────────────────────────────────────────────────\n",
       "                           3/2                              \n",
       "                        2⋅b   ⋅f(t)                         "
      ]
     },
     "execution_count": 31,
     "metadata": {},
     "output_type": "execute_result"
    }
   ],
   "source": [
    "expr3.diff(b, t)"
   ]
  },
  {
   "cell_type": "code",
   "execution_count": 32,
   "id": "14d163f6",
   "metadata": {
    "execution": {
     "iopub.execute_input": "2022-05-10T14:40:12.366231Z",
     "iopub.status.busy": "2022-05-10T14:40:12.365771Z",
     "iopub.status.idle": "2022-05-10T14:40:12.384551Z",
     "shell.execute_reply": "2022-05-10T14:40:12.383968Z"
    }
   },
   "outputs": [
    {
     "data": {
      "text/latex": [
       "$\\displaystyle \\frac{\\left(\\operatorname{re}{\\left(h{\\left(t \\right)}\\right)} \\frac{d}{d t} \\operatorname{re}{\\left(h{\\left(t \\right)}\\right)} + \\operatorname{im}{\\left(h{\\left(t \\right)}\\right)} \\frac{d}{d t} \\operatorname{im}{\\left(h{\\left(t \\right)}\\right)}\\right) \\operatorname{sign}{\\left(h{\\left(t \\right)} \\right)}}{h{\\left(t \\right)}}$"
      ],
      "text/plain": [
       "⎛         d                       d           ⎞           \n",
       "⎜re(h(t))⋅──(re(h(t))) + im(h(t))⋅──(im(h(t)))⎟⋅sign(h(t))\n",
       "⎝         dt                      dt          ⎠           \n",
       "──────────────────────────────────────────────────────────\n",
       "                           h(t)                           "
      ]
     },
     "execution_count": 32,
     "metadata": {},
     "output_type": "execute_result"
    }
   ],
   "source": [
    "h = sm.Function('h')\n",
    "sm.Abs(h(t)).diff(t)"
   ]
  },
  {
   "cell_type": "code",
   "execution_count": 33,
   "id": "a968e268",
   "metadata": {
    "execution": {
     "iopub.execute_input": "2022-05-10T14:40:12.387276Z",
     "iopub.status.busy": "2022-05-10T14:40:12.386812Z",
     "iopub.status.idle": "2022-05-10T14:40:12.394250Z",
     "shell.execute_reply": "2022-05-10T14:40:12.393696Z"
    }
   },
   "outputs": [
    {
     "data": {
      "text/latex": [
       "$\\displaystyle \\operatorname{sign}{\\left(h{\\left(t \\right)} \\right)} \\frac{d}{d t} h{\\left(t \\right)}$"
      ],
      "text/plain": [
       "           d       \n",
       "sign(h(t))⋅──(h(t))\n",
       "           dt      "
      ]
     },
     "execution_count": 33,
     "metadata": {},
     "output_type": "execute_result"
    }
   ],
   "source": [
    "h = sm.Function('h', real=True)\n",
    "sm.Abs(h(t)).diff(t)"
   ]
  },
  {
   "cell_type": "code",
   "execution_count": 34,
   "id": "e99de719",
   "metadata": {
    "execution": {
     "iopub.execute_input": "2022-05-10T14:40:12.397146Z",
     "iopub.status.busy": "2022-05-10T14:40:12.396683Z",
     "iopub.status.idle": "2022-05-10T14:40:12.402604Z",
     "shell.execute_reply": "2022-05-10T14:40:12.402055Z"
    }
   },
   "outputs": [
    {
     "data": {
      "text/latex": [
       "$\\displaystyle \\frac{d}{d t} h{\\left(t \\right)}$"
      ],
      "text/plain": [
       "d       \n",
       "──(h(t))\n",
       "dt      "
      ]
     },
     "execution_count": 34,
     "metadata": {},
     "output_type": "execute_result"
    }
   ],
   "source": [
    "h = sm.Function('h', real=True, positive=True)\n",
    "sm.Abs(h(t)).diff(t)"
   ]
  },
  {
   "cell_type": "code",
   "execution_count": 35,
   "id": "843b36b4",
   "metadata": {
    "execution": {
     "iopub.execute_input": "2022-05-10T14:40:12.405456Z",
     "iopub.status.busy": "2022-05-10T14:40:12.404984Z",
     "iopub.status.idle": "2022-05-10T14:40:12.410372Z",
     "shell.execute_reply": "2022-05-10T14:40:12.409832Z"
    }
   },
   "outputs": [
    {
     "data": {
      "text/latex": [
       "$\\displaystyle t \\sin{\\left(\\omega f{\\left(t \\right)} \\right)} + \\frac{f{\\left(t \\right)}}{\\sqrt{t}}$"
      ],
      "text/plain": [
       "                f(t)\n",
       "t⋅sin(ω⋅f(t)) + ────\n",
       "                 √t "
      ]
     },
     "execution_count": 35,
     "metadata": {},
     "output_type": "execute_result"
    }
   ],
   "source": [
    "expr5"
   ]
  },
  {
   "cell_type": "code",
   "execution_count": 36,
   "id": "a0088305",
   "metadata": {
    "execution": {
     "iopub.execute_input": "2022-05-10T14:40:12.413265Z",
     "iopub.status.busy": "2022-05-10T14:40:12.412805Z",
     "iopub.status.idle": "2022-05-10T14:40:12.432687Z",
     "shell.execute_reply": "2022-05-10T14:40:12.432126Z"
    }
   },
   "outputs": [
    {
     "data": {
      "text/latex": [
       "$\\displaystyle \\omega t \\cos{\\left(\\omega f{\\left(t \\right)} \\right)} \\frac{d}{d t} f{\\left(t \\right)} + \\sin{\\left(\\omega f{\\left(t \\right)} \\right)} + \\frac{\\frac{d}{d t} f{\\left(t \\right)}}{\\sqrt{t}} - \\frac{f{\\left(t \\right)}}{2 t^{\\frac{3}{2}}}$"
      ],
      "text/plain": [
       "                                         d                \n",
       "                                         ──(f(t))         \n",
       "                d                        dt          f(t) \n",
       "ω⋅t⋅cos(ω⋅f(t))⋅──(f(t)) + sin(ω⋅f(t)) + ──────── - ──────\n",
       "                dt                          √t         3/2\n",
       "                                                    2⋅t   "
      ]
     },
     "execution_count": 36,
     "metadata": {},
     "output_type": "execute_result"
    }
   ],
   "source": [
    "expr5.diff(t)"
   ]
  },
  {
   "cell_type": "code",
   "execution_count": 37,
   "id": "0432ad22",
   "metadata": {
    "execution": {
     "iopub.execute_input": "2022-05-10T14:40:12.435260Z",
     "iopub.status.busy": "2022-05-10T14:40:12.434943Z",
     "iopub.status.idle": "2022-05-10T14:40:12.438735Z",
     "shell.execute_reply": "2022-05-10T14:40:12.438190Z"
    }
   },
   "outputs": [],
   "source": [
    "repl = {omega: sm.pi/4, a: 2, f(t): -12, b: 25}"
   ]
  },
  {
   "cell_type": "code",
   "execution_count": 38,
   "id": "22ceebe3",
   "metadata": {
    "execution": {
     "iopub.execute_input": "2022-05-10T14:40:12.441051Z",
     "iopub.status.busy": "2022-05-10T14:40:12.440657Z",
     "iopub.status.idle": "2022-05-10T14:40:12.449728Z",
     "shell.execute_reply": "2022-05-10T14:40:12.449153Z"
    }
   },
   "outputs": [
    {
     "data": {
      "text/latex": [
       "$\\displaystyle \\sqrt{2} + \\frac{12}{5}$"
      ],
      "text/plain": [
       "√2 + 12/5"
      ]
     },
     "execution_count": 38,
     "metadata": {},
     "output_type": "execute_result"
    }
   ],
   "source": [
    "expr3.xreplace(repl)"
   ]
  },
  {
   "cell_type": "code",
   "execution_count": 39,
   "id": "48ec44e9",
   "metadata": {
    "execution": {
     "iopub.execute_input": "2022-05-10T14:40:12.452710Z",
     "iopub.status.busy": "2022-05-10T14:40:12.452247Z",
     "iopub.status.idle": "2022-05-10T14:40:12.457713Z",
     "shell.execute_reply": "2022-05-10T14:40:12.457143Z"
    }
   },
   "outputs": [
    {
     "data": {
      "text/latex": [
       "$\\displaystyle 3.81421356237309504880168872421$"
      ],
      "text/plain": [
       "3.814213562373095048801688724210"
      ]
     },
     "execution_count": 39,
     "metadata": {},
     "output_type": "execute_result"
    }
   ],
   "source": [
    "expr3.evalf(n=31, subs=repl)"
   ]
  },
  {
   "cell_type": "code",
   "execution_count": 40,
   "id": "484e5615",
   "metadata": {
    "execution": {
     "iopub.execute_input": "2022-05-10T14:40:12.460732Z",
     "iopub.status.busy": "2022-05-10T14:40:12.460327Z",
     "iopub.status.idle": "2022-05-10T14:40:12.469013Z",
     "shell.execute_reply": "2022-05-10T14:40:12.468085Z"
    }
   },
   "outputs": [
    {
     "data": {
      "text/plain": [
       "sympy.core.numbers.Float"
      ]
     },
     "execution_count": 40,
     "metadata": {},
     "output_type": "execute_result"
    }
   ],
   "source": [
    "type(expr3.evalf(n=31, subs=repl))"
   ]
  },
  {
   "cell_type": "code",
   "execution_count": 41,
   "id": "01ada42b",
   "metadata": {
    "execution": {
     "iopub.execute_input": "2022-05-10T14:40:12.471742Z",
     "iopub.status.busy": "2022-05-10T14:40:12.471292Z",
     "iopub.status.idle": "2022-05-10T14:40:12.479014Z",
     "shell.execute_reply": "2022-05-10T14:40:12.478213Z"
    }
   },
   "outputs": [
    {
     "data": {
      "text/latex": [
       "$\\displaystyle 3.81421356237309504880168872420969807856967187537694807317667973799073247846210703885038753432764157273501384623091229702492483605585073721264412149709993583141322266592750559275579995050115278206057147010955997160597027453459686201472851741864088919860955232923048430871432145083976260362799525140799$"
      ],
      "text/plain": [
       "3.8142135623730950488016887242096980785696718753769480731766797379907324784621\n",
       "070388503875343276415727350138462309122970249248360558507372126441214970999358\n",
       "314132226659275055927557999505011527820605714701095599716059702745345968620147\n",
       "2851741864088919860955232923048430871432145083976260362799525140799"
      ]
     },
     "execution_count": 41,
     "metadata": {},
     "output_type": "execute_result"
    }
   ],
   "source": [
    "expr3.evalf(n=300, subs=repl)"
   ]
  },
  {
   "cell_type": "code",
   "execution_count": 42,
   "id": "b9f69fb1",
   "metadata": {
    "execution": {
     "iopub.execute_input": "2022-05-10T14:40:12.481349Z",
     "iopub.status.busy": "2022-05-10T14:40:12.481136Z",
     "iopub.status.idle": "2022-05-10T14:40:12.486240Z",
     "shell.execute_reply": "2022-05-10T14:40:12.485675Z"
    }
   },
   "outputs": [
    {
     "data": {
      "text/latex": [
       "$\\displaystyle 3.81421356237309$"
      ],
      "text/plain": [
       "3.814213562373095"
      ]
     },
     "execution_count": 42,
     "metadata": {},
     "output_type": "execute_result"
    }
   ],
   "source": [
    "float(expr3.evalf(n=300, subs=repl))"
   ]
  },
  {
   "cell_type": "code",
   "execution_count": 43,
   "id": "616d38ce",
   "metadata": {
    "execution": {
     "iopub.execute_input": "2022-05-10T14:40:12.489190Z",
     "iopub.status.busy": "2022-05-10T14:40:12.488792Z",
     "iopub.status.idle": "2022-05-10T14:40:12.494095Z",
     "shell.execute_reply": "2022-05-10T14:40:12.493544Z"
    }
   },
   "outputs": [
    {
     "data": {
      "text/plain": [
       "float"
      ]
     },
     "execution_count": 43,
     "metadata": {},
     "output_type": "execute_result"
    }
   ],
   "source": [
    "type(float(expr3.evalf(n=300, subs=repl)))"
   ]
  },
  {
   "cell_type": "code",
   "execution_count": 44,
   "id": "4d3b9aa4",
   "metadata": {
    "execution": {
     "iopub.execute_input": "2022-05-10T14:40:12.497143Z",
     "iopub.status.busy": "2022-05-10T14:40:12.496682Z",
     "iopub.status.idle": "2022-05-10T14:40:12.659415Z",
     "shell.execute_reply": "2022-05-10T14:40:12.658911Z"
    }
   },
   "outputs": [],
   "source": [
    "eval_expr3 = sm.lambdify((omega, a, f(t), b), expr3)"
   ]
  },
  {
   "cell_type": "code",
   "execution_count": 45,
   "id": "fc1d98fc",
   "metadata": {
    "execution": {
     "iopub.execute_input": "2022-05-10T14:40:12.662185Z",
     "iopub.status.busy": "2022-05-10T14:40:12.661776Z",
     "iopub.status.idle": "2022-05-10T14:40:12.665407Z",
     "shell.execute_reply": "2022-05-10T14:40:12.664978Z"
    }
   },
   "outputs": [
    {
     "name": "stdout",
     "output_type": "stream",
     "text": [
      "Help on function _lambdifygenerated:\n",
      "\n",
      "_lambdifygenerated(omega, a, _Dummy_23, b)\n",
      "    Created with lambdify. Signature:\n",
      "    \n",
      "    func(omega, a, f, b)\n",
      "    \n",
      "    Expression:\n",
      "    \n",
      "    a*sin(omega) + Abs(f(t))/sqrt(b)\n",
      "    \n",
      "    Source code:\n",
      "    \n",
      "    def _lambdifygenerated(omega, a, _Dummy_23, b):\n",
      "        return a*sin(omega) + abs(_Dummy_23)/sqrt(b)\n",
      "    \n",
      "    \n",
      "    Imported modules:\n",
      "\n"
     ]
    }
   ],
   "source": [
    "help(eval_expr3)"
   ]
  },
  {
   "cell_type": "code",
   "execution_count": 46,
   "id": "1ba4ed16",
   "metadata": {
    "execution": {
     "iopub.execute_input": "2022-05-10T14:40:12.667807Z",
     "iopub.status.busy": "2022-05-10T14:40:12.667426Z",
     "iopub.status.idle": "2022-05-10T14:40:12.671739Z",
     "shell.execute_reply": "2022-05-10T14:40:12.671192Z"
    }
   },
   "outputs": [
    {
     "data": {
      "text/latex": [
       "$\\displaystyle 3.81365036221073$"
      ],
      "text/plain": [
       "3.8136503622107316"
      ]
     },
     "execution_count": 46,
     "metadata": {},
     "output_type": "execute_result"
    }
   ],
   "source": [
    "eval_expr3(3.14/4, 2, -12, 25)"
   ]
  },
  {
   "cell_type": "code",
   "execution_count": 47,
   "id": "c34bfa8e",
   "metadata": {
    "execution": {
     "iopub.execute_input": "2022-05-10T14:40:12.674093Z",
     "iopub.status.busy": "2022-05-10T14:40:12.673690Z",
     "iopub.status.idle": "2022-05-10T14:40:12.677665Z",
     "shell.execute_reply": "2022-05-10T14:40:12.677123Z"
    }
   },
   "outputs": [
    {
     "data": {
      "text/plain": [
       "numpy.float64"
      ]
     },
     "execution_count": 47,
     "metadata": {},
     "output_type": "execute_result"
    }
   ],
   "source": [
    "type(eval_expr3(3.14/4, 2, -12, 25))"
   ]
  },
  {
   "cell_type": "code",
   "execution_count": 48,
   "id": "944ce9f0",
   "metadata": {
    "execution": {
     "iopub.execute_input": "2022-05-10T14:40:12.679964Z",
     "iopub.status.busy": "2022-05-10T14:40:12.679563Z",
     "iopub.status.idle": "2022-05-10T14:40:12.685880Z",
     "shell.execute_reply": "2022-05-10T14:40:12.685307Z"
    }
   },
   "outputs": [
    {
     "data": {
      "text/latex": [
       "$\\displaystyle \\left[\\begin{matrix}a & 2 a\\\\\\frac{b}{\\omega} & f{\\left(t \\right)}\\end{matrix}\\right]$"
      ],
      "text/plain": [
       "⎡a  2⋅a ⎤\n",
       "⎢       ⎥\n",
       "⎢b      ⎥\n",
       "⎢─  f(t)⎥\n",
       "⎣ω      ⎦"
      ]
     },
     "execution_count": 48,
     "metadata": {},
     "output_type": "execute_result"
    }
   ],
   "source": [
    "mat1 = sm.Matrix([[a, 2*a], [b/omega, f(t)]])\n",
    "mat1"
   ]
  },
  {
   "cell_type": "code",
   "execution_count": 49,
   "id": "34c92ce2",
   "metadata": {
    "execution": {
     "iopub.execute_input": "2022-05-10T14:40:12.688334Z",
     "iopub.status.busy": "2022-05-10T14:40:12.687830Z",
     "iopub.status.idle": "2022-05-10T14:40:12.692925Z",
     "shell.execute_reply": "2022-05-10T14:40:12.692354Z"
    }
   },
   "outputs": [
    {
     "data": {
      "text/latex": [
       "$\\displaystyle \\left[\\begin{matrix}1 & 2\\\\3 & 4\\end{matrix}\\right]$"
      ],
      "text/plain": [
       "⎡1  2⎤\n",
       "⎢    ⎥\n",
       "⎣3  4⎦"
      ]
     },
     "execution_count": 49,
     "metadata": {},
     "output_type": "execute_result"
    }
   ],
   "source": [
    "mat2 = sm.Matrix([[1, 2], [3, 4]])\n",
    "mat2"
   ]
  },
  {
   "cell_type": "code",
   "execution_count": 50,
   "id": "73910b6e",
   "metadata": {
    "execution": {
     "iopub.execute_input": "2022-05-10T14:40:12.695321Z",
     "iopub.status.busy": "2022-05-10T14:40:12.694993Z",
     "iopub.status.idle": "2022-05-10T14:40:12.698992Z",
     "shell.execute_reply": "2022-05-10T14:40:12.698435Z"
    }
   },
   "outputs": [
    {
     "data": {
      "text/latex": [
       "$\\displaystyle \\left( 2, \\  2\\right)$"
      ],
      "text/plain": [
       "(2, 2)"
      ]
     },
     "execution_count": 50,
     "metadata": {},
     "output_type": "execute_result"
    }
   ],
   "source": [
    "mat1.shape"
   ]
  },
  {
   "cell_type": "code",
   "execution_count": 51,
   "id": "77075c97",
   "metadata": {
    "execution": {
     "iopub.execute_input": "2022-05-10T14:40:12.701894Z",
     "iopub.status.busy": "2022-05-10T14:40:12.701413Z",
     "iopub.status.idle": "2022-05-10T14:40:12.705755Z",
     "shell.execute_reply": "2022-05-10T14:40:12.705180Z"
    }
   },
   "outputs": [
    {
     "data": {
      "text/latex": [
       "$\\displaystyle 2 a$"
      ],
      "text/plain": [
       "2⋅a"
      ]
     },
     "execution_count": 51,
     "metadata": {},
     "output_type": "execute_result"
    }
   ],
   "source": [
    "mat1[0, 1]"
   ]
  },
  {
   "cell_type": "code",
   "execution_count": 52,
   "id": "df78791e",
   "metadata": {
    "execution": {
     "iopub.execute_input": "2022-05-10T14:40:12.708586Z",
     "iopub.status.busy": "2022-05-10T14:40:12.708253Z",
     "iopub.status.idle": "2022-05-10T14:40:12.712772Z",
     "shell.execute_reply": "2022-05-10T14:40:12.712344Z"
    }
   },
   "outputs": [
    {
     "data": {
      "text/latex": [
       "$\\displaystyle \\left[\\begin{matrix}a & 2 a\\end{matrix}\\right]$"
      ],
      "text/plain": [
       "[a  2⋅a]"
      ]
     },
     "execution_count": 52,
     "metadata": {},
     "output_type": "execute_result"
    }
   ],
   "source": [
    "mat1[0, 0:2]"
   ]
  },
  {
   "cell_type": "code",
   "execution_count": 53,
   "id": "b74900d7",
   "metadata": {
    "execution": {
     "iopub.execute_input": "2022-05-10T14:40:12.715226Z",
     "iopub.status.busy": "2022-05-10T14:40:12.714886Z",
     "iopub.status.idle": "2022-05-10T14:40:12.719905Z",
     "shell.execute_reply": "2022-05-10T14:40:12.719334Z"
    }
   },
   "outputs": [
    {
     "data": {
      "text/latex": [
       "$\\displaystyle \\left[\\begin{matrix}2 a\\\\f{\\left(t \\right)}\\end{matrix}\\right]$"
      ],
      "text/plain": [
       "⎡2⋅a ⎤\n",
       "⎢    ⎥\n",
       "⎣f(t)⎦"
      ]
     },
     "execution_count": 53,
     "metadata": {},
     "output_type": "execute_result"
    }
   ],
   "source": [
    "mat1[0:2, 1]"
   ]
  },
  {
   "cell_type": "code",
   "execution_count": 54,
   "id": "99950407",
   "metadata": {
    "execution": {
     "iopub.execute_input": "2022-05-10T14:40:12.722991Z",
     "iopub.status.busy": "2022-05-10T14:40:12.722453Z",
     "iopub.status.idle": "2022-05-10T14:40:12.729887Z",
     "shell.execute_reply": "2022-05-10T14:40:12.729308Z"
    }
   },
   "outputs": [
    {
     "data": {
      "text/latex": [
       "$\\displaystyle \\left[\\begin{matrix}a + 1 & 2 a + 2\\\\\\frac{b}{\\omega} + 3 & f{\\left(t \\right)} + 4\\end{matrix}\\right]$"
      ],
      "text/plain": [
       "⎡a + 1  2⋅a + 2 ⎤\n",
       "⎢               ⎥\n",
       "⎢b              ⎥\n",
       "⎢─ + 3  f(t) + 4⎥\n",
       "⎣ω              ⎦"
      ]
     },
     "execution_count": 54,
     "metadata": {},
     "output_type": "execute_result"
    }
   ],
   "source": [
    "mat1 + mat2"
   ]
  },
  {
   "cell_type": "code",
   "execution_count": 55,
   "id": "b9d6f6ed",
   "metadata": {
    "execution": {
     "iopub.execute_input": "2022-05-10T14:40:12.732338Z",
     "iopub.status.busy": "2022-05-10T14:40:12.731876Z",
     "iopub.status.idle": "2022-05-10T14:40:12.742115Z",
     "shell.execute_reply": "2022-05-10T14:40:12.741564Z"
    }
   },
   "outputs": [
    {
     "data": {
      "text/latex": [
       "$\\displaystyle \\left[\\begin{matrix}7 a & 10 a\\\\\\frac{b}{\\omega} + 3 f{\\left(t \\right)} & \\frac{2 b}{\\omega} + 4 f{\\left(t \\right)}\\end{matrix}\\right]$"
      ],
      "text/plain": [
       "⎡   7⋅a          10⋅a    ⎤\n",
       "⎢                        ⎥\n",
       "⎢b           2⋅b         ⎥\n",
       "⎢─ + 3⋅f(t)  ─── + 4⋅f(t)⎥\n",
       "⎣ω            ω          ⎦"
      ]
     },
     "execution_count": 55,
     "metadata": {},
     "output_type": "execute_result"
    }
   ],
   "source": [
    "mat1*mat2"
   ]
  },
  {
   "cell_type": "code",
   "execution_count": 56,
   "id": "acf24ca4",
   "metadata": {
    "execution": {
     "iopub.execute_input": "2022-05-10T14:40:12.744502Z",
     "iopub.status.busy": "2022-05-10T14:40:12.744041Z",
     "iopub.status.idle": "2022-05-10T14:40:12.751308Z",
     "shell.execute_reply": "2022-05-10T14:40:12.750743Z"
    }
   },
   "outputs": [
    {
     "data": {
      "text/latex": [
       "$\\displaystyle \\left[\\begin{matrix}7 a & 10 a\\\\\\frac{b}{\\omega} + 3 f{\\left(t \\right)} & \\frac{2 b}{\\omega} + 4 f{\\left(t \\right)}\\end{matrix}\\right]$"
      ],
      "text/plain": [
       "⎡   7⋅a          10⋅a    ⎤\n",
       "⎢                        ⎥\n",
       "⎢b           2⋅b         ⎥\n",
       "⎢─ + 3⋅f(t)  ─── + 4⋅f(t)⎥\n",
       "⎣ω            ω          ⎦"
      ]
     },
     "execution_count": 56,
     "metadata": {},
     "output_type": "execute_result"
    }
   ],
   "source": [
    "mat1@mat2"
   ]
  },
  {
   "cell_type": "code",
   "execution_count": 57,
   "id": "9bae1440",
   "metadata": {
    "execution": {
     "iopub.execute_input": "2022-05-10T14:40:12.754177Z",
     "iopub.status.busy": "2022-05-10T14:40:12.753710Z",
     "iopub.status.idle": "2022-05-10T14:40:12.760777Z",
     "shell.execute_reply": "2022-05-10T14:40:12.760207Z"
    }
   },
   "outputs": [
    {
     "data": {
      "text/latex": [
       "$\\displaystyle \\left[\\begin{matrix}a & 4 a\\\\\\frac{3 b}{\\omega} & 4 f{\\left(t \\right)}\\end{matrix}\\right]$"
      ],
      "text/plain": [
       "⎡ a    4⋅a  ⎤\n",
       "⎢           ⎥\n",
       "⎢3⋅b        ⎥\n",
       "⎢───  4⋅f(t)⎥\n",
       "⎣ ω         ⎦"
      ]
     },
     "execution_count": 57,
     "metadata": {},
     "output_type": "execute_result"
    }
   ],
   "source": [
    "sm.hadamard_product(mat1, mat2)"
   ]
  },
  {
   "cell_type": "code",
   "execution_count": 58,
   "id": "4cf1026d",
   "metadata": {
    "execution": {
     "iopub.execute_input": "2022-05-10T14:40:12.763612Z",
     "iopub.status.busy": "2022-05-10T14:40:12.763152Z",
     "iopub.status.idle": "2022-05-10T14:40:12.773698Z",
     "shell.execute_reply": "2022-05-10T14:40:12.773123Z"
    }
   },
   "outputs": [
    {
     "data": {
      "text/latex": [
       "$\\displaystyle \\left[\\begin{matrix}a + \\frac{b}{\\omega^{2}}\\\\a \\omega + f{\\left(t \\right)}\\\\a \\sin{\\left(\\omega \\right)} + \\frac{\\left|{f{\\left(t \\right)}}\\right|}{\\sqrt{b}}\\\\5 \\sin{\\left(12 \\right)} + 105.986768359379\\\\t \\sin{\\left(\\omega f{\\left(t \\right)} \\right)} + \\frac{f{\\left(t \\right)}}{\\sqrt{t}}\\end{matrix}\\right]$"
      ],
      "text/plain": [
       "⎡               b            ⎤\n",
       "⎢           a + ──           ⎥\n",
       "⎢                2           ⎥\n",
       "⎢               ω            ⎥\n",
       "⎢                            ⎥\n",
       "⎢         a⋅ω + f(t)         ⎥\n",
       "⎢                            ⎥\n",
       "⎢                │f(t)│      ⎥\n",
       "⎢     a⋅sin(ω) + ──────      ⎥\n",
       "⎢                  √b        ⎥\n",
       "⎢                            ⎥\n",
       "⎢5⋅sin(12) + 105.986768359379⎥\n",
       "⎢                            ⎥\n",
       "⎢                    f(t)    ⎥\n",
       "⎢    t⋅sin(ω⋅f(t)) + ────    ⎥\n",
       "⎣                     √t     ⎦"
      ]
     },
     "execution_count": 58,
     "metadata": {},
     "output_type": "execute_result"
    }
   ],
   "source": [
    "mat3 = sm.Matrix([expr1, expr2, expr3, expr4, expr5])\n",
    "mat3"
   ]
  },
  {
   "cell_type": "code",
   "execution_count": 59,
   "id": "91193d02",
   "metadata": {
    "execution": {
     "iopub.execute_input": "2022-05-10T14:40:12.776613Z",
     "iopub.status.busy": "2022-05-10T14:40:12.776152Z",
     "iopub.status.idle": "2022-05-10T14:40:12.791722Z",
     "shell.execute_reply": "2022-05-10T14:40:12.791189Z"
    }
   },
   "outputs": [
    {
     "data": {
      "text/latex": [
       "$\\displaystyle \\left[\\begin{matrix}1\\\\\\omega\\\\\\sin{\\left(\\omega \\right)}\\\\0\\\\0\\end{matrix}\\right]$"
      ],
      "text/plain": [
       "⎡  1   ⎤\n",
       "⎢      ⎥\n",
       "⎢  ω   ⎥\n",
       "⎢      ⎥\n",
       "⎢sin(ω)⎥\n",
       "⎢      ⎥\n",
       "⎢  0   ⎥\n",
       "⎢      ⎥\n",
       "⎣  0   ⎦"
      ]
     },
     "execution_count": 59,
     "metadata": {},
     "output_type": "execute_result"
    }
   ],
   "source": [
    "mat3.diff(a)"
   ]
  },
  {
   "cell_type": "code",
   "execution_count": 60,
   "id": "a8269868",
   "metadata": {
    "execution": {
     "iopub.execute_input": "2022-05-10T14:40:12.794095Z",
     "iopub.status.busy": "2022-05-10T14:40:12.793775Z",
     "iopub.status.idle": "2022-05-10T14:40:12.810793Z",
     "shell.execute_reply": "2022-05-10T14:40:12.810144Z"
    }
   },
   "outputs": [
    {
     "data": {
      "text/latex": [
       "$\\displaystyle \\left[\\begin{matrix}0\\\\\\frac{d}{d t} f{\\left(t \\right)}\\\\\\frac{\\left(\\operatorname{re}{\\left(f{\\left(t \\right)}\\right)} \\frac{d}{d t} \\operatorname{re}{\\left(f{\\left(t \\right)}\\right)} + \\operatorname{im}{\\left(f{\\left(t \\right)}\\right)} \\frac{d}{d t} \\operatorname{im}{\\left(f{\\left(t \\right)}\\right)}\\right) \\operatorname{sign}{\\left(f{\\left(t \\right)} \\right)}}{\\sqrt{b} f{\\left(t \\right)}}\\\\0\\\\\\omega t \\cos{\\left(\\omega f{\\left(t \\right)} \\right)} \\frac{d}{d t} f{\\left(t \\right)} + \\sin{\\left(\\omega f{\\left(t \\right)} \\right)} + \\frac{\\frac{d}{d t} f{\\left(t \\right)}}{\\sqrt{t}} - \\frac{f{\\left(t \\right)}}{2 t^{\\frac{3}{2}}}\\end{matrix}\\right]$"
      ],
      "text/plain": [
       "⎡                            0                             ⎤\n",
       "⎢                                                          ⎥\n",
       "⎢                         d                                ⎥\n",
       "⎢                         ──(f(t))                         ⎥\n",
       "⎢                         dt                               ⎥\n",
       "⎢                                                          ⎥\n",
       "⎢⎛         d                       d           ⎞           ⎥\n",
       "⎢⎜re(f(t))⋅──(re(f(t))) + im(f(t))⋅──(im(f(t)))⎟⋅sign(f(t))⎥\n",
       "⎢⎝         dt                      dt          ⎠           ⎥\n",
       "⎢──────────────────────────────────────────────────────────⎥\n",
       "⎢                         √b⋅f(t)                          ⎥\n",
       "⎢                                                          ⎥\n",
       "⎢                            0                             ⎥\n",
       "⎢                                                          ⎥\n",
       "⎢                                         d                ⎥\n",
       "⎢                                         ──(f(t))         ⎥\n",
       "⎢                d                        dt          f(t) ⎥\n",
       "⎢ω⋅t⋅cos(ω⋅f(t))⋅──(f(t)) + sin(ω⋅f(t)) + ──────── - ──────⎥\n",
       "⎢                dt                          √t         3/2⎥\n",
       "⎣                                                    2⋅t   ⎦"
      ]
     },
     "execution_count": 60,
     "metadata": {},
     "output_type": "execute_result"
    }
   ],
   "source": [
    "mat3.diff(t)"
   ]
  },
  {
   "cell_type": "code",
   "execution_count": 61,
   "id": "c582cb54",
   "metadata": {
    "execution": {
     "iopub.execute_input": "2022-05-10T14:40:12.813578Z",
     "iopub.status.busy": "2022-05-10T14:40:12.813290Z",
     "iopub.status.idle": "2022-05-10T14:40:12.818504Z",
     "shell.execute_reply": "2022-05-10T14:40:12.817946Z"
    }
   },
   "outputs": [
    {
     "data": {
      "text/latex": [
       "$\\displaystyle \\left[\\begin{matrix}a\\\\b\\\\\\omega\\\\t\\end{matrix}\\right]$"
      ],
      "text/plain": [
       "⎡a⎤\n",
       "⎢ ⎥\n",
       "⎢b⎥\n",
       "⎢ ⎥\n",
       "⎢ω⎥\n",
       "⎢ ⎥\n",
       "⎣t⎦"
      ]
     },
     "execution_count": 61,
     "metadata": {},
     "output_type": "execute_result"
    }
   ],
   "source": [
    "mat4 = sm.Matrix([a, b, omega, t])\n",
    "mat4"
   ]
  },
  {
   "cell_type": "code",
   "execution_count": 62,
   "id": "2a013ce0",
   "metadata": {
    "execution": {
     "iopub.execute_input": "2022-05-10T14:40:12.821464Z",
     "iopub.status.busy": "2022-05-10T14:40:12.820992Z",
     "iopub.status.idle": "2022-05-10T14:40:12.848013Z",
     "shell.execute_reply": "2022-05-10T14:40:12.847443Z"
    }
   },
   "outputs": [
    {
     "data": {
      "text/latex": [
       "$\\displaystyle \\left[\\begin{matrix}1 & \\frac{1}{\\omega^{2}} & - \\frac{2 b}{\\omega^{3}} & 0\\\\\\omega & 0 & a & \\frac{d}{d t} f{\\left(t \\right)}\\\\\\sin{\\left(\\omega \\right)} & - \\frac{\\left|{f{\\left(t \\right)}}\\right|}{2 b^{\\frac{3}{2}}} & a \\cos{\\left(\\omega \\right)} & \\frac{\\left(\\operatorname{re}{\\left(f{\\left(t \\right)}\\right)} \\frac{d}{d t} \\operatorname{re}{\\left(f{\\left(t \\right)}\\right)} + \\operatorname{im}{\\left(f{\\left(t \\right)}\\right)} \\frac{d}{d t} \\operatorname{im}{\\left(f{\\left(t \\right)}\\right)}\\right) \\operatorname{sign}{\\left(f{\\left(t \\right)} \\right)}}{\\sqrt{b} f{\\left(t \\right)}}\\\\0 & 0 & 0 & 0\\\\0 & 0 & t f{\\left(t \\right)} \\cos{\\left(\\omega f{\\left(t \\right)} \\right)} & \\omega t \\cos{\\left(\\omega f{\\left(t \\right)} \\right)} \\frac{d}{d t} f{\\left(t \\right)} + \\sin{\\left(\\omega f{\\left(t \\right)} \\right)} + \\frac{\\frac{d}{d t} f{\\left(t \\right)}}{\\sqrt{t}} - \\frac{f{\\left(t \\right)}}{2 t^{\\frac{3}{2}}}\\end{matrix}\\right]$"
      ],
      "text/plain": [
       "⎡           1            -2⋅b                                                 \n",
       "⎢  1        ──           ─────                                     0          \n",
       "⎢            2              3                                                 \n",
       "⎢           ω              ω                                                  \n",
       "⎢                                                                             \n",
       "⎢                                                               d             \n",
       "⎢  ω        0              a                                    ──(f(t))      \n",
       "⎢                                                               dt            \n",
       "⎢                                                                             \n",
       "⎢                                      ⎛         d                       d    \n",
       "⎢                                      ⎜re(f(t))⋅──(re(f(t))) + im(f(t))⋅──(im\n",
       "⎢        -│f(t)│                       ⎝         dt                      dt   \n",
       "⎢sin(ω)  ────────       a⋅cos(ω)       ───────────────────────────────────────\n",
       "⎢            3/2                                                √b⋅f(t)       \n",
       "⎢         2⋅b                                                                 \n",
       "⎢                                                                             \n",
       "⎢  0        0              0                                       0          \n",
       "⎢                                                                             \n",
       "⎢                                                                             \n",
       "⎢                                                                             \n",
       "⎢                                                      d                      \n",
       "⎢  0        0      t⋅f(t)⋅cos(ω⋅f(t))  ω⋅t⋅cos(ω⋅f(t))⋅──(f(t)) + sin(ω⋅f(t)) \n",
       "⎢                                                      dt                     \n",
       "⎣                                                                             \n",
       "\n",
       "                   ⎤\n",
       "                   ⎥\n",
       "                   ⎥\n",
       "                   ⎥\n",
       "                   ⎥\n",
       "                   ⎥\n",
       "                   ⎥\n",
       "                   ⎥\n",
       "                   ⎥\n",
       "       ⎞           ⎥\n",
       "(f(t)))⎟⋅sign(f(t))⎥\n",
       "       ⎠           ⎥\n",
       "───────────────────⎥\n",
       "                   ⎥\n",
       "                   ⎥\n",
       "                   ⎥\n",
       "                   ⎥\n",
       "                   ⎥\n",
       "  d                ⎥\n",
       "  ──(f(t))         ⎥\n",
       "  dt          f(t) ⎥\n",
       "+ ──────── - ──────⎥\n",
       "     √t         3/2⎥\n",
       "             2⋅t   ⎦"
      ]
     },
     "execution_count": 62,
     "metadata": {},
     "output_type": "execute_result"
    }
   ],
   "source": [
    "mat3.jacobian(mat4)"
   ]
  },
  {
   "cell_type": "code",
   "execution_count": 63,
   "id": "ff8e1a27",
   "metadata": {
    "execution": {
     "iopub.execute_input": "2022-05-10T14:40:12.850675Z",
     "iopub.status.busy": "2022-05-10T14:40:12.850202Z",
     "iopub.status.idle": "2022-05-10T14:40:12.870050Z",
     "shell.execute_reply": "2022-05-10T14:40:12.869472Z"
    }
   },
   "outputs": [
    {
     "data": {
      "text/latex": [
       "$\\displaystyle \\left[\\begin{matrix}a_{1} \\sin{\\left(f{\\left(t \\right)} \\right)} \\cos{\\left(2 f{\\left(t \\right)} \\right)} + a_{2} + \\frac{\\omega \\log{\\left(t \\right)}}{\\log{\\left(f{\\left(t \\right)} \\right)}} + 100\\\\a_{1} \\omega^{2} + a_{2} f{\\left(t \\right)} + \\omega + f^{3}{\\left(t \\right)}\\end{matrix}\\right]$"
      ],
      "text/plain": [
       "⎡                                 ω⋅log(t)      ⎤\n",
       "⎢a₁⋅sin(f(t))⋅cos(2⋅f(t)) + a₂ + ───────── + 100⎥\n",
       "⎢                                log(f(t))      ⎥\n",
       "⎢                                               ⎥\n",
       "⎢              2                  3             ⎥\n",
       "⎣          a₁⋅ω  + a₂⋅f(t) + ω + f (t)          ⎦"
      ]
     },
     "execution_count": 63,
     "metadata": {},
     "output_type": "execute_result"
    }
   ],
   "source": [
    "a1, a2 = sm.symbols('a1, a2')\n",
    "\n",
    "exprs = sm.Matrix([\n",
    "    [a1*sm.sin(f(t))*sm.cos(2*f(t)) + a2 + omega/sm.log(f(t), t) + 100],\n",
    "    [a1*omega**2 + f(t)*a2 + omega + f(t)**3],\n",
    "])\n",
    "exprs"
   ]
  },
  {
   "cell_type": "code",
   "execution_count": 64,
   "id": "9fb5c840",
   "metadata": {
    "execution": {
     "iopub.execute_input": "2022-05-10T14:40:12.872734Z",
     "iopub.status.busy": "2022-05-10T14:40:12.872253Z",
     "iopub.status.idle": "2022-05-10T14:40:12.882115Z",
     "shell.execute_reply": "2022-05-10T14:40:12.881545Z"
    }
   },
   "outputs": [
    {
     "data": {
      "text/latex": [
       "$\\displaystyle \\left[\\begin{matrix}\\sin{\\left(f{\\left(t \\right)} \\right)} \\cos{\\left(2 f{\\left(t \\right)} \\right)} & 1\\\\\\omega^{2} & f{\\left(t \\right)}\\end{matrix}\\right]$"
      ],
      "text/plain": [
       "⎡sin(f(t))⋅cos(2⋅f(t))   1  ⎤\n",
       "⎢                           ⎥\n",
       "⎢          2                ⎥\n",
       "⎣         ω             f(t)⎦"
      ]
     },
     "execution_count": 64,
     "metadata": {},
     "output_type": "execute_result"
    }
   ],
   "source": [
    "A = exprs.jacobian([a1, a2])\n",
    "A"
   ]
  },
  {
   "cell_type": "code",
   "execution_count": 65,
   "id": "25cc513c",
   "metadata": {
    "execution": {
     "iopub.execute_input": "2022-05-10T14:40:12.884988Z",
     "iopub.status.busy": "2022-05-10T14:40:12.884527Z",
     "iopub.status.idle": "2022-05-10T14:40:12.892274Z",
     "shell.execute_reply": "2022-05-10T14:40:12.891728Z"
    }
   },
   "outputs": [
    {
     "data": {
      "text/latex": [
       "$\\displaystyle \\left[\\begin{matrix}- \\frac{\\omega \\log{\\left(t \\right)}}{\\log{\\left(f{\\left(t \\right)} \\right)}} - 100\\\\- \\omega - f^{3}{\\left(t \\right)}\\end{matrix}\\right]$"
      ],
      "text/plain": [
       "⎡   ω⋅log(t)      ⎤\n",
       "⎢- ───────── - 100⎥\n",
       "⎢  log(f(t))      ⎥\n",
       "⎢                 ⎥\n",
       "⎢         3       ⎥\n",
       "⎣   -ω - f (t)    ⎦"
      ]
     },
     "execution_count": 65,
     "metadata": {},
     "output_type": "execute_result"
    }
   ],
   "source": [
    "b = -exprs.xreplace({a1: 0, a2:0})\n",
    "b"
   ]
  },
  {
   "cell_type": "code",
   "execution_count": 66,
   "id": "ef3ede0c",
   "metadata": {
    "execution": {
     "iopub.execute_input": "2022-05-10T14:40:12.895199Z",
     "iopub.status.busy": "2022-05-10T14:40:12.894735Z",
     "iopub.status.idle": "2022-05-10T14:40:12.928962Z",
     "shell.execute_reply": "2022-05-10T14:40:12.928411Z"
    }
   },
   "outputs": [
    {
     "data": {
      "text/latex": [
       "$\\displaystyle \\left[\\begin{matrix}\\frac{- \\frac{\\omega \\log{\\left(t \\right)}}{\\log{\\left(f{\\left(t \\right)} \\right)}} - 100 - \\frac{- \\frac{\\omega^{2} \\left(- \\frac{\\omega \\log{\\left(t \\right)}}{\\log{\\left(f{\\left(t \\right)} \\right)}} - 100\\right)}{\\sin{\\left(f{\\left(t \\right)} \\right)} \\cos{\\left(2 f{\\left(t \\right)} \\right)}} - \\omega - f^{3}{\\left(t \\right)}}{- \\frac{\\omega^{2}}{\\sin{\\left(f{\\left(t \\right)} \\right)} \\cos{\\left(2 f{\\left(t \\right)} \\right)}} + f{\\left(t \\right)}}}{\\sin{\\left(f{\\left(t \\right)} \\right)} \\cos{\\left(2 f{\\left(t \\right)} \\right)}}\\\\\\frac{- \\frac{\\omega^{2} \\left(- \\frac{\\omega \\log{\\left(t \\right)}}{\\log{\\left(f{\\left(t \\right)} \\right)}} - 100\\right)}{\\sin{\\left(f{\\left(t \\right)} \\right)} \\cos{\\left(2 f{\\left(t \\right)} \\right)}} - \\omega - f^{3}{\\left(t \\right)}}{- \\frac{\\omega^{2}}{\\sin{\\left(f{\\left(t \\right)} \\right)} \\cos{\\left(2 f{\\left(t \\right)} \\right)}} + f{\\left(t \\right)}}\\end{matrix}\\right]$"
      ],
      "text/plain": [
       "⎡                       2 ⎛   ω⋅log(t)      ⎞            ⎤\n",
       "⎢                      ω ⋅⎜- ───────── - 100⎟            ⎥\n",
       "⎢                         ⎝  log(f(t))      ⎠        3   ⎥\n",
       "⎢                    - ────────────────────── - ω - f (t)⎥\n",
       "⎢   ω⋅log(t)           sin(f(t))⋅cos(2⋅f(t))             ⎥\n",
       "⎢- ───────── - 100 - ────────────────────────────────────⎥\n",
       "⎢  log(f(t))                         2                   ⎥\n",
       "⎢                                   ω                    ⎥\n",
       "⎢                       - ───────────────────── + f(t)   ⎥\n",
       "⎢                         sin(f(t))⋅cos(2⋅f(t))          ⎥\n",
       "⎢────────────────────────────────────────────────────────⎥\n",
       "⎢                 sin(f(t))⋅cos(2⋅f(t))                  ⎥\n",
       "⎢                                                        ⎥\n",
       "⎢             2 ⎛   ω⋅log(t)      ⎞                      ⎥\n",
       "⎢            ω ⋅⎜- ───────── - 100⎟                      ⎥\n",
       "⎢               ⎝  log(f(t))      ⎠        3             ⎥\n",
       "⎢          - ────────────────────── - ω - f (t)          ⎥\n",
       "⎢            sin(f(t))⋅cos(2⋅f(t))                       ⎥\n",
       "⎢          ────────────────────────────────────          ⎥\n",
       "⎢                          2                             ⎥\n",
       "⎢                         ω                              ⎥\n",
       "⎢             - ───────────────────── + f(t)             ⎥\n",
       "⎣               sin(f(t))⋅cos(2⋅f(t))                    ⎦"
      ]
     },
     "execution_count": 66,
     "metadata": {},
     "output_type": "execute_result"
    }
   ],
   "source": [
    "A.LUsolve(b)"
   ]
  },
  {
   "cell_type": "code",
   "execution_count": 67,
   "id": "e0772318",
   "metadata": {
    "execution": {
     "iopub.execute_input": "2022-05-10T14:40:12.931361Z",
     "iopub.status.busy": "2022-05-10T14:40:12.930901Z",
     "iopub.status.idle": "2022-05-10T14:40:13.912498Z",
     "shell.execute_reply": "2022-05-10T14:40:13.911819Z"
    }
   },
   "outputs": [
    {
     "data": {
      "text/latex": [
       "$\\displaystyle \\left[\\begin{matrix}\\frac{- \\omega f{\\left(t \\right)} \\log{\\left(t \\right)} + \\omega \\log{\\left(f{\\left(t \\right)} \\right)} + f^{3}{\\left(t \\right)} \\log{\\left(f{\\left(t \\right)} \\right)} - 100 f{\\left(t \\right)} \\log{\\left(f{\\left(t \\right)} \\right)}}{\\left(- \\omega^{2} + f{\\left(t \\right)} \\sin{\\left(f{\\left(t \\right)} \\right)} \\cos{\\left(2 f{\\left(t \\right)} \\right)}\\right) \\log{\\left(f{\\left(t \\right)} \\right)}}\\\\\\frac{- \\omega^{2} \\left(\\omega \\log{\\left(t \\right)} + 100 \\log{\\left(f{\\left(t \\right)} \\right)}\\right) + \\left(\\omega + f^{3}{\\left(t \\right)}\\right) \\log{\\left(f{\\left(t \\right)} \\right)} \\sin{\\left(f{\\left(t \\right)} \\right)} \\cos{\\left(2 f{\\left(t \\right)} \\right)}}{\\left(\\omega^{2} - f{\\left(t \\right)} \\sin{\\left(f{\\left(t \\right)} \\right)} \\cos{\\left(2 f{\\left(t \\right)} \\right)}\\right) \\log{\\left(f{\\left(t \\right)} \\right)}}\\end{matrix}\\right]$"
      ],
      "text/plain": [
       "⎡                                     3                                       \n",
       "⎢     -ω⋅f(t)⋅log(t) + ω⋅log(f(t)) + f (t)⋅log(f(t)) - 100⋅f(t)⋅log(f(t))     \n",
       "⎢     ───────────────────────────────────────────────────────────────────     \n",
       "⎢                ⎛   2                             ⎞                          \n",
       "⎢                ⎝- ω  + f(t)⋅sin(f(t))⋅cos(2⋅f(t))⎠⋅log(f(t))                \n",
       "⎢                                                                             \n",
       "⎢   2                              ⎛     3   ⎞                                \n",
       "⎢- ω ⋅(ω⋅log(t) + 100⋅log(f(t))) + ⎝ω + f (t)⎠⋅log(f(t))⋅sin(f(t))⋅cos(2⋅f(t))\n",
       "⎢─────────────────────────────────────────────────────────────────────────────\n",
       "⎢                 ⎛ 2                             ⎞                           \n",
       "⎣                 ⎝ω  - f(t)⋅sin(f(t))⋅cos(2⋅f(t))⎠⋅log(f(t))                 \n",
       "\n",
       "⎤\n",
       "⎥\n",
       "⎥\n",
       "⎥\n",
       "⎥\n",
       "⎥\n",
       "⎥\n",
       "⎥\n",
       "⎥\n",
       "⎥\n",
       "⎦"
      ]
     },
     "execution_count": 67,
     "metadata": {},
     "output_type": "execute_result"
    }
   ],
   "source": [
    "sm.simplify(A.LUsolve(b))"
   ]
  },
  {
   "cell_type": "code",
   "execution_count": 68,
   "id": "d49bd64e",
   "metadata": {
    "execution": {
     "iopub.execute_input": "2022-05-10T14:40:13.915525Z",
     "iopub.status.busy": "2022-05-10T14:40:13.915158Z",
     "iopub.status.idle": "2022-05-10T14:40:13.945727Z",
     "shell.execute_reply": "2022-05-10T14:40:13.945071Z"
    }
   },
   "outputs": [
    {
     "data": {
      "text/latex": [
       "$\\displaystyle 1$"
      ],
      "text/plain": [
       "1"
      ]
     },
     "execution_count": 68,
     "metadata": {},
     "output_type": "execute_result"
    }
   ],
   "source": [
    "sm.trigsimp(sm.cos(omega)**2 + sm.sin(omega)**2)"
   ]
  },
  {
   "cell_type": "code",
   "execution_count": 69,
   "id": "a391ff8a",
   "metadata": {
    "execution": {
     "iopub.execute_input": "2022-05-10T14:40:13.948382Z",
     "iopub.status.busy": "2022-05-10T14:40:13.948030Z",
     "iopub.status.idle": "2022-05-10T14:40:13.969375Z",
     "shell.execute_reply": "2022-05-10T14:40:13.968814Z"
    }
   },
   "outputs": [],
   "source": [
    "substitutions, simplified = sm.cse(A.LUsolve(b))"
   ]
  },
  {
   "cell_type": "code",
   "execution_count": 70,
   "id": "91d087be",
   "metadata": {
    "execution": {
     "iopub.execute_input": "2022-05-10T14:40:13.971944Z",
     "iopub.status.busy": "2022-05-10T14:40:13.971441Z",
     "iopub.status.idle": "2022-05-10T14:40:13.976094Z",
     "shell.execute_reply": "2022-05-10T14:40:13.975512Z"
    }
   },
   "outputs": [
    {
     "data": {
      "text/latex": [
       "$\\displaystyle \\left( x_{0}, \\  f{\\left(t \\right)}\\right)$"
      ],
      "text/plain": [
       "(x₀, f(t))"
      ]
     },
     "execution_count": 70,
     "metadata": {},
     "output_type": "execute_result"
    }
   ],
   "source": [
    "substitutions[0]"
   ]
  },
  {
   "cell_type": "code",
   "execution_count": 71,
   "id": "d7238ac9",
   "metadata": {
    "execution": {
     "iopub.execute_input": "2022-05-10T14:40:13.979412Z",
     "iopub.status.busy": "2022-05-10T14:40:13.978879Z",
     "iopub.status.idle": "2022-05-10T14:40:13.985497Z",
     "shell.execute_reply": "2022-05-10T14:40:13.984854Z"
    }
   },
   "outputs": [
    {
     "data": {
      "text/latex": [
       "$\\displaystyle x_{0} = f{\\left(t \\right)}$"
      ],
      "text/plain": [
       "x₀ = f(t)"
      ]
     },
     "execution_count": 71,
     "metadata": {},
     "output_type": "execute_result"
    }
   ],
   "source": [
    "sm.Eq(*substitutions[0])"
   ]
  },
  {
   "cell_type": "code",
   "execution_count": 72,
   "id": "391055ac",
   "metadata": {
    "execution": {
     "iopub.execute_input": "2022-05-10T14:40:13.988059Z",
     "iopub.status.busy": "2022-05-10T14:40:13.987741Z",
     "iopub.status.idle": "2022-05-10T14:40:13.999843Z",
     "shell.execute_reply": "2022-05-10T14:40:13.999347Z"
    }
   },
   "outputs": [
    {
     "data": {
      "text/latex": [
       "$\\displaystyle x_{1} = \\frac{1}{\\sin{\\left(x_{0} \\right)} \\cos{\\left(2 x_{0} \\right)}}$"
      ],
      "text/plain": [
       "             1        \n",
       "x₁ = ─────────────────\n",
       "     sin(x₀)⋅cos(2⋅x₀)"
      ]
     },
     "execution_count": 72,
     "metadata": {},
     "output_type": "execute_result"
    }
   ],
   "source": [
    "sm.Eq(*substitutions[1])"
   ]
  },
  {
   "cell_type": "code",
   "execution_count": 73,
   "id": "41d8697a",
   "metadata": {
    "execution": {
     "iopub.execute_input": "2022-05-10T14:40:14.002436Z",
     "iopub.status.busy": "2022-05-10T14:40:14.002093Z",
     "iopub.status.idle": "2022-05-10T14:40:14.010443Z",
     "shell.execute_reply": "2022-05-10T14:40:14.009949Z"
    }
   },
   "outputs": [
    {
     "data": {
      "text/latex": [
       "$\\displaystyle x_{2} = \\omega^{2} x_{1}$"
      ],
      "text/plain": [
       "      2   \n",
       "x₂ = ω ⋅x₁"
      ]
     },
     "execution_count": 73,
     "metadata": {},
     "output_type": "execute_result"
    }
   ],
   "source": [
    "sm.Eq(*substitutions[2])"
   ]
  },
  {
   "cell_type": "code",
   "execution_count": 74,
   "id": "d574cd7c",
   "metadata": {
    "execution": {
     "iopub.execute_input": "2022-05-10T14:40:14.013195Z",
     "iopub.status.busy": "2022-05-10T14:40:14.012744Z",
     "iopub.status.idle": "2022-05-10T14:40:14.026242Z",
     "shell.execute_reply": "2022-05-10T14:40:14.025748Z"
    }
   },
   "outputs": [
    {
     "data": {
      "text/latex": [
       "$\\displaystyle x_{4} = \\frac{- \\omega - x_{0}^{3} + x_{2} x_{3}}{x_{0} - x_{2}}$"
      ],
      "text/plain": [
       "            3        \n",
       "     -ω - x₀  + x₂⋅x₃\n",
       "x₄ = ────────────────\n",
       "         x₀ - x₂     "
      ]
     },
     "execution_count": 74,
     "metadata": {},
     "output_type": "execute_result"
    }
   ],
   "source": [
    "sm.Eq(*substitutions[4])"
   ]
  },
  {
   "cell_type": "code",
   "execution_count": 75,
   "id": "c16e8f2e",
   "metadata": {
    "execution": {
     "iopub.execute_input": "2022-05-10T14:40:14.028937Z",
     "iopub.status.busy": "2022-05-10T14:40:14.028456Z",
     "iopub.status.idle": "2022-05-10T14:40:14.036165Z",
     "shell.execute_reply": "2022-05-10T14:40:14.035656Z"
    }
   },
   "outputs": [
    {
     "data": {
      "text/latex": [
       "$\\displaystyle \\left[\\begin{matrix}x_{1} \\left(- x_{3} - x_{4}\\right)\\\\x_{4}\\end{matrix}\\right]$"
      ],
      "text/plain": [
       "⎡x₁⋅(-x₃ - x₄)⎤\n",
       "⎢             ⎥\n",
       "⎣     x₄      ⎦"
      ]
     },
     "execution_count": 75,
     "metadata": {},
     "output_type": "execute_result"
    }
   ],
   "source": [
    "simplified[0]"
   ]
  }
 ],
 "metadata": {
  "kernelspec": {
   "display_name": "Python 3 (ipykernel)",
   "language": "python",
   "name": "python3"
  },
  "language_info": {
   "codemirror_mode": {
    "name": "ipython",
    "version": 3
   },
   "file_extension": ".py",
   "mimetype": "text/x-python",
   "name": "python",
   "nbconvert_exporter": "python",
   "pygments_lexer": "ipython3",
   "version": "3.9.12"
  }
 },
 "nbformat": 4,
 "nbformat_minor": 5
}