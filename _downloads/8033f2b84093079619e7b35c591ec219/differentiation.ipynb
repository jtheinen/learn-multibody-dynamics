{
 "cells": [
  {
   "cell_type": "code",
   "execution_count": 1,
   "id": "637c473b",
   "metadata": {
    "execution": {
     "iopub.execute_input": "2022-05-10T14:39:17.402017Z",
     "iopub.status.busy": "2022-05-10T14:39:17.401756Z",
     "iopub.status.idle": "2022-05-10T14:39:17.927075Z",
     "shell.execute_reply": "2022-05-10T14:39:17.926450Z"
    }
   },
   "outputs": [],
   "source": [
    "import sympy as sm\n",
    "import sympy.physics.mechanics as me\n",
    "sm.init_printing(use_latex='mathjax')"
   ]
  },
  {
   "cell_type": "code",
   "execution_count": 2,
   "id": "9e1467eb",
   "metadata": {
    "execution": {
     "iopub.execute_input": "2022-05-10T14:39:17.930369Z",
     "iopub.status.busy": "2022-05-10T14:39:17.930085Z",
     "iopub.status.idle": "2022-05-10T14:39:17.949146Z",
     "shell.execute_reply": "2022-05-10T14:39:17.948585Z"
    }
   },
   "outputs": [
    {
     "data": {
      "text/latex": [
       "$\\displaystyle a\\mathbf{\\hat{a}_x} + b\\mathbf{\\hat{a}_y} + c\\mathbf{\\hat{b}_x} + d\\mathbf{\\hat{b}_y} + e\\mathbf{\\hat{c}_x} + f\\mathbf{\\hat{c}_y}$"
      ],
      "text/plain": [
       "a a_x + b a_y + c b_x + d b_y + e c_x + f c_y"
      ]
     },
     "execution_count": 2,
     "metadata": {},
     "output_type": "execute_result"
    }
   ],
   "source": [
    "alpha, beta = sm.symbols('alpha, beta')\n",
    "a, b, c, d, e, f = sm.symbols('a, b, c, d, e, f')\n",
    "\n",
    "A = me.ReferenceFrame('A')\n",
    "B = me.ReferenceFrame('B')\n",
    "C = me.ReferenceFrame('C')\n",
    "\n",
    "B.orient_axis(A, alpha, A.x)\n",
    "C.orient_axis(B, beta, B.y)\n",
    "\n",
    "v = a*A.x + b*A.y + c*B.x + d*B.y + e*C.x + f*C.y\n",
    "v"
   ]
  },
  {
   "cell_type": "code",
   "execution_count": 3,
   "id": "3673200f",
   "metadata": {
    "execution": {
     "iopub.execute_input": "2022-05-10T14:39:17.951917Z",
     "iopub.status.busy": "2022-05-10T14:39:17.951492Z",
     "iopub.status.idle": "2022-05-10T14:39:17.960260Z",
     "shell.execute_reply": "2022-05-10T14:39:17.959713Z"
    }
   },
   "outputs": [
    {
     "data": {
      "text/latex": [
       "$\\displaystyle 0$"
      ],
      "text/plain": [
       "0"
      ]
     },
     "execution_count": 3,
     "metadata": {},
     "output_type": "execute_result"
    }
   ],
   "source": [
    "dvdax = v.dot(A.x).diff(alpha)\n",
    "dvdax"
   ]
  },
  {
   "cell_type": "code",
   "execution_count": 4,
   "id": "d76084c2",
   "metadata": {
    "execution": {
     "iopub.execute_input": "2022-05-10T14:39:17.962923Z",
     "iopub.status.busy": "2022-05-10T14:39:17.962464Z",
     "iopub.status.idle": "2022-05-10T14:39:17.976433Z",
     "shell.execute_reply": "2022-05-10T14:39:17.975881Z"
    }
   },
   "outputs": [
    {
     "data": {
      "text/latex": [
       "$\\displaystyle - d \\sin{\\left(\\alpha \\right)} + e \\sin{\\left(\\beta \\right)} \\cos{\\left(\\alpha \\right)} - f \\sin{\\left(\\alpha \\right)}$"
      ],
      "text/plain": [
       "-d⋅sin(α) + e⋅sin(β)⋅cos(α) - f⋅sin(α)"
      ]
     },
     "execution_count": 4,
     "metadata": {},
     "output_type": "execute_result"
    }
   ],
   "source": [
    "dvday = v.dot(A.y).diff(alpha)\n",
    "dvday"
   ]
  },
  {
   "cell_type": "code",
   "execution_count": 5,
   "id": "f0fd3912",
   "metadata": {
    "execution": {
     "iopub.execute_input": "2022-05-10T14:39:17.978953Z",
     "iopub.status.busy": "2022-05-10T14:39:17.978484Z",
     "iopub.status.idle": "2022-05-10T14:39:17.991018Z",
     "shell.execute_reply": "2022-05-10T14:39:17.990492Z"
    }
   },
   "outputs": [
    {
     "data": {
      "text/latex": [
       "$\\displaystyle d \\cos{\\left(\\alpha \\right)} + e \\sin{\\left(\\alpha \\right)} \\sin{\\left(\\beta \\right)} + f \\cos{\\left(\\alpha \\right)}$"
      ],
      "text/plain": [
       "d⋅cos(α) + e⋅sin(α)⋅sin(β) + f⋅cos(α)"
      ]
     },
     "execution_count": 5,
     "metadata": {},
     "output_type": "execute_result"
    }
   ],
   "source": [
    "dvdaz = v.dot(A.z).diff(alpha)\n",
    "dvdaz"
   ]
  },
  {
   "cell_type": "code",
   "execution_count": 6,
   "id": "21cfad4f",
   "metadata": {
    "execution": {
     "iopub.execute_input": "2022-05-10T14:39:17.993407Z",
     "iopub.status.busy": "2022-05-10T14:39:17.993085Z",
     "iopub.status.idle": "2022-05-10T14:39:18.001897Z",
     "shell.execute_reply": "2022-05-10T14:39:18.001340Z"
    }
   },
   "outputs": [
    {
     "data": {
      "text/latex": [
       "$\\displaystyle (- d \\sin{\\left(\\alpha \\right)} + e \\sin{\\left(\\beta \\right)} \\cos{\\left(\\alpha \\right)} - f \\sin{\\left(\\alpha \\right)})\\mathbf{\\hat{a}_y} + (d \\cos{\\left(\\alpha \\right)} + e \\sin{\\left(\\alpha \\right)} \\sin{\\left(\\beta \\right)} + f \\cos{\\left(\\alpha \\right)})\\mathbf{\\hat{a}_z}$"
      ],
      "text/plain": [
       "(-d⋅sin(α) + e⋅sin(β)⋅cos(α) - f⋅sin(α)) a_y + (d⋅cos(α) + e⋅sin(α)⋅sin(β) + f\n",
       "⋅cos(α)) a_z"
      ]
     },
     "execution_count": 6,
     "metadata": {},
     "output_type": "execute_result"
    }
   ],
   "source": [
    "dvda = dvdax*A.x + dvday*A.y + dvdaz*A.z\n",
    "dvda"
   ]
  },
  {
   "cell_type": "code",
   "execution_count": 7,
   "id": "83b50e43",
   "metadata": {
    "execution": {
     "iopub.execute_input": "2022-05-10T14:39:18.004779Z",
     "iopub.status.busy": "2022-05-10T14:39:18.004320Z",
     "iopub.status.idle": "2022-05-10T14:39:18.046795Z",
     "shell.execute_reply": "2022-05-10T14:39:18.046184Z"
    }
   },
   "outputs": [
    {
     "data": {
      "text/latex": [
       "$\\displaystyle (d \\sin^{2}{\\left(\\alpha \\right)} + d \\cos^{2}{\\left(\\alpha \\right)})\\mathbf{\\hat{b}_z} + (- \\left(e \\sin{\\left(\\alpha \\right)} \\sin{\\left(\\beta \\right)} + f \\cos{\\left(\\alpha \\right)}\\right) \\sin{\\left(\\beta \\right)} \\cos{\\left(\\alpha \\right)} + \\left(e \\sin{\\left(\\beta \\right)} \\cos{\\left(\\alpha \\right)} - f \\sin{\\left(\\alpha \\right)}\\right) \\sin{\\left(\\alpha \\right)} \\sin{\\left(\\beta \\right)})\\mathbf{\\hat{c}_x} + (\\left(e \\sin{\\left(\\alpha \\right)} \\sin{\\left(\\beta \\right)} + f \\cos{\\left(\\alpha \\right)}\\right) \\sin{\\left(\\alpha \\right)} + \\left(e \\sin{\\left(\\beta \\right)} \\cos{\\left(\\alpha \\right)} - f \\sin{\\left(\\alpha \\right)}\\right) \\cos{\\left(\\alpha \\right)})\\mathbf{\\hat{c}_y} + (\\left(e \\sin{\\left(\\alpha \\right)} \\sin{\\left(\\beta \\right)} + f \\cos{\\left(\\alpha \\right)}\\right) \\cos{\\left(\\alpha \\right)} \\cos{\\left(\\beta \\right)} - \\left(e \\sin{\\left(\\beta \\right)} \\cos{\\left(\\alpha \\right)} - f \\sin{\\left(\\alpha \\right)}\\right) \\sin{\\left(\\alpha \\right)} \\cos{\\left(\\beta \\right)})\\mathbf{\\hat{c}_z}$"
      ],
      "text/plain": [
       "⎛     2           2   ⎞\n",
       "⎝d⋅sin (α) + d⋅cos (α)⎠ b_z + (-(e⋅sin(α)⋅sin(β) + f⋅cos(α))⋅sin(β)⋅cos(α) + (\n",
       "\n",
       "\n",
       "e⋅sin(β)⋅cos(α) - f⋅sin(α))⋅sin(α)⋅sin(β)) c_x + ((e⋅sin(α)⋅sin(β) + f⋅cos(α))\n",
       "\n",
       "\n",
       "⋅sin(α) + (e⋅sin(β)⋅cos(α) - f⋅sin(α))⋅cos(α)) c_y + ((e⋅sin(α)⋅sin(β) + f⋅cos\n",
       "\n",
       "\n",
       "(α))⋅cos(α)⋅cos(β) - (e⋅sin(β)⋅cos(α) - f⋅sin(α))⋅sin(α)⋅cos(β)) c_z"
      ]
     },
     "execution_count": 7,
     "metadata": {},
     "output_type": "execute_result"
    }
   ],
   "source": [
    "dvdalpha = v.diff(alpha, A)\n",
    "dvdalpha"
   ]
  },
  {
   "cell_type": "code",
   "execution_count": 8,
   "id": "4df6d147",
   "metadata": {
    "execution": {
     "iopub.execute_input": "2022-05-10T14:39:18.049526Z",
     "iopub.status.busy": "2022-05-10T14:39:18.049020Z",
     "iopub.status.idle": "2022-05-10T14:39:18.271266Z",
     "shell.execute_reply": "2022-05-10T14:39:18.270594Z"
    }
   },
   "outputs": [
    {
     "data": {
      "text/latex": [
       "$\\displaystyle d\\mathbf{\\hat{b}_z} -  f \\sin{\\left(\\beta \\right)}\\mathbf{\\hat{c}_x} + e \\sin{\\left(\\beta \\right)}\\mathbf{\\hat{c}_y} + f \\cos{\\left(\\beta \\right)}\\mathbf{\\hat{c}_z}$"
      ],
      "text/plain": [
       "d b_z + -f⋅sin(β) c_x + e⋅sin(β) c_y + f⋅cos(β) c_z"
      ]
     },
     "execution_count": 8,
     "metadata": {},
     "output_type": "execute_result"
    }
   ],
   "source": [
    "v.diff(alpha, A).simplify()"
   ]
  },
  {
   "cell_type": "code",
   "execution_count": 9,
   "id": "e6850413",
   "metadata": {
    "execution": {
     "iopub.execute_input": "2022-05-10T14:39:18.274313Z",
     "iopub.status.busy": "2022-05-10T14:39:18.273807Z",
     "iopub.status.idle": "2022-05-10T14:39:19.248993Z",
     "shell.execute_reply": "2022-05-10T14:39:19.248340Z"
    }
   },
   "outputs": [
    {
     "data": {
      "text/latex": [
       "$\\displaystyle (- d \\sin{\\left(\\alpha \\right)} + e \\sin{\\left(\\beta \\right)} \\cos{\\left(\\alpha \\right)} - f \\sin{\\left(\\alpha \\right)})\\mathbf{\\hat{a}_y} + (d \\cos{\\left(\\alpha \\right)} + e \\sin{\\left(\\alpha \\right)} \\sin{\\left(\\beta \\right)} + f \\cos{\\left(\\alpha \\right)})\\mathbf{\\hat{a}_z}$"
      ],
      "text/plain": [
       "(-d⋅sin(α) + e⋅sin(β)⋅cos(α) - f⋅sin(α)) a_y + (d⋅cos(α) + e⋅sin(α)⋅sin(β) + f\n",
       "⋅cos(α)) a_z"
      ]
     },
     "execution_count": 9,
     "metadata": {},
     "output_type": "execute_result"
    }
   ],
   "source": [
    "v.diff(alpha, A).express(A).simplify()"
   ]
  },
  {
   "cell_type": "code",
   "execution_count": 10,
   "id": "635e1a0e",
   "metadata": {
    "execution": {
     "iopub.execute_input": "2022-05-10T14:39:19.251980Z",
     "iopub.status.busy": "2022-05-10T14:39:19.251618Z",
     "iopub.status.idle": "2022-05-10T14:39:19.256814Z",
     "shell.execute_reply": "2022-05-10T14:39:19.256408Z"
    }
   },
   "outputs": [
    {
     "data": {
      "text/latex": [
       "$\\displaystyle q{\\left(t \\right)}$"
      ],
      "text/plain": [
       "q(t)"
      ]
     },
     "execution_count": 10,
     "metadata": {},
     "output_type": "execute_result"
    }
   ],
   "source": [
    "t = sm.symbols('t')\n",
    "q_of = sm.Function('q')\n",
    "\n",
    "q = q_of(t)\n",
    "q"
   ]
  },
  {
   "cell_type": "code",
   "execution_count": 11,
   "id": "0c997a92",
   "metadata": {
    "execution": {
     "iopub.execute_input": "2022-05-10T14:39:19.259195Z",
     "iopub.status.busy": "2022-05-10T14:39:19.258801Z",
     "iopub.status.idle": "2022-05-10T14:39:19.263812Z",
     "shell.execute_reply": "2022-05-10T14:39:19.263218Z"
    }
   },
   "outputs": [
    {
     "data": {
      "text/latex": [
       "$\\displaystyle \\frac{d}{d t} q{\\left(t \\right)}$"
      ],
      "text/plain": [
       "d       \n",
       "──(q(t))\n",
       "dt      "
      ]
     },
     "execution_count": 11,
     "metadata": {},
     "output_type": "execute_result"
    }
   ],
   "source": [
    "q.diff(t)"
   ]
  },
  {
   "cell_type": "code",
   "execution_count": 12,
   "id": "8abcc216",
   "metadata": {
    "execution": {
     "iopub.execute_input": "2022-05-10T14:39:19.266767Z",
     "iopub.status.busy": "2022-05-10T14:39:19.266309Z",
     "iopub.status.idle": "2022-05-10T14:39:19.271835Z",
     "shell.execute_reply": "2022-05-10T14:39:19.271297Z"
    }
   },
   "outputs": [
    {
     "data": {
      "text/latex": [
       "$\\displaystyle \\left( \\operatorname{q_{1}}{\\left(t \\right)}, \\  \\operatorname{q_{2}}{\\left(t \\right)}, \\  \\operatorname{q_{3}}{\\left(t \\right)}\\right)$"
      ],
      "text/plain": [
       "(q₁(t), q₂(t), q₃(t))"
      ]
     },
     "execution_count": 12,
     "metadata": {},
     "output_type": "execute_result"
    }
   ],
   "source": [
    "q1, q2, q3 = me.dynamicsymbols('q1, q2, q3')\n",
    "q1, q2, q3"
   ]
  },
  {
   "cell_type": "code",
   "execution_count": 13,
   "id": "a7b9aefe",
   "metadata": {
    "execution": {
     "iopub.execute_input": "2022-05-10T14:39:19.274741Z",
     "iopub.status.busy": "2022-05-10T14:39:19.274284Z",
     "iopub.status.idle": "2022-05-10T14:39:19.277095Z",
     "shell.execute_reply": "2022-05-10T14:39:19.276540Z"
    }
   },
   "outputs": [],
   "source": [
    "t = me.dynamicsymbols._t"
   ]
  },
  {
   "cell_type": "code",
   "execution_count": 14,
   "id": "2bebca4d",
   "metadata": {
    "execution": {
     "iopub.execute_input": "2022-05-10T14:39:19.279508Z",
     "iopub.status.busy": "2022-05-10T14:39:19.279044Z",
     "iopub.status.idle": "2022-05-10T14:39:19.287865Z",
     "shell.execute_reply": "2022-05-10T14:39:19.287325Z"
    }
   },
   "outputs": [
    {
     "data": {
      "text/latex": [
       "$\\displaystyle \\left( \\dot{q}_{1}, \\  \\ddot{q}_{2}, \\  \\dddot{q}_{3}\\right)$"
      ],
      "text/plain": [
       "(q₁̇, q₂̈, q₃⃛)"
      ]
     },
     "execution_count": 14,
     "metadata": {},
     "output_type": "execute_result"
    }
   ],
   "source": [
    "me.init_vprinting(use_latex='mathjax')\n",
    "q1.diff(t), q2.diff(t, 2), q3.diff(t, 3)"
   ]
  },
  {
   "cell_type": "code",
   "execution_count": 15,
   "id": "b1dcdddb",
   "metadata": {
    "execution": {
     "iopub.execute_input": "2022-05-10T14:39:19.290384Z",
     "iopub.status.busy": "2022-05-10T14:39:19.289930Z",
     "iopub.status.idle": "2022-05-10T14:39:19.436716Z",
     "shell.execute_reply": "2022-05-10T14:39:19.436084Z"
    }
   },
   "outputs": [
    {
     "data": {
      "text/latex": [
       "$\\displaystyle q_{1}\\mathbf{\\hat{a}_x} + q_{2}\\mathbf{\\hat{a}_y} + t^{2}\\mathbf{\\hat{a}_z}$"
      ],
      "text/plain": [
       "                   2\n",
       "q₁ a_x + q₂ a_y + t  a_z"
      ]
     },
     "execution_count": 15,
     "metadata": {},
     "output_type": "execute_result"
    }
   ],
   "source": [
    "A = me.ReferenceFrame('A')\n",
    "B = me.ReferenceFrame('B')\n",
    "B.orient_body_fixed(A, (q1, q2, q3), 'ZXZ')\n",
    "v = q1*A.x + q2*A.y + t**2*A.z\n",
    "v"
   ]
  },
  {
   "cell_type": "code",
   "execution_count": 16,
   "id": "27156126",
   "metadata": {
    "execution": {
     "iopub.execute_input": "2022-05-10T14:39:19.439829Z",
     "iopub.status.busy": "2022-05-10T14:39:19.439239Z",
     "iopub.status.idle": "2022-05-10T14:39:19.448925Z",
     "shell.execute_reply": "2022-05-10T14:39:19.448401Z"
    }
   },
   "outputs": [
    {
     "data": {
      "text/latex": [
       "$\\displaystyle \\dot{q}_{1}\\mathbf{\\hat{a}_x} + \\dot{q}_{2}\\mathbf{\\hat{a}_y} + 2 t\\mathbf{\\hat{a}_z}$"
      ],
      "text/plain": [
       "q₁̇ a_x + q₂̇ a_y + 2⋅t a_z"
      ]
     },
     "execution_count": 16,
     "metadata": {},
     "output_type": "execute_result"
    }
   ],
   "source": [
    "v.diff(t, A)"
   ]
  },
  {
   "cell_type": "code",
   "execution_count": 17,
   "id": "e62fa8be",
   "metadata": {
    "execution": {
     "iopub.execute_input": "2022-05-10T14:39:19.451479Z",
     "iopub.status.busy": "2022-05-10T14:39:19.451020Z",
     "iopub.status.idle": "2022-05-10T14:39:19.458072Z",
     "shell.execute_reply": "2022-05-10T14:39:19.457531Z"
    }
   },
   "outputs": [
    {
     "data": {
      "text/latex": [
       "$\\displaystyle \\dot{q}_{1}\\mathbf{\\hat{a}_x} + \\dot{q}_{2}\\mathbf{\\hat{a}_y} + 2 t\\mathbf{\\hat{a}_z}$"
      ],
      "text/plain": [
       "q₁̇ a_x + q₂̇ a_y + 2⋅t a_z"
      ]
     },
     "execution_count": 17,
     "metadata": {},
     "output_type": "execute_result"
    }
   ],
   "source": [
    "v.dt(A)"
   ]
  }
 ],
 "metadata": {
  "kernelspec": {
   "display_name": "Python 3 (ipykernel)",
   "language": "python",
   "name": "python3"
  },
  "language_info": {
   "codemirror_mode": {
    "name": "ipython",
    "version": 3
   },
   "file_extension": ".py",
   "mimetype": "text/x-python",
   "name": "python",
   "nbconvert_exporter": "python",
   "pygments_lexer": "ipython3",
   "version": "3.9.12"
  }
 },
 "nbformat": 4,
 "nbformat_minor": 5
}